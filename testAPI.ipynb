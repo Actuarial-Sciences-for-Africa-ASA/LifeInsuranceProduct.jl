{
 "cells": [
  {
   "cell_type": "code",
   "execution_count": null,
   "metadata": {},
   "outputs": [],
   "source": [
    "using LifeInsuranceDataModel\n",
    "using ToStruct\n",
    "\n",
    "pisDict = Dict{String,Any}(\n",
    "    \"tariff_items\" => Any[\n",
    "        Dict{String,Any}(\"tariff_ref\" => Dict{String,Any}(\"rev\" => Dict{String,Any}(\"ref_validfrom\" => Dict{String,Any}(\"value\" => 8), \"ref_invalidfrom\" => Dict{String,Any}(\"value\" => 9223372036854775807), \"ref_component\" => Dict{String,Any}(\"value\" => 1), \"id\" => Dict{String,Any}(\"value\" => 1), \"ref_role\" => Dict{String,Any}(\"value\" => 1), \"description\" => \"Life Risk tariff parameters\", \"ref_tariff\" => Dict{String,Any}(\"value\" => 1)), \"ref\" => Dict{String,Any}(\"tsdb_validfrom\" => \"2022-07-23T09:03:31.294+00:00\", \"ref_history\" => Dict{String,Any}(\"value\" => 9223372036854775807), \"revision\" => Dict{String,Any}(\"ref_validfrom\" => Dict{String,Any}(\"value\" => 2), \"ref_invalidfrom\" => Dict{String,Any}(\"value\" => 9223372036854775807), \"ref_component\" => Dict{String,Any}(\"value\" => 1), \"id\" => Dict{String,Any}(\"value\" => 1), \"description\" => \"Life Risk Insurance\"), \"ref_version\" => Dict{String,Any}(\"value\" => 9223372036854775807), \"tsw_validfrom\" => \"2022-07-23T09:03:31.294+00:00\")), \"partner_refs\" => Any[Dict{String,Any}(\"rev\" => Dict{String,Any}(\"ref_validfrom\" => Dict{String,Any}(\"value\" => 8), \"ref_invalidfrom\" => Dict{String,Any}(\"value\" => 9223372036854775807), \"ref_partner\" => Dict{String,Any}(\"value\" => 1), \"ref_component\" => Dict{String,Any}(\"value\" => 1), \"id\" => Dict{String,Any}(\"value\" => 1), \"ref_role\" => Dict{String,Any}(\"value\" => 1), \"description\" => \"partner 1 ref properties\"), \"ref\" => Dict{String,Any}(\"tsdb_validfrom\" => \"2022-07-23T09:03:31.304+00:00\", \"ref_history\" => Dict{String,Any}(\"value\" => 9223372036854775807), \"revision\" => Dict{String,Any}(\"ref_validfrom\" => Dict{String,Any}(\"value\" => 1), \"ref_invalidfrom\" => Dict{String,Any}(\"value\" => 9223372036854775807), \"ref_component\" => Dict{String,Any}(\"value\" => 1), \"id\" => Dict{String,Any}(\"value\" => 1), \"description\" => \"Partner 1\"), \"ref_version\" => Dict{String,Any}(\"value\" => 9223372036854775807), \"tsw_validfrom\" => \"2022-07-23T09:03:31.304+00:00\"))]),\n",
    "        Dict{String,Any}(\"tariff_ref\" => Dict{String,Any}(\"rev\" => Dict{String,Any}(\"ref_validfrom\" => Dict{String,Any}(\"value\" => 8), \"ref_invalidfrom\" => Dict{String,Any}(\"value\" => 9223372036854775807), \"ref_component\" => Dict{String,Any}(\"value\" => 2), \"id\" => Dict{String,Any}(\"value\" => 2), \"ref_role\" => Dict{String,Any}(\"value\" => 4), \"description\" => \"Profit participation tariff parameters\", \"ref_tariff\" => Dict{String,Any}(\"value\" => 4)), \"ref\" => Dict{String,Any}(\"tsdb_validfrom\" => \"2022-07-23T09:03:31.321+00:00\", \"ref_history\" => Dict{String,Any}(\"value\" => 9223372036854775807), \"revision\" => Dict{String,Any}(\"ref_validfrom\" => Dict{String,Any}(\"value\" => 5), \"ref_invalidfrom\" => Dict{String,Any}(\"value\" => 9223372036854775807), \"ref_component\" => Dict{String,Any}(\"value\" => 4), \"id\" => Dict{String,Any}(\"value\" => 4), \"description\" => \"Profit participation\"), \"ref_version\" => Dict{String,Any}(\"value\" => 9223372036854775807), \"tsw_validfrom\" => \"2022-07-23T09:03:31.321+00:00\")), \"partner_refs\" => Any[Dict{String,Any}(\"rev\" => Dict{String,Any}(\"ref_validfrom\" => Dict{String,Any}(\"value\" => 8), \"ref_invalidfrom\" => Dict{String,Any}(\"value\" => 9223372036854775807), \"ref_partner\" => Dict{String,Any}(\"value\" => 1), \"ref_component\" => Dict{String,Any}(\"value\" => 2), \"id\" => Dict{String,Any}(\"value\" => 2), \"ref_role\" => Dict{String,Any}(\"value\" => 1), \"description\" => \"partner 1 ref properties\"), \"ref\" => Dict{String,Any}(\"tsdb_validfrom\" => \"2022-07-23T09:03:31.330+00:00\", \"ref_history\" => Dict{String,Any}(\"value\" => 9223372036854775807), \"revision\" => Dict{String,Any}(\"ref_validfrom\" => Dict{String,Any}(\"value\" => 1), \"ref_invalidfrom\" => Dict{String,Any}(\"value\" => 9223372036854775807), \"ref_component\" => Dict{String,Any}(\"value\" => 1), \"id\" => Dict{String,Any}(\"value\" => 1), \"description\" => \"Partner 1\"), \"ref_version\" => Dict{String,Any}(\"value\" => 9223372036854775807), \"tsw_validfrom\" => \"2022-07-23T09:03:31.330+00:00\"))]),\n",
    "        Dict{String,Any}(\"tariff_ref\" => Dict{String,Any}(\"rev\" => Dict{String,Any}(\"ref_validfrom\" => Dict{String,Any}(\"value\" => 8), \"ref_invalidfrom\" => Dict{String,Any}(\"value\" => 9223372036854775807), \"ref_component\" => Dict{String,Any}(\"value\" => 3), \"id\" => Dict{String,Any}(\"value\" => 3), \"ref_role\" => Dict{String,Any}(\"value\" => 3), \"description\" => \"Terminal Illness tariff parameters\", \"ref_tariff\" => Dict{String,Any}(\"value\" => 2)), \"ref\" => Dict{String,Any}(\"tsdb_validfrom\" => \"2022-07-23T09:03:31.346+00:00\", \"ref_history\" => Dict{String,Any}(\"value\" => 9223372036854775807), \"revision\" => Dict{String,Any}(\"ref_validfrom\" => Dict{String,Any}(\"value\" => 3), \"ref_invalidfrom\" => Dict{String,Any}(\"value\" => 9223372036854775807), \"ref_component\" => Dict{String,Any}(\"value\" => 2), \"id\" => Dict{String,Any}(\"value\" => 2), \"description\" => \"Terminal Illness\"), \"ref_version\" => Dict{String,Any}(\"value\" => 9223372036854775807), \"tsw_validfrom\" => \"2022-07-23T09:03:31.346+00:00\")), \"partner_refs\" => Any[Dict{String,Any}(\"rev\" => Dict{String,Any}(\"ref_validfrom\" => Dict{String,Any}(\"value\" => 8), \"ref_invalidfrom\" => Dict{String,Any}(\"value\" => 9223372036854775807), \"ref_partner\" => Dict{String,Any}(\"value\" => 1), \"ref_component\" => Dict{String,Any}(\"value\" => 3), \"id\" => Dict{String,Any}(\"value\" => 3), \"ref_role\" => Dict{String,Any}(\"value\" => 1), \"description\" => \"partner 1 ref properties\"), \"ref\" => Dict{String,Any}(\"tsdb_validfrom\" => \"2022-07-23T09:03:31.362+00:00\", \"ref_history\" => Dict{String,Any}(\"value\" => 9223372036854775807), \"revision\" => Dict{String,Any}(\"ref_validfrom\" => Dict{String,Any}(\"value\" => 1), \"ref_invalidfrom\" => Dict{String,Any}(\"value\" => 9223372036854775807), \"ref_component\" => Dict{String,Any}(\"value\" => 1), \"id\" => Dict{String,Any}(\"value\" => 1), \"description\" => \"Partner 1\"), \"ref_version\" => Dict{String,Any}(\"value\" => 9223372036854775807), \"tsw_validfrom\" => \"2022-07-23T09:03:31.362+00:00\"))]),\n",
    "        Dict{String,Any}(\"tariff_ref\" => Dict{String,Any}(\"rev\" => Dict{String,Any}(\"ref_validfrom\" => Dict{String,Any}(\"value\" => 8), \"ref_invalidfrom\" => Dict{String,Any}(\"value\" => 9223372036854775807), \"ref_component\" => Dict{String,Any}(\"value\" => 4), \"id\" => Dict{String,Any}(\"value\" => 4), \"ref_role\" => Dict{String,Any}(\"value\" => 4), \"description\" => \"Profitparticipation tariff parameters\", \"ref_tariff\" => Dict{String,Any}(\"value\" => 4)), \"ref\" => Dict{String,Any}(\"tsdb_validfrom\" => \"2022-07-23T09:03:31.373+00:00\", \"ref_history\" => Dict{String,Any}(\"value\" => 9223372036854775807), \"revision\" => Dict{String,Any}(\"ref_validfrom\" => Dict{String,Any}(\"value\" => 5), \"ref_invalidfrom\" => Dict{String,Any}(\"value\" => 9223372036854775807), \"ref_component\" => Dict{String,Any}(\"value\" => 4), \"id\" => Dict{String,Any}(\"value\" => 4), \"description\" => \"Profit participation\"), \"ref_version\" => Dict{String,Any}(\"value\" => 9223372036854775807), \"tsw_validfrom\" => \"2022-07-23T09:03:31.373+00:00\")), \"partner_refs\" => Any[Dict{String,Any}(\"rev\" => Dict{String,Any}(\"ref_validfrom\" => Dict{String,Any}(\"value\" => 8), \"ref_invalidfrom\" => Dict{String,Any}(\"value\" => 9223372036854775807), \"ref_partner\" => Dict{String,Any}(\"value\" => 1), \"ref_component\" => Dict{String,Any}(\"value\" => 4), \"id\" => Dict{String,Any}(\"value\" => 4), \"ref_role\" => Dict{String,Any}(\"value\" => 1), \"description\" => \"partner 1 ref properties\"), \"ref\" => Dict{String,Any}(\"tsdb_validfrom\" => \"2022-07-23T09:03:31.386+00:00\", \"ref_history\" => Dict{String,Any}(\"value\" => 9223372036854775807), \"revision\" => Dict{String,Any}(\"ref_validfrom\" => Dict{String,Any}(\"value\" => 1), \"ref_invalidfrom\" => Dict{String,Any}(\"value\" => 9223372036854775807), \"ref_component\" => Dict{String,Any}(\"value\" => 1), \"id\" => Dict{String,Any}(\"value\" => 1), \"description\" => \"Partner 1\"), \"ref_version\" => Dict{String,Any}(\"value\" => 9223372036854775807), \"tsw_validfrom\" => \"2022-07-23T09:03:31.386+00:00\"))]),\n",
    "        Dict{String,Any}(\"tariff_ref\" => Dict{String,Any}(\"rev\" => Dict{String,Any}(\"ref_validfrom\" => Dict{String,Any}(\"value\" => 8), \"ref_invalidfrom\" => Dict{String,Any}(\"value\" => 9223372036854775807), \"ref_component\" => Dict{String,Any}(\"value\" => 5), \"id\" => Dict{String,Any}(\"value\" => 5), \"ref_role\" => Dict{String,Any}(\"value\" => 2), \"description\" => \"Occupational Disablity tariff parameters\", \"ref_tariff\" => Dict{String,Any}(\"value\" => 4)), \"ref\" => Dict{String,Any}(\"tsdb_validfrom\" => \"2022-07-23T09:03:31.395+00:00\", \"ref_history\" => Dict{String,Any}(\"value\" => 9223372036854775807), \"revision\" => Dict{String,Any}(\"ref_validfrom\" => Dict{String,Any}(\"value\" => 5), \"ref_invalidfrom\" => Dict{String,Any}(\"value\" => 9223372036854775807), \"ref_component\" => Dict{String,Any}(\"value\" => 4), \"id\" => Dict{String,Any}(\"value\" => 4), \"description\" => \"Profit participation\"), \"ref_version\" => Dict{String,Any}(\"value\" => 9223372036854775807), \"tsw_validfrom\" => \"2022-07-23T09:03:31.395+00:00\")), \"partner_refs\" => Any[Dict{String,Any}(\"rev\" => Dict{String,Any}(\"ref_validfrom\" => Dict{String,Any}(\"value\" => 8), \"ref_invalidfrom\" => Dict{String,Any}(\"value\" => 9223372036854775807), \"ref_partner\" => Dict{String,Any}(\"value\" => 1), \"ref_component\" => Dict{String,Any}(\"value\" => 5), \"id\" => Dict{String,Any}(\"value\" => 5), \"ref_role\" => Dict{String,Any}(\"value\" => 1), \"description\" => \"partner 1 ref properties\"), \"ref\" => Dict{String,Any}(\"tsdb_validfrom\" => \"2022-07-23T09:03:31.407+00:00\", \"ref_history\" => Dict{String,Any}(\"value\" => 9223372036854775807), \"revision\" => Dict{String,Any}(\"ref_validfrom\" => Dict{String,Any}(\"value\" => 1), \"ref_invalidfrom\" => Dict{String,Any}(\"value\" => 9223372036854775807), \"ref_component\" => Dict{String,Any}(\"value\" => 1), \"id\" => Dict{String,Any}(\"value\" => 1), \"description\" => \"Partner 1\"), \"ref_version\" => Dict{String,Any}(\"value\" => 9223372036854775807), \"tsw_validfrom\" => \"2022-07-23T09:03:31.407+00:00\"))]),\n",
    "        Dict{String,Any}(\"tariff_ref\" => Dict{String,Any}(\"rev\" => Dict{String,Any}(\"ref_validfrom\" => Dict{String,Any}(\"value\" => 8), \"ref_invalidfrom\" => Dict{String,Any}(\"value\" => 9223372036854775807), \"ref_component\" => Dict{String,Any}(\"value\" => 6), \"id\" => Dict{String,Any}(\"value\" => 6), \"ref_role\" => Dict{String,Any}(\"value\" => 4), \"description\" => \"Profit Participation tariff parameters\", \"ref_tariff\" => Dict{String,Any}(\"value\" => 4)), \"ref\" => Dict{String,Any}(\"tsdb_validfrom\" => \"2022-07-23T09:03:31.416+00:00\", \"ref_history\" => Dict{String,Any}(\"value\" => 9223372036854775807), \"revision\" => Dict{String,Any}(\"ref_validfrom\" => Dict{String,Any}(\"value\" => 5), \"ref_invalidfrom\" => Dict{String,Any}(\"value\" => 9223372036854775807), \"ref_component\" => Dict{String,Any}(\"value\" => 4), \"id\" => Dict{String,Any}(\"value\" => 4), \"description\" => \"Profit participation\"), \"ref_version\" => Dict{String,Any}(\"value\" => 9223372036854775807), \"tsw_validfrom\" => \"2022-07-23T09:03:31.416+00:00\")), \"partner_refs\" => Any[Dict{String,Any}(\"rev\" => Dict{String,Any}(\"ref_validfrom\" => Dict{String,Any}(\"value\" => 8), \"ref_invalidfrom\" => Dict{String,Any}(\"value\" => 9223372036854775807), \"ref_partner\" => Dict{String,Any}(\"value\" => 1), \"ref_component\" => Dict{String,Any}(\"value\" => 6), \"id\" => Dict{String,Any}(\"value\" => 6), \"ref_role\" => Dict{String,Any}(\"value\" => 1), \"description\" => \"partner 1 ref properties\"), \"ref\" => Dict{String,Any}(\"tsdb_validfrom\" => \"2022-07-23T09:03:31.431+00:00\", \"ref_history\" => Dict{String,Any}(\"value\" => 9223372036854775807), \"revision\" => Dict{String,Any}(\"ref_validfrom\" => Dict{String,Any}(\"value\" => 1), \"ref_invalidfrom\" => Dict{String,Any}(\"value\" => 9223372036854775807), \"ref_component\" => Dict{String,Any}(\"value\" => 1), \"id\" => Dict{String,Any}(\"value\" => 1), \"description\" => \"Partner 1\"), \"ref_version\" => Dict{String,Any}(\"value\" => 9223372036854775807), \"tsw_validfrom\" => \"2022-07-23T09:03:31.431+00:00\"))])\n",
    "    ],\n",
    "    \"revision\" => Dict{String,Any}(\"ref_validfrom\" => Dict{String,Any}(\"value\" => 8), \"ref_invalidfrom\" => Dict{String,Any}(\"value\" => 9223372036854775807), \"ref_component\" => Dict{String,Any}(\"value\" => 1), \"id\" => Dict{String,Any}(\"value\" => 1), \"position\" => 1, \"description\" => \"from contract creation\", \"ref_product\" => Dict{String,Any}(\"value\" => 2))\n",
    ")"
   ]
  },
  {
   "cell_type": "code",
   "execution_count": null,
   "metadata": {},
   "outputs": [],
   "source": [
    "pis = ToStruct.tostruct(ProductItemSection, pisDict)\n",
    "tis1 = (pis.tariff_items[1])\n",
    "println(tis1.tariff_ref.rev.description)\n",
    "println(tis1.tariff_ref.rev.ref_role)\n",
    "println(tis1.tariff_ref.rev.ref_role)\n",
    "println(tis1.tariff_ref.ref.revision.ref_component)\n",
    "println(tis1.partner_refs[1].rev.ref_partner)\n",
    "println(tis1.partner_refs[1].rev.description)"
   ]
  },
  {
   "cell_type": "code",
   "execution_count": null,
   "metadata": {},
   "outputs": [],
   "source": [
    "using BitemporalPostgres\n",
    "using LifeInsuranceDataModel\n",
    "using SearchLight\n",
    "using SearchLightPostgreSQL\n",
    "using TimeZones\n",
    "SearchLight.Configuration.load() |> SearchLight.connect\n",
    "cid = 1\n",
    "h = find(Contract, SQLWhereExpression(\"id =?\", cid))[1].ref_history\n",
    "vi = find(ValidityInterval, SQLWhereExpression(\"ref_history=?\", h), order=[\"ValidityInterval.id\"])[1];\n",
    "txntime = vi.tsdb_validfrom\n",
    "reftime = vi.tsworld_validfrom\n",
    "\n",
    "cs = csection(cid, txntime, reftime)\n",
    "\n",
    "println(cs)"
   ]
  },
  {
   "cell_type": "code",
   "execution_count": 49,
   "metadata": {},
   "outputs": [
    {
     "name": "stdout",
     "output_type": "stream",
     "text": [
      "0.0\n",
      "0\n",
      "0.0\n"
     ]
    },
    {
     "data": {
      "text/plain": [
       "LifeInsuranceDataModel.TariffItemSection(LifeInsuranceDataModel.TariffItemTariffReference(TariffItemRevision\n",
       "| KEY                        | VALUE                       |\n",
       "|----------------------------|-----------------------------|\n",
       "| annuity_due::Float64       | 0.0                         |\n",
       "| annuity_immediate::Float64 | 0.0                         |\n",
       "| deferment::Int64           | 0                           |\n",
       "| description::String        | Life Risk tariff parameters |\n",
       "| id::DbId                   | 1                           |\n",
       "| net_premium::Float64       | 0.0                         |\n",
       "| ref_component::DbId        | 1                           |\n",
       "| ref_invalidfrom::DbId      | 9223372036854775807         |\n",
       "| ref_role::DbId             | 1                           |\n",
       "| ref_tariff::DbId           | 1                           |\n",
       "| ref_validfrom::DbId        | 9                           |\n",
       ", TariffSection(ZonedDateTime(2022, 8, 18, 5, 25, 37, 197, tz\"UTC\"), ZonedDateTime(2022, 8, 18, 5, 25, 37, 197, tz\"UTC\"), 9223372036854775807, 9223372036854775807, TariffRevision\n",
       "| KEY                     | VALUE                          |\n",
       "|-------------------------|--------------------------------|\n",
       "| description::String     | Life Risk Insurance            |\n",
       "| id::DbId                | 1                              |\n",
       "| mortality_table::String | 1980 CET - Male Nonsmoker, ANB |\n",
       "| ref_component::DbId     | 1                              |\n",
       "| ref_invalidfrom::DbId   | 9223372036854775807            |\n",
       "| ref_validfrom::DbId     | 2                              |\n",
       ")), LifeInsuranceDataModel.TariffItemPartnerReference[LifeInsuranceDataModel.TariffItemPartnerReference(TariffItemPartnerRefRevision\n",
       "| KEY                   | VALUE                    |\n",
       "|-----------------------|--------------------------|\n",
       "| description::String   | partner 1 ref properties |\n",
       "| id::DbId              | 1                        |\n",
       "| ref_component::DbId   | 1                        |\n",
       "| ref_invalidfrom::DbId | 9223372036854775807      |\n",
       "| ref_partner::DbId     | 1                        |\n",
       "| ref_role::DbId        | 1                        |\n",
       "| ref_validfrom::DbId   | 9                        |\n",
       ", PartnerSection(ZonedDateTime(2022, 8, 18, 5, 25, 37, 210, tz\"UTC\"), ZonedDateTime(2022, 8, 18, 5, 25, 37, 210, tz\"UTC\"), 9223372036854775807, 9223372036854775807, PartnerRevision\n",
       "| KEY                   | VALUE               |\n",
       "|-----------------------|---------------------|\n",
       "| date_of_birth::Date   | 2000-01-01          |\n",
       "| description::String   | Partner 1           |\n",
       "| id::DbId              | 1                   |\n",
       "| ref_component::DbId   | 1                   |\n",
       "| ref_invalidfrom::DbId | 9223372036854775807 |\n",
       "| ref_validfrom::DbId   | 1                   |\n",
       "))])"
      ]
     },
     "metadata": {},
     "output_type": "display_data"
    }
   ],
   "source": [
    "fieldnames(typeof(cs.product_items[1].tariff_items[1].tariff_ref.rev))\n",
    "\n",
    "cs.product_items[1].tariff_items[1].tariff_ref.rev.ref_tariff\n",
    "\n",
    "println(cs.product_items[1].tariff_items[1].tariff_ref.rev.annuity_due)\n",
    "println(cs.product_items[1].tariff_items[1].tariff_ref.rev.deferment)\n",
    "println(cs.product_items[1].tariff_items[1].tariff_ref.rev.annuity_immediate)\n",
    "ti=cs.product_items[1].tariff_items[1]\n",
    "\n",
    "\n"
   ]
  },
  {
   "cell_type": "code",
   "execution_count": 51,
   "metadata": {},
   "outputs": [
    {
     "ename": "UndefVarError",
     "evalue": "UndefVarError: calculate not defined",
     "output_type": "error",
     "traceback": [
      "UndefVarError: calculate not defined\n",
      "\n",
      "Stacktrace:\n",
      " [1] top-level scope\n",
      "   @ ~/dev/LifeInsuranceProduct.jl/testAPI.ipynb:3"
     ]
    }
   ],
   "source": [
    "using LifeInsuranceProduct\n",
    "\n",
    "calculate(ti)"
   ]
  }
 ],
 "metadata": {
  "kernelspec": {
   "display_name": "Julia 1.6.7",
   "language": "julia",
   "name": "julia-1.6"
  },
  "language_info": {
   "file_extension": ".jl",
   "mimetype": "application/julia",
   "name": "julia",
   "version": "1.6.7"
  },
  "orig_nbformat": 4
 },
 "nbformat": 4,
 "nbformat_minor": 2
}
