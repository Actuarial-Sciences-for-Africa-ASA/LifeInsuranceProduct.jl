{
    "cells": [
        {
            "cell_type": "code",
            "execution_count": null,
            "metadata": {},
            "outputs": [],
            "source": [
                "using BitemporalPostgres\n",
                "using LifeInsuranceDataModel, LifeInsuranceProduct\n",
                "using SearchLight\n",
                "using SearchLightPostgreSQL\n",
                "using TimeZones\n",
                "ENV[\"SEARCHLIGHT_USERNAME\"] = ENV[\"USER\"]\n",
                "ENV[\"SEARCHLIGHT_PASSWORD\"] = ENV[\"USER\"]\n",
                "SearchLight.Configuration.load() |> SearchLight.connect\n",
                "\n",
                "SearchLight.query(\"DROP SCHEMA public CASCADE\")\n",
                "SearchLight.query(\"CREATE SCHEMA public\")\n",
                "LifeInsuranceDataModel.load_model()"
            ]
        },
        {
            "attachments": {},
            "cell_type": "markdown",
            "metadata": {},
            "source": [
                "Creating Tariffs"
            ]
        },
        {
            "cell_type": "code",
            "execution_count": null,
            "metadata": {},
            "outputs": [],
            "source": [
                "using LifeInsuranceDataModel, LifeInsuranceProduct, SearchLight\n",
                "import SearchLight: Serializer.serialize\n",
                "\n",
                "tif = get_tariff_interface(Val(1))\n",
                "ProfitParticipationTariff = create_tariff(\"Profit participation\", 1, serialize(tif.parameters),serialize(tif.contract_attributes))\n",
                "tif = get_tariff_interface(Val(2))\n",
                "PensionTariff = create_tariff(\"Pension Insurance\", 2, serialize(tif.parameters), serialize(tif.contract_attributes))\n",
                "tif = get_tariff_interface(Val(3))\n",
                "SingleLifeRiskTariff = create_tariff(\"Single Life Risk Insurance\", 3, serialize(tif.parameters), serialize(tif.contract_attributes))\n",
                "tif = get_tariff_interface(Val(4))\n",
                "JointLifeRiskTariff = create_tariff(\"Joint Life Risk Insurance\", 4, serialize(tif.parameters), serialize(tif.contract_attributes),[1,2])\n",
                "\n"
            ]
        },
        {
            "cell_type": "code",
            "execution_count": null,
            "metadata": {},
            "outputs": [],
            "source": [
                "cpRole = Dict{String,Int64}()\n",
                "map(find(LifeInsuranceDataModel.ContractPartnerRole)) do entry\n",
                "    cpRole[entry.value] = entry.id.value\n",
                "end\n",
                "tiprRole = Dict{String,Int64}()\n",
                "map(find(LifeInsuranceDataModel.TariffItemPartnerRole)) do entry\n",
                "    tiprRole[entry.value] = entry.id.value\n",
                "end\n",
                "titrRole = Dict{String,Int64}()\n",
                "map(find(LifeInsuranceDataModel.TariffItemRole)) do entry\n",
                "    titrRole[entry.value] = entry.id.value\n",
                "end\n",
                "\n",
                "ppRole = Dict{String,Int64}()\n",
                "map(find(LifeInsuranceDataModel.ProductPartRole)) do entry\n",
                "    ppRole[entry.value] = entry.id.value\n",
                "end\n"
            ]
        },
        {
            "attachments": {},
            "cell_type": "markdown",
            "metadata": {},
            "source": [
                "Pension Insurance Product"
            ]
        },
        {
            "cell_type": "code",
            "execution_count": null,
            "metadata": {},
            "outputs": [],
            "source": [
                "\n",
                "pensionInsurance = Product()\n",
                "pr = ProductRevision(description=\"Pension\")\n",
                "\n",
                "pp = ProductPart()\n",
                "ppr = ProductPartRevision(\n",
                "    ref_tariff=PensionTariff,\n",
                "    ref_role=ppRole[\"Main Coverage - Life\"],\n",
                "    description=\"Main Coverage - Life\",\n",
                ")\n",
                "\n",
                "pp2 = ProductPart()\n",
                "ppr2 = ProductPartRevision(\n",
                "    ref_tariff=ProfitParticipationTariff,\n",
                "    ref_role=ppRole[\"Profit participation\"],\n",
                "    description=\"Profit participation Life Risk\",\n",
                ")\n",
                "\n",
                "w0 = Workflow(\n",
                "    type_of_entity=\"Product\",\n",
                "    tsw_validfrom=ZonedDateTime(2023, 4, 1, 21, 0, 1, 1, tz\"UTC\"),\n",
                ")\n",
                "create_entity!(w0)\n",
                "create_component!(pensionInsurance, pr, w0)\n",
                "create_subcomponent!(pensionInsurance, pp, ppr, w0)\n",
                "create_subcomponent!(pensionInsurance, pp2, ppr2, w0)\n",
                "commit_workflow!(w0)"
            ]
        },
        {
            "attachments": {},
            "cell_type": "markdown",
            "metadata": {},
            "source": [
                "Single Life Risk Insurance Product"
            ]
        },
        {
            "cell_type": "code",
            "execution_count": null,
            "metadata": {},
            "outputs": [],
            "source": [
                "\n",
                "singlelifeRiskInsurance = Product()\n",
                "pr = ProductRevision(description=\"Single Life Risk\")\n",
                "\n",
                "pp = ProductPart()\n",
                "ppr = ProductPartRevision(\n",
                "    ref_tariff=SingleLifeRiskTariff,\n",
                "    ref_role=ppRole[\"Main Coverage - Life\"],\n",
                "    description=\"Main Coverage - Life\",\n",
                ")\n",
                "\n",
                "pp2 = ProductPart()\n",
                "ppr2 = ProductPartRevision(\n",
                "    ref_tariff=ProfitParticipationTariff,\n",
                "    ref_role=ppRole[\"Profit participation\"],\n",
                "    description=\"Profit participation Life Risk\",\n",
                ")\n",
                "\n",
                "w0 = Workflow(\n",
                "    type_of_entity=\"Product\",\n",
                "    tsw_validfrom=ZonedDateTime(2023, 4, 1, 21, 0, 1, 1, tz\"UTC\"),\n",
                ")\n",
                "create_entity!(w0)\n",
                "create_component!(singlelifeRiskInsurance, pr, w0)\n",
                "create_subcomponent!(singlelifeRiskInsurance, pp, ppr, w0)\n",
                "create_subcomponent!(singlelifeRiskInsurance, pp2, ppr2, w0)\n",
                "commit_workflow!(w0)"
            ]
        },
        {
            "attachments": {},
            "cell_type": "markdown",
            "metadata": {},
            "source": [
                "A Joint Life Risk Insurance Product"
            ]
        },
        {
            "cell_type": "code",
            "execution_count": null,
            "metadata": {},
            "outputs": [],
            "source": [
                "\n",
                "jointlifeRiskInsurance = Product()\n",
                "pr = ProductRevision(description=\"Joint Life Risk\")\n",
                "\n",
                "pp = ProductPart()\n",
                "ppr = ProductPartRevision(\n",
                "    ref_tariff=JointLifeRiskTariff,\n",
                "    ref_role=ppRole[\"Main Coverage - Life\"],\n",
                "    description=\"Main Coverage - Life\",\n",
                ")\n",
                "\n",
                "pp2 = ProductPart()\n",
                "ppr2 = ProductPartRevision(\n",
                "    ref_tariff=ProfitParticipationTariff,\n",
                "    ref_role=ppRole[\"Profit participation\"],\n",
                "    description=\"Profit participation Life Risk\",\n",
                ")\n",
                "\n",
                "w0 = Workflow(\n",
                "    type_of_entity=\"Product\",\n",
                "    tsw_validfrom=ZonedDateTime(2023, 4, 1, 21, 0, 1, 1, tz\"UTC\"),\n",
                ")\n",
                "create_entity!(w0)\n",
                "create_component!(jointlifeRiskInsurance, pr, w0)\n",
                "create_subcomponent!(jointlifeRiskInsurance, pp, ppr, w0)\n",
                "create_subcomponent!(jointlifeRiskInsurance, pp2, ppr2, w0)\n",
                "commit_workflow!(w0)"
            ]
        },
        {
            "cell_type": "code",
            "execution_count": null,
            "metadata": {},
            "outputs": [],
            "source": [
                "prs = prsection(1, now(tz\"UTC\"), ZonedDateTime(2023, 4, 1, 21, 0, 1, 1, tz\"UTC\"), 0)\n",
                "rolesTariffItemPartner = load_role(TariffItemPartnerRole)"
            ]
        },
        {
            "attachments": {},
            "cell_type": "markdown",
            "metadata": {},
            "source": [
                "create partner woman1 nonsmoker"
            ]
        },
        {
            "cell_type": "code",
            "execution_count": null,
            "metadata": {},
            "outputs": [],
            "source": [
                "woman1 = LifeInsuranceDataModel.Partner()\n",
                "pr = LifeInsuranceDataModel.PartnerRevision(description=\"woman 1\",sex=\"f\",smoker=false)\n",
                "w = Workflow(type_of_entity=\"Partner\",\n",
                "    tsw_validfrom=ZonedDateTime(2014, 5, 30, 21, 0, 1, 1, tz\"UTC\"),\n",
                ")\n",
                "create_entity!(w)\n",
                "create_component!(woman1, pr, w)\n",
                "commit_workflow!(w)"
            ]
        },
        {
            "attachments": {},
            "cell_type": "markdown",
            "metadata": {},
            "source": [
                "create partner woman2 smoker"
            ]
        },
        {
            "cell_type": "code",
            "execution_count": null,
            "metadata": {},
            "outputs": [],
            "source": [
                "woman2 = LifeInsuranceDataModel.Partner()\n",
                "pr = LifeInsuranceDataModel.PartnerRevision(description=\"woman 2\",sex=\"f\",smoker=true)\n",
                "w = Workflow(type_of_entity=\"Partner\",\n",
                "    tsw_validfrom=ZonedDateTime(2014, 5, 30, 21, 0, 1, 1, tz\"UTC\"),\n",
                ")\n",
                "create_entity!(w)\n",
                "create_component!(woman2, pr, w)\n",
                "commit_workflow!(w)"
            ]
        },
        {
            "attachments": {},
            "cell_type": "markdown",
            "metadata": {},
            "source": [
                "create partner man1 nonsmoker"
            ]
        },
        {
            "cell_type": "code",
            "execution_count": null,
            "metadata": {},
            "outputs": [],
            "source": [
                "man1 = LifeInsuranceDataModel.Partner()\n",
                "pr = LifeInsuranceDataModel.PartnerRevision(description=\"man 1\",sex=\"m\",smoker=false)\n",
                "w = Workflow(type_of_entity=\"Partner\",\n",
                "    tsw_validfrom=ZonedDateTime(2014, 5, 30, 21, 0, 1, 1, tz\"UTC\"),\n",
                ")\n",
                "create_entity!(w)\n",
                "create_component!(man1, pr, w)\n",
                "commit_workflow!(w)\n",
                "man1"
            ]
        },
        {
            "attachments": {},
            "cell_type": "markdown",
            "metadata": {},
            "source": [
                "create partner man2 smoker"
            ]
        },
        {
            "cell_type": "code",
            "execution_count": null,
            "metadata": {},
            "outputs": [],
            "source": [
                "man2 = LifeInsuranceDataModel.Partner()\n",
                "pr = LifeInsuranceDataModel.PartnerRevision(description=\"man 2\",sex=\"m\",smoker=true)\n",
                "w = Workflow(type_of_entity=\"Partner\",\n",
                "    tsw_validfrom=ZonedDateTime(2014, 5, 30, 21, 0, 1, 1, tz\"UTC\"),\n",
                ")\n",
                "create_entity!(w)\n",
                "create_component!(man2, pr, w)\n",
                "commit_workflow!(w)"
            ]
        },
        {
            "attachments": {},
            "cell_type": "markdown",
            "metadata": {},
            "source": [
                "Contract woman nonsmoker pension"
            ]
        },
        {
            "cell_type": "code",
            "execution_count": null,
            "metadata": {},
            "outputs": [],
            "source": [
                "w1 = Workflow(\n",
                "    type_of_entity=\"Contract\",\n",
                "    tsw_validfrom=ZonedDateTime(2014, 5, 30, 21, 0, 1, 1, tz\"UTC\"),\n",
                ")\n",
                "\n",
                "create_entity!(w1)\n",
                "c = Contract()\n",
                "cr = ContractRevision(description=\"contract creation properties\")\n",
                "create_component!(c, cr, w1)\n",
                "\n",
                "cpr = ContractPartnerRef(ref_super=c.id)\n",
                "cprr = ContractPartnerRefRevision(\n",
                "    ref_partner=woman1.id,\n",
                "    ref_role=cpRole[\"Policy Holder\"],\n",
                "    description=\"policiyholder ref properties\",\n",
                ")\n",
                "create_subcomponent!(c, cpr, cprr, w1)\n",
                "# pi 1\n",
                "\n",
                "PartnerRole = tiprRole[\"Insured Person\"]\n",
                "PartnerroleMap = Dict{Integer,PartnerSection}()\n",
                "PartnerroleMap[PartnerRole] = psection(woman1.id.value, now(tz\"UTC\"), w1.tsw_validfrom, 0)\n",
                "\n",
                "cpi = ProductItem(ref_super=c.id)\n",
                "cpir = ProductItemRevision(\n",
                "    ref_product=pensionInsurance.id,\n",
                "    description=\"from contract creation\",\n",
                ")\n",
                "create_subcomponent!(c, cpi, cpir, w1)\n",
                "\n",
                "LifeInsuranceDataModel.create_product_instance(\n",
                "    w1,\n",
                "    cpi,\n",
                "    pensionInsurance.id.value,\n",
                "    PartnerroleMap\n",
                ")\n",
                "commit_workflow!(w1)"
            ]
        },
        {
            "attachments": {},
            "cell_type": "markdown",
            "metadata": {},
            "source": [
                "Contract man smoker woman nonsmoker joint life"
            ]
        },
        {
            "cell_type": "code",
            "execution_count": null,
            "metadata": {},
            "outputs": [],
            "source": [
                "w1 = Workflow(\n",
                "    type_of_entity=\"Contract\",\n",
                "    tsw_validfrom=ZonedDateTime(2014, 5, 30, 21, 0, 1, 1, tz\"UTC\"),\n",
                ")\n",
                "\n",
                "create_entity!(w1)\n",
                "c = Contract()\n",
                "cr = ContractRevision(description=\"contract creation properties\")\n",
                "create_component!(c, cr, w1)\n",
                "\n",
                "cpr = ContractPartnerRef(ref_super=c.id)\n",
                "cprr = ContractPartnerRefRevision(\n",
                "    ref_partner=woman2.id,\n",
                "    ref_role=cpRole[\"Policy Holder\"],\n",
                "    description=\"policyholder ref properties\",\n",
                ")\n",
                "\n",
                "create_subcomponent!(c, cpr, cprr, w1)\n",
                "# pi 1\n",
                "PartnerroleMap = Dict{Integer,PartnerSection}()\n",
                "PartnerRole = tiprRole[\"Insured Person\"]\n",
                "PartnerroleMap[PartnerRole] = psection(woman1.id.value, now(tz\"UTC\"), w1.tsw_validfrom, 0)\n",
                "PartnerRole = tiprRole[\"2nd Insured Person\"]\n",
                "PartnerroleMap[PartnerRole] = psection(man1.id.value, now(tz\"UTC\"), w1.tsw_validfrom, 0)\n",
                "\n",
                "\n",
                "cpi = ProductItem(ref_super=c.id)\n",
                "cpir = ProductItemRevision(\n",
                "    ref_product=jointlifeRiskInsurance.id.value,\n",
                "    description=\"from contract creation\",\n",
                ")\n",
                "create_subcomponent!(c, cpi, cpir, w1)\n",
                "\n",
                "LifeInsuranceDataModel.create_product_instance(\n",
                "    w1,\n",
                "    cpi,\n",
                "    jointlifeRiskInsurance.id.value,\n",
                "    PartnerroleMap,\n",
                ")\n",
                "commit_workflow!(w1)"
            ]
        },
        {
            "attachments": {},
            "cell_type": "markdown",
            "metadata": {},
            "source": [
                "contract man smoker single life risk"
            ]
        },
        {
            "cell_type": "code",
            "execution_count": null,
            "metadata": {},
            "outputs": [],
            "source": [
                "w1 = Workflow(\n",
                "    type_of_entity=\"Contract\",\n",
                "    tsw_validfrom=ZonedDateTime(2014, 5, 30, 21, 0, 1, 1, tz\"UTC\"),\n",
                ")\n",
                "\n",
                "create_entity!(w1)\n",
                "c = Contract()\n",
                "cr = ContractRevision(description=\"contract creation properties\")\n",
                "create_component!(c, cr, w1)\n",
                "\n",
                "cpr = ContractPartnerRef(ref_super=c.id)\n",
                "cprr = ContractPartnerRefRevision(\n",
                "    ref_partner=man2.id,\n",
                "    ref_role=cpRole[\"Policy Holder\"],\n",
                "    description=\"policiyholder ref properties\",\n",
                ")\n",
                "create_subcomponent!(c, cpr, cprr, w1)\n",
                "# pi 1\n",
                "\n",
                "PartnerRole = tiprRole[\"Insured Person\"]\n",
                "PartnerroleMap = Dict{Integer,PartnerSection}()\n",
                "PartnerroleMap[PartnerRole] = psection(man2.id.value, now(tz\"UTC\"), w1.tsw_validfrom, 0)\n",
                "\n",
                "cpi = ProductItem(ref_super=c.id)\n",
                "cpir = ProductItemRevision(\n",
                "    ref_product=singlelifeRiskInsurance.id,\n",
                "    description=\"from contract creation\",\n",
                ")\n",
                "create_subcomponent!(c, cpi, cpir, w1)\n",
                "\n",
                "LifeInsuranceDataModel.create_product_instance(\n",
                "    w1,\n",
                "    cpi,\n",
                "    singlelifeRiskInsurance.id.value,\n",
                "    PartnerroleMap\n",
                ")\n",
                "commit_workflow!(w1)"
            ]
        },
        {
            "cell_type": "code",
            "execution_count": null,
            "metadata": {},
            "outputs": [],
            "source": [
                "# update Contract yellow\n",
                "using Test\n",
                "    cr1 = ContractRevision(ref_component=c.id, description=\"contract 1, 2nd mutation\")\n",
                "    w2 = Workflow(\n",
                "        type_of_entity=\"Contract\",\n",
                "        ref_history=w1.ref_history,\n",
                "        tsw_validfrom=ZonedDateTime(2016, 5, 30, 21, 0, 1, 1, tz\"UTC\"),\n",
                "    )\n",
                "    update_entity!(w2)\n",
                "    update_component!(cr, cr1, w2)\n",
                "    @test w2.ref_history == w1.ref_history\n",
                "    commit_workflow!(w2)\n",
                "    @test w2.ref_history == w1.ref_history\n",
                "    # update Contract red\n",
                "    w3 = Workflow(\n",
                "        type_of_entity=\"Contract\",\n",
                "        ref_history=w2.ref_history,\n",
                "        tsw_validfrom=ZonedDateTime(2015, 5, 30, 21, 0, 1, 1, tz\"UTC\"),\n",
                "    )\n",
                "    update_entity!(w3)\n",
                "    cr1 = findcomponentrevision(ContractRevision, c.id, w3.ref_version)[1]\n",
                "    cr2 = ContractRevision(ref_component=c.id, description=\"contract 1, 3rd mutation retrospective\")\n",
                "    update_component!(cr1, cr2, w3)\n",
                "\n",
                "\n",
                "    commit_workflow!(w3)\n",
                "    @test w3.ref_history == w2.ref_history\n",
                "\n",
                "    w4 = Workflow(\n",
                "        type_of_entity=\"Contract\",\n",
                "        ref_history=w2.ref_history,\n",
                "        tsw_validfrom=ZonedDateTime(2018, 5, 30, 21, 0, 1, 1, tz\"UTC\"),\n",
                "    )\n",
                "    update_entity!(w4)\n",
                "    cr3 = ContractRevision(ref_component=c.id, description=\"contract 1, 4th mutation\")\n",
                "    update_component!(cr2, cr3, w4)\n",
                "\n",
                "    # pi 2\n",
                "    LifeRiskTIODProduct = find(Product, SQLWhereExpression(\"id=?\", 2))[1].id.value\n",
                "    PartnerRole = tiprRole[\"Insured Person\"]\n",
                "\n",
                "    cpi = ProductItem(ref_super=c.id)\n",
                "    cpir = ProductItemRevision(\n",
                "        ref_product=LifeRiskTIODProduct,\n",
                "        description=\"from contract 4th mutation\",\n",
                "    )\n",
                "    create_subcomponent!(c, cpi, cpir, w4)\n",
                "\n",
                "    println(\"vor neuem Teil\")\n",
                "\n",
                "\n",
                "    LifeInsuranceDataModel.create_product_instance(\n",
                "        w4,\n",
                "        cpi,\n",
                "        LifeRiskTIODProduct,\n",
                "        PartnerroleMap,\n",
                "    )\n",
                "    commit_workflow!(w4)"
            ]
        }
    ],
    "metadata": {
        "kernelspec": {
            "display_name": "Julia 1.8.0",
            "language": "julia",
            "name": "julia-1.8"
        },
        "language_info": {
            "file_extension": ".jl",
            "mimetype": "application/julia",
            "name": "julia",
            "version": "1.8.0"
        },
        "orig_nbformat": 4
    },
    "nbformat": 4,
    "nbformat_minor": 2
}
