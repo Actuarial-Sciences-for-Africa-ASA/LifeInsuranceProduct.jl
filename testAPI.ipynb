{
 "cells": [
  {
   "cell_type": "code",
   "execution_count": 2,
   "metadata": {},
   "outputs": [
    {
     "name": "stderr",
     "output_type": "stream",
     "text": [
      "┌ Info: DROP SCHEMA public CASCADE\n",
      "└ @ SearchLightPostgreSQL /home/mf/dev/julia_depot/packages/SearchLightPostgreSQL/8KdWH/src/SearchLightPostgreSQL.jl:135\n",
      "NOTICE:  drop cascades to 37 other objects\n",
      "DETAIL:  drop cascades to table schema_migrations\n",
      "drop cascades to table histories\n",
      "drop cascades to table versions\n",
      "drop cascades to table workflows\n",
      "drop cascades to table testtstzranges\n",
      "drop cascades to table validityintervals\n",
      "drop cascades to table testdummycomponents\n",
      "drop cascades to table testdummycomponentrevisions\n",
      "drop cascades to table testdummysubcomponents\n",
      "drop cascades to table testdummysubcomponentrevisions\n",
      "drop cascades to extension btree_gist\n",
      "drop cascades to function f_bitempranges()\n",
      "drop cascades to function f_versionrange()\n",
      "drop cascades to table contractpartnerroles\n",
      "drop cascades to table tariffitempartnerroles\n",
      "drop cascades to table tariffitemroles\n",
      "drop cascades to table productpartroles\n",
      "drop cascades to table contracts\n",
      "drop cascades to table contractrevisions\n",
      "drop cascades to table tariffs\n",
      "drop cascades to table tariffrevisions\n",
      "drop cascades to table tariffpartnerroles\n",
      "drop cascades to table tariffpartnerrolerevisions\n",
      "drop cascades to table products\n",
      "drop cascades to table productrevisions\n",
      "drop cascades to table productparts\n",
      "drop cascades to table productpartrevisions\n",
      "drop cascades to table productitems\n",
      "drop cascades to table productitemrevisions\n",
      "drop cascades to table partners\n",
      "drop cascades to table partnerrevisions\n",
      "drop cascades to table contractpartnerrefs\n",
      "drop cascades to table contractpartnerrefrevisions\n",
      "drop cascades to table tariffitems\n",
      "drop cascades to table tariffitemrevisions\n",
      "drop cascades to table tariffitempartnerrefs\n",
      "drop cascades to table tariffitempartnerrefrevisions\n",
      "┌ Info: CREATE SCHEMA public\n",
      "└ @ SearchLightPostgreSQL /home/mf/dev/julia_depot/packages/SearchLightPostgreSQL/8KdWH/src/SearchLightPostgreSQL.jl:135\n"
     ]
    },
    {
     "name": "stderr",
     "output_type": "stream",
     "text": [
      "┌ Info: already connected\n",
      "└ @ LifeInsuranceDataModel /home/mf/dev/julia_depot/packages/LifeInsuranceDataModel/5ovLP/src/LifeInsuranceDataModel.jl:573\n",
      "┌ Info: CREATE TABLE schema_migrations (version varchar(30))\n",
      "└ @ SearchLightPostgreSQL /home/mf/dev/julia_depot/packages/SearchLightPostgreSQL/8KdWH/src/SearchLightPostgreSQL.jl:135\n",
      "┌ Info: Created table schema_migrations\n",
      "└ @ SearchLightPostgreSQL /home/mf/dev/julia_depot/packages/SearchLightPostgreSQL/8KdWH/src/SearchLightPostgreSQL.jl:306\n",
      "┌ Info: CREATE TABLE histories (id BIGSERIAL PRIMARY KEY, dummy INTEGER )\n",
      "└ @ SearchLightPostgreSQL /home/mf/dev/julia_depot/packages/SearchLightPostgreSQL/8KdWH/src/SearchLightPostgreSQL.jl:135\n",
      "┌ Info: CREATE TABLE versions (id BIGSERIAL PRIMARY KEY, ref_history BIGINT REFERENCES histories(id) ON DELETE CASCADE)\n",
      "└ @ SearchLightPostgreSQL /home/mf/dev/julia_depot/packages/SearchLightPostgreSQL/8KdWH/src/SearchLightPostgreSQL.jl:135\n",
      "┌ Info: CREATE TABLE workflows (id BIGSERIAL PRIMARY KEY, ref_history BIGINT REFERENCES histories(id) ON DELETE CASCADE, ref_version BIGINT REFERENCES versions(id) ON DELETE CASCADE, tsw_validfrom TIMESTAMPTZ (3), tsdb_validfrom TIMESTAMPTZ (3), is_committed BIGINT , type_of_entity VARCHAR )\n",
      "└ @ SearchLightPostgreSQL /home/mf/dev/julia_depot/packages/SearchLightPostgreSQL/8KdWH/src/SearchLightPostgreSQL.jl:135\n",
      "┌ Info: CREATE TABLE testtstzranges (id BIGSERIAL PRIMARY KEY, i TSTZRANGE )\n",
      "└ @ SearchLightPostgreSQL /home/mf/dev/julia_depot/packages/SearchLightPostgreSQL/8KdWH/src/SearchLightPostgreSQL.jl:135\n",
      "┌ Info: CREATE TABLE validityIntervals (id BIGSERIAL PRIMARY KEY, ref_history BIGINT REFERENCES histories(id) ON DELETE CASCADE, ref_version BIGINT REFERENCES versions(id) ON DELETE CASCADE, tsworld_validfrom TIMESTAMPTZ (3), tsworld_invalidfrom TIMESTAMPTZ (3), tsdb_validfrom TIMESTAMPTZ (3), tsdb_invalidfrom TIMESTAMPTZ (3), tsrworld TSTZRANGE , tsrdb TSTZRANGE , is_committed BIGINT )\n",
      "└ @ SearchLightPostgreSQL /home/mf/dev/julia_depot/packages/SearchLightPostgreSQL/8KdWH/src/SearchLightPostgreSQL.jl:135\n"
     ]
    },
    {
     "name": "stderr",
     "output_type": "stream",
     "text": [
      "┌ Info: CREATE TABLE testdummyComponents (id BIGSERIAL PRIMARY KEY, ref_history BIGINT REFERENCES histories(id) ON DELETE CASCADE, ref_version BIGINT REFERENCES versions(id) ON DELETE CASCADE)\n",
      "└ @ SearchLightPostgreSQL /home/mf/dev/julia_depot/packages/SearchLightPostgreSQL/8KdWH/src/SearchLightPostgreSQL.jl:135\n",
      "┌ Info: CREATE TABLE testdummyComponentRevisions (id BIGSERIAL PRIMARY KEY, ref_component BIGINT REFERENCES testdummyComponents(id), ref_validfrom BIGINT REFERENCES versions(id) ON DELETE CASCADE, ref_invalidfrom BIGINT DEFAULT 2^53 - 1 REFERENCES versions(id) ON DELETE SET DEFAULT, ref_valid INT8RANGE , description VARCHAR )\n",
      "└ @ SearchLightPostgreSQL /home/mf/dev/julia_depot/packages/SearchLightPostgreSQL/8KdWH/src/SearchLightPostgreSQL.jl:135\n",
      "┌ Info: CREATE TABLE testdummySubComponents (id BIGSERIAL PRIMARY KEY, ref_history BIGINT REFERENCES testdummyComponents(id) ON DELETE CASCADE, ref_version BIGINT REFERENCES versions(id) ON DELETE CASCADE, ref_super BIGINT REFERENCES histories(id) ON DELETE CASCADE)\n",
      "└ @ SearchLightPostgreSQL /home/mf/dev/julia_depot/packages/SearchLightPostgreSQL/8KdWH/src/SearchLightPostgreSQL.jl:135\n",
      "┌ Info: CREATE TABLE testdummySubComponentRevisions (id BIGSERIAL PRIMARY KEY, ref_component BIGINT REFERENCES testdummySubComponents(id), ref_validfrom BIGINT REFERENCES versions(id) ON DELETE CASCADE, ref_invalidfrom BIGINT DEFAULT 2^53 - 1 REFERENCES versions(id) ON DELETE SET DEFAULT, ref_valid INT8RANGE , description VARCHAR )\n",
      "└ @ SearchLightPostgreSQL /home/mf/dev/julia_depot/packages/SearchLightPostgreSQL/8KdWH/src/SearchLightPostgreSQL.jl:135\n",
      "┌ Info: CREATE EXTENSION IF NOT EXISTS btree_gist;\n",
      "└ @ SearchLightPostgreSQL /home/mf/dev/julia_depot/packages/SearchLightPostgreSQL/8KdWH/src/SearchLightPostgreSQL.jl:135\n",
      "┌ Info: ALTER TABLE validityIntervals \n",
      "│ ADD CONSTRAINT bitemp EXCLUDE USING GIST (ref_version WITH =, is_committed WITH =, tsrworld WITH &&, tsrdb WITH &&)\n",
      "└ @ SearchLightPostgreSQL /home/mf/dev/julia_depot/packages/SearchLightPostgreSQL/8KdWH/src/SearchLightPostgreSQL.jl:135\n"
     ]
    },
    {
     "name": "stderr",
     "output_type": "stream",
     "text": [
      "┌ Info: CREATE OR REPLACE FUNCTION f_bitempranges ()\n",
      "│ RETURNS trigger AS\n",
      "│ $$\n",
      "│      DECLARE\n",
      "│ \n",
      "│      BEGIN\n",
      "│           RAISE NOTICE 'NEW: %', NEW;\n",
      "│           NEW.tsrworld := tstzrange(NEW.tsworld_validfrom,NEW.tsworld_invalidfrom,'[)');\n",
      "│           NEW.tsrdb := tstzrange(NEW.tsdb_validfrom,NEW.tsdb_invalidfrom,'[)');\n",
      "│           RETURN NEW;\n",
      "│      END;\n",
      "│ $$ LANGUAGE 'plpgsql';\n",
      "└ @ SearchLightPostgreSQL /home/mf/dev/julia_depot/packages/SearchLightPostgreSQL/8KdWH/src/SearchLightPostgreSQL.jl:135\n",
      "┌ Info: CREATE TRIGGER versions_trig\n",
      "│ BEFORE INSERT OR UPDATE ON validityIntervals\n",
      "│ FOR EACH ROW EXECUTE PROCEDURE f_bitempranges();\n",
      "└ @ SearchLightPostgreSQL /home/mf/dev/julia_depot/packages/SearchLightPostgreSQL/8KdWH/src/SearchLightPostgreSQL.jl:135\n",
      "┌ Info: CREATE OR REPLACE FUNCTION f_versionrange ()\n",
      "│ RETURNS trigger AS\n",
      "│ $$\n",
      "│      DECLARE\n",
      "│ \n",
      "│      BEGIN\n",
      "│           RAISE NOTICE 'NEW: %', NEW;\n",
      "│           NEW.ref_valid := int8range(NEW.ref_validfrom,NEW.ref_invalidfrom,'[)');\n",
      "│           RETURN NEW;\n",
      "│      END;\n",
      "│ $$ LANGUAGE 'plpgsql';\n",
      "└ @ SearchLightPostgreSQL /home/mf/dev/julia_depot/packages/SearchLightPostgreSQL/8KdWH/src/SearchLightPostgreSQL.jl:135\n",
      "┌ Info: CREATE TRIGGER tr_versions_trig\n",
      "│ BEFORE INSERT OR UPDATE ON testdummyComponentRevisions\n",
      "│ FOR EACH ROW EXECUTE PROCEDURE f_versionrange();\n",
      "└ @ SearchLightPostgreSQL /home/mf/dev/julia_depot/packages/SearchLightPostgreSQL/8KdWH/src/SearchLightPostgreSQL.jl:135\n",
      "┌ Info: ALTER TABLE testdummycomponentrevisions \n",
      "│ ADD CONSTRAINT testdummycomponentrevisionsversionrange EXCLUDE USING GIST (ref_component WITH =, ref_valid WITH &&)\n",
      "└ @ SearchLightPostgreSQL /home/mf/dev/julia_depot/packages/SearchLightPostgreSQL/8KdWH/src/SearchLightPostgreSQL.jl:135\n",
      "┌ Info: CREATE TRIGGER tr_versions_trig\n",
      "│ BEFORE INSERT OR UPDATE ON testdummySubComponentRevisions\n",
      "│ FOR EACH ROW EXECUTE PROCEDURE f_versionrange();\n",
      "└ @ SearchLightPostgreSQL /home/mf/dev/julia_depot/packages/SearchLightPostgreSQL/8KdWH/src/SearchLightPostgreSQL.jl:135\n",
      "┌ Info: ALTER TABLE testdummySubComponentrevisions \n",
      "│ ADD CONSTRAINT testdummysubcomponentrevisionsversionrange EXCLUDE USING GIST (ref_component WITH =, ref_valid WITH &&)\n",
      "└ @ SearchLightPostgreSQL /home/mf/dev/julia_depot/packages/SearchLightPostgreSQL/8KdWH/src/SearchLightPostgreSQL.jl:135\n",
      "┌ Info: INSERT INTO histories VALUES(9007199254740991,0)\n",
      "└ @ SearchLightPostgreSQL /home/mf/dev/julia_depot/packages/SearchLightPostgreSQL/8KdWH/src/SearchLightPostgreSQL.jl:135\n",
      "┌ Info: INSERT INTO versions VALUES(9007199254740991)\n",
      "└ @ SearchLightPostgreSQL /home/mf/dev/julia_depot/packages/SearchLightPostgreSQL/8KdWH/src/SearchLightPostgreSQL.jl:135\n",
      "┌ Info: CREATE TABLE contractPartnerRoles (id BIGSERIAL PRIMARY KEY, domain VARCHAR , value VARCHAR )\n",
      "└ @ SearchLightPostgreSQL /home/mf/dev/julia_depot/packages/SearchLightPostgreSQL/8KdWH/src/SearchLightPostgreSQL.jl:135\n",
      "┌ Info: CREATE TABLE tariffItemPartnerRoles (id BIGSERIAL PRIMARY KEY, domain VARCHAR , value VARCHAR )\n",
      "└ @ SearchLightPostgreSQL /home/mf/dev/julia_depot/packages/SearchLightPostgreSQL/8KdWH/src/SearchLightPostgreSQL.jl:135\n",
      "┌ Info: CREATE TABLE TariffItemRoles (id BIGSERIAL PRIMARY KEY, domain VARCHAR , value VARCHAR )\n",
      "└ @ SearchLightPostgreSQL /home/mf/dev/julia_depot/packages/SearchLightPostgreSQL/8KdWH/src/SearchLightPostgreSQL.jl:135\n",
      "┌ Info: CREATE TABLE ProductPartRoles (id BIGSERIAL PRIMARY KEY, domain VARCHAR , value VARCHAR )\n",
      "└ @ SearchLightPostgreSQL /home/mf/dev/julia_depot/packages/SearchLightPostgreSQL/8KdWH/src/SearchLightPostgreSQL.jl:135\n",
      "┌ Info: CREATE TABLE contracts (id BIGSERIAL PRIMARY KEY, ref_history BIGINT REFERENCES histories(id) ON DELETE CASCADE, ref_version BIGINT REFERENCES versions(id) ON DELETE CASCADE)\n",
      "└ @ SearchLightPostgreSQL /home/mf/dev/julia_depot/packages/SearchLightPostgreSQL/8KdWH/src/SearchLightPostgreSQL.jl:135\n"
     ]
    },
    {
     "name": "stderr",
     "output_type": "stream",
     "text": [
      "┌ Info: CREATE TABLE contractRevisions (id BIGSERIAL PRIMARY KEY, ref_component BIGINT REFERENCES contracts(id) ON DELETE CASCADE, ref_validfrom BIGINT REFERENCES versions(id) ON DELETE CASCADE, ref_invalidfrom BIGINT DEFAULT 2^53 - 1 REFERENCES versions(id) ON DELETE SET DEFAULT, ref_valid INT8RANGE , description VARCHAR )\n",
      "└ @ SearchLightPostgreSQL /home/mf/dev/julia_depot/packages/SearchLightPostgreSQL/8KdWH/src/SearchLightPostgreSQL.jl:135\n",
      "┌ Info: CREATE TRIGGER cr_versions_trig\n",
      "│ BEFORE INSERT OR UPDATE ON contractRevisions\n",
      "│ FOR EACH ROW EXECUTE PROCEDURE f_versionrange();\n",
      "└ @ SearchLightPostgreSQL /home/mf/dev/julia_depot/packages/SearchLightPostgreSQL/8KdWH/src/SearchLightPostgreSQL.jl:135\n",
      "┌ Info: ALTER TABLE contractRevisions\n",
      "│ ADD CONSTRAINT contractsversionrange EXCLUDE USING GIST (ref_component WITH =, ref_valid WITH &&)\n",
      "└ @ SearchLightPostgreSQL /home/mf/dev/julia_depot/packages/SearchLightPostgreSQL/8KdWH/src/SearchLightPostgreSQL.jl:135\n",
      "┌ Info: CREATE TABLE tariffs (id BIGSERIAL PRIMARY KEY, ref_history BIGINT REFERENCES histories(id) ON DELETE CASCADE, ref_version BIGINT REFERENCES versions(id) ON DELETE CASCADE)\n",
      "└ @ SearchLightPostgreSQL /home/mf/dev/julia_depot/packages/SearchLightPostgreSQL/8KdWH/src/SearchLightPostgreSQL.jl:135\n",
      "┌ Info: CREATE TABLE tariffRevisions (id BIGSERIAL PRIMARY KEY, ref_component BIGINT REFERENCES tariffs(id) ON DELETE CASCADE, ref_validfrom BIGINT REFERENCES versions(id) ON DELETE CASCADE, ref_invalidfrom BIGINT DEFAULT 2^53 - 1 REFERENCES versions(id) ON DELETE SET DEFAULT, ref_valid INT8RANGE , description VARCHAR , interface_id BIGINT , mortality_table VARCHAR , parameters VARCHAR )\n",
      "└ @ SearchLightPostgreSQL /home/mf/dev/julia_depot/packages/SearchLightPostgreSQL/8KdWH/src/SearchLightPostgreSQL.jl:135\n",
      "┌ Info: CREATE TABLE tariffPartnerRoles (id BIGSERIAL PRIMARY KEY, ref_history BIGINT REFERENCES histories(id) ON DELETE CASCADE, ref_version BIGINT REFERENCES versions(id) ON DELETE CASCADE, ref_super BIGINT REFERENCES tariffs(id) ON DELETE CASCADE)\n",
      "└ @ SearchLightPostgreSQL /home/mf/dev/julia_depot/packages/SearchLightPostgreSQL/8KdWH/src/SearchLightPostgreSQL.jl:135\n",
      "┌ Info: CREATE TABLE tariffPartnerRoleRevisions (id BIGSERIAL PRIMARY KEY, ref_component BIGINT REFERENCES tariffPartnerRoles(id) ON DELETE CASCADE, ref_validfrom BIGINT REFERENCES versions(id) ON DELETE CASCADE, ref_invalidfrom BIGINT DEFAULT 2^53 - 1 REFERENCES versions(id) ON DELETE SET DEFAULT, ref_valid INT8RANGE , ref_role BIGINT REFERENCES tariffitempartnerroles(id) ON DELETE CASCADE)\n",
      "└ @ SearchLightPostgreSQL /home/mf/dev/julia_depot/packages/SearchLightPostgreSQL/8KdWH/src/SearchLightPostgreSQL.jl:135\n",
      "┌ Info: CREATE TRIGGER tr_versions_trig\n",
      "│ BEFORE INSERT OR UPDATE ON tariffRevisions\n",
      "│ FOR EACH ROW EXECUTE PROCEDURE f_versionrange();\n",
      "└ @ SearchLightPostgreSQL /home/mf/dev/julia_depot/packages/SearchLightPostgreSQL/8KdWH/src/SearchLightPostgreSQL.jl:135\n"
     ]
    },
    {
     "name": "stderr",
     "output_type": "stream",
     "text": [
      "┌ Info: ALTER TABLE tariffRevisions\n",
      "│ ADD CONSTRAINT tr_versionrange EXCLUDE USING GIST (ref_component WITH =, ref_valid WITH &&)\n",
      "└ @ SearchLightPostgreSQL /home/mf/dev/julia_depot/packages/SearchLightPostgreSQL/8KdWH/src/SearchLightPostgreSQL.jl:135\n",
      "┌ Info: CREATE TRIGGER trpr_versions_trig\n",
      "│ BEFORE INSERT OR UPDATE ON tariffPartnerRoleRevisions\n",
      "│ FOR EACH ROW EXECUTE PROCEDURE f_versionrange();\n",
      "└ @ SearchLightPostgreSQL /home/mf/dev/julia_depot/packages/SearchLightPostgreSQL/8KdWH/src/SearchLightPostgreSQL.jl:135\n",
      "┌ Info: ALTER TABLE tariffPartnerRoleRevisions\n",
      "│ ADD CONSTRAINT trpr_versionrange EXCLUDE USING GIST (ref_component WITH =, ref_valid WITH &&)\n",
      "└ @ SearchLightPostgreSQL /home/mf/dev/julia_depot/packages/SearchLightPostgreSQL/8KdWH/src/SearchLightPostgreSQL.jl:135\n",
      "┌ Info: CREATE TABLE products (id BIGSERIAL PRIMARY KEY, ref_history BIGINT REFERENCES histories(id) ON DELETE CASCADE, ref_version BIGINT REFERENCES versions(id) ON DELETE CASCADE)\n",
      "└ @ SearchLightPostgreSQL /home/mf/dev/julia_depot/packages/SearchLightPostgreSQL/8KdWH/src/SearchLightPostgreSQL.jl:135\n",
      "┌ Info: CREATE TABLE productRevisions (id BIGSERIAL PRIMARY KEY, ref_component BIGINT REFERENCES products(id) ON DELETE CASCADE, ref_validfrom BIGINT REFERENCES versions(id) ON DELETE CASCADE, ref_invalidfrom BIGINT DEFAULT 2^53 - 1 REFERENCES versions(id) ON DELETE SET DEFAULT, ref_valid INT8RANGE , description VARCHAR )\n",
      "└ @ SearchLightPostgreSQL /home/mf/dev/julia_depot/packages/SearchLightPostgreSQL/8KdWH/src/SearchLightPostgreSQL.jl:135\n",
      "┌ Info: CREATE TRIGGER p_versions_trig\n",
      "│ BEFORE INSERT OR UPDATE ON productRevisions\n",
      "│ FOR EACH ROW EXECUTE PROCEDURE f_versionrange();\n",
      "└ @ SearchLightPostgreSQL /home/mf/dev/julia_depot/packages/SearchLightPostgreSQL/8KdWH/src/SearchLightPostgreSQL.jl:135\n",
      "┌ Info: ALTER TABLE productRevisions\n",
      "│ ADD CONSTRAINT p_versionrange EXCLUDE USING GIST (ref_component WITH =, ref_valid WITH &&)\n",
      "└ @ SearchLightPostgreSQL /home/mf/dev/julia_depot/packages/SearchLightPostgreSQL/8KdWH/src/SearchLightPostgreSQL.jl:135\n",
      "┌ Info: CREATE TABLE productParts (id BIGSERIAL PRIMARY KEY, ref_history BIGINT REFERENCES histories(id) ON DELETE CASCADE, ref_version BIGINT REFERENCES versions(id) ON DELETE CASCADE, ref_super BIGINT REFERENCES products(id) ON DELETE CASCADE)\n",
      "└ @ SearchLightPostgreSQL /home/mf/dev/julia_depot/packages/SearchLightPostgreSQL/8KdWH/src/SearchLightPostgreSQL.jl:135\n",
      "┌ Info: CREATE TABLE productPartRevisions (id BIGSERIAL PRIMARY KEY, ref_component BIGINT REFERENCES productParts(id) ON DELETE CASCADE, position BIGINT , ref_role BIGINT REFERENCES productpartroles(id) ON DELETE CASCADE, ref_tariff BIGINT REFERENCES tariffs(id) ON DELETE CASCADE, ref_validfrom BIGINT REFERENCES versions(id) ON DELETE CASCADE, ref_invalidfrom BIGINT DEFAULT 2^53 - 1 REFERENCES versions(id) ON DELETE SET DEFAULT, ref_valid INT8RANGE , description VARCHAR )\n",
      "└ @ SearchLightPostgreSQL /home/mf/dev/julia_depot/packages/SearchLightPostgreSQL/8KdWH/src/SearchLightPostgreSQL.jl:135\n",
      "┌ Info: CREATE TRIGGER pp_versions_trig\n",
      "│ BEFORE INSERT OR UPDATE ON productPartRevisions\n",
      "│ FOR EACH ROW EXECUTE PROCEDURE f_versionrange();\n",
      "└ @ SearchLightPostgreSQL /home/mf/dev/julia_depot/packages/SearchLightPostgreSQL/8KdWH/src/SearchLightPostgreSQL.jl:135\n",
      "┌ Info: ALTER TABLE productPartRevisions\n",
      "│ ADD CONSTRAINT pp_versionrange EXCLUDE USING GIST (ref_component WITH =, ref_valid WITH &&)\n",
      "└ @ SearchLightPostgreSQL /home/mf/dev/julia_depot/packages/SearchLightPostgreSQL/8KdWH/src/SearchLightPostgreSQL.jl:135\n",
      "┌ Info: CREATE TABLE productItems (id BIGSERIAL PRIMARY KEY, ref_history BIGINT REFERENCES histories(id) ON DELETE CASCADE, ref_version BIGINT REFERENCES versions(id) ON DELETE CASCADE, ref_super BIGINT REFERENCES contracts(id) ON DELETE CASCADE)\n",
      "└ @ SearchLightPostgreSQL /home/mf/dev/julia_depot/packages/SearchLightPostgreSQL/8KdWH/src/SearchLightPostgreSQL.jl:135\n"
     ]
    },
    {
     "name": "stderr",
     "output_type": "stream",
     "text": [
      "┌ Info: CREATE TABLE productItemRevisions (id BIGSERIAL PRIMARY KEY, ref_component BIGINT REFERENCES productitems(id) ON DELETE CASCADE, ref_product BIGINT REFERENCES products(id) ON DELETE CASCADE, ref_validfrom BIGINT REFERENCES versions(id) ON DELETE CASCADE, ref_invalidfrom BIGINT DEFAULT 2^53 - 1 REFERENCES versions(id) ON DELETE SET DEFAULT, ref_valid INT8RANGE , description VARCHAR )\n",
      "└ @ SearchLightPostgreSQL /home/mf/dev/julia_depot/packages/SearchLightPostgreSQL/8KdWH/src/SearchLightPostgreSQL.jl:135\n",
      "┌ Info: CREATE TRIGGER pi_versions_trig\n",
      "│ BEFORE INSERT OR UPDATE ON productitemRevisions\n",
      "│ FOR EACH ROW EXECUTE PROCEDURE f_versionrange();\n",
      "└ @ SearchLightPostgreSQL /home/mf/dev/julia_depot/packages/SearchLightPostgreSQL/8KdWH/src/SearchLightPostgreSQL.jl:135\n",
      "┌ Info: ALTER TABLE productitemRevisions\n",
      "│ ADD CONSTRAINT pi_versionrange EXCLUDE USING GIST (ref_component WITH =, ref_valid WITH &&)\n",
      "└ @ SearchLightPostgreSQL /home/mf/dev/julia_depot/packages/SearchLightPostgreSQL/8KdWH/src/SearchLightPostgreSQL.jl:135\n",
      "┌ Info: CREATE TABLE partners (id BIGSERIAL PRIMARY KEY, ref_history BIGINT REFERENCES histories(id) ON DELETE CASCADE, ref_version BIGINT REFERENCES versions(id) ON DELETE CASCADE)\n",
      "└ @ SearchLightPostgreSQL /home/mf/dev/julia_depot/packages/SearchLightPostgreSQL/8KdWH/src/SearchLightPostgreSQL.jl:135\n",
      "┌ Info: CREATE TABLE partnerRevisions (id BIGSERIAL PRIMARY KEY, ref_component BIGINT REFERENCES partners(id) ON DELETE CASCADE, ref_validfrom BIGINT REFERENCES versions(id) ON DELETE CASCADE, ref_invalidfrom BIGINT DEFAULT 2^53 - 1 REFERENCES versions(id) ON DELETE SET DEFAULT, ref_valid INT8RANGE , description VARCHAR , date_of_birth DATE )\n",
      "└ @ SearchLightPostgreSQL /home/mf/dev/julia_depot/packages/SearchLightPostgreSQL/8KdWH/src/SearchLightPostgreSQL.jl:135\n",
      "┌ Info: CREATE TRIGGER pr_versions_trig\n",
      "│ BEFORE INSERT OR UPDATE ON partnerRevisions\n",
      "│ FOR EACH ROW EXECUTE PROCEDURE f_versionrange();\n",
      "└ @ SearchLightPostgreSQL /home/mf/dev/julia_depot/packages/SearchLightPostgreSQL/8KdWH/src/SearchLightPostgreSQL.jl:135\n",
      "┌ Info: ALTER TABLE partnerRevisions\n",
      "│ ADD CONSTRAINT pr_versionrange EXCLUDE USING GIST (ref_component WITH =, ref_valid WITH &&)\n",
      "└ @ SearchLightPostgreSQL /home/mf/dev/julia_depot/packages/SearchLightPostgreSQL/8KdWH/src/SearchLightPostgreSQL.jl:135\n",
      "┌ Info: CREATE TABLE contractPartnerRefs (id BIGSERIAL PRIMARY KEY, ref_history BIGINT REFERENCES histories(id) ON DELETE CASCADE, ref_version BIGINT REFERENCES versions(id) ON DELETE CASCADE, ref_super BIGINT REFERENCES contracts(id) ON DELETE CASCADE)\n",
      "└ @ SearchLightPostgreSQL /home/mf/dev/julia_depot/packages/SearchLightPostgreSQL/8KdWH/src/SearchLightPostgreSQL.jl:135\n",
      "┌ Info: CREATE TABLE contractPartnerRefRevisions (id BIGSERIAL PRIMARY KEY, ref_component BIGINT REFERENCES contractPartnerRefs(id) ON DELETE CASCADE, ref_role BIGINT REFERENCES contractpartnerroles(id) ON DELETE CASCADE, ref_validfrom BIGINT REFERENCES versions(id) ON DELETE CASCADE, ref_invalidfrom BIGINT DEFAULT 2^53 - 1 REFERENCES versions(id) ON DELETE SET DEFAULT, ref_valid INT8RANGE , description VARCHAR , ref_partner BIGINT REFERENCES partners(id) ON DELETE CASCADE)\n",
      "└ @ SearchLightPostgreSQL /home/mf/dev/julia_depot/packages/SearchLightPostgreSQL/8KdWH/src/SearchLightPostgreSQL.jl:135\n",
      "┌ Info: CREATE TRIGGER cprr_versions_trig\n",
      "│ BEFORE INSERT OR UPDATE ON contractPartnerRefRevisions\n",
      "│ FOR EACH ROW EXECUTE PROCEDURE f_versionrange();\n",
      "└ @ SearchLightPostgreSQL /home/mf/dev/julia_depot/packages/SearchLightPostgreSQL/8KdWH/src/SearchLightPostgreSQL.jl:135\n",
      "┌ Info: ALTER TABLE contractPartnerRefRevisions\n",
      "│ ADD CONSTRAINT cprr_versionrange EXCLUDE USING GIST (ref_component WITH =, ref_valid WITH &&)\n",
      "└ @ SearchLightPostgreSQL /home/mf/dev/julia_depot/packages/SearchLightPostgreSQL/8KdWH/src/SearchLightPostgreSQL.jl:135\n",
      "┌ Info: CREATE TABLE TariffItems (id BIGSERIAL PRIMARY KEY, ref_history BIGINT REFERENCES histories(id) ON DELETE CASCADE, ref_version BIGINT REFERENCES versions(id) ON DELETE CASCADE, ref_super BIGINT REFERENCES productitems(id) ON DELETE CASCADE)\n",
      "└ @ SearchLightPostgreSQL /home/mf/dev/julia_depot/packages/SearchLightPostgreSQL/8KdWH/src/SearchLightPostgreSQL.jl:135\n"
     ]
    },
    {
     "name": "stderr",
     "output_type": "stream",
     "text": [
      "┌ Info: CREATE TABLE TariffItemRevisions (id BIGSERIAL PRIMARY KEY, ref_component BIGINT REFERENCES tariffitems(id) ON DELETE CASCADE, ref_role BIGINT REFERENCES tariffitemroles(id) ON DELETE CASCADE, ref_validfrom BIGINT REFERENCES versions(id) ON DELETE CASCADE, ref_invalidfrom BIGINT DEFAULT 2^53 - 1 REFERENCES versions(id) ON DELETE SET DEFAULT, ref_valid INT8RANGE , description VARCHAR , ref_tariff BIGINT REFERENCES tariffs(id) ON DELETE CASCADE, parameters VARCHAR )\n",
      "└ @ SearchLightPostgreSQL /home/mf/dev/julia_depot/packages/SearchLightPostgreSQL/8KdWH/src/SearchLightPostgreSQL.jl:135\n",
      "┌ Info: CREATE TRIGGER pitrr_versions_trig\n",
      "│ BEFORE INSERT OR UPDATE ON TariffItemRevisions\n",
      "│ FOR EACH ROW EXECUTE PROCEDURE f_versionrange();\n",
      "└ @ SearchLightPostgreSQL /home/mf/dev/julia_depot/packages/SearchLightPostgreSQL/8KdWH/src/SearchLightPostgreSQL.jl:135\n",
      "┌ Info: ALTER TABLE TariffItemRevisions\n",
      "│ ADD CONSTRAINT pitrr_versionrange EXCLUDE USING GIST (ref_component WITH =, ref_valid WITH &&)\n",
      "└ @ SearchLightPostgreSQL /home/mf/dev/julia_depot/packages/SearchLightPostgreSQL/8KdWH/src/SearchLightPostgreSQL.jl:135\n",
      "┌ Info: CREATE TABLE TariffItemPartnerRefs (id BIGSERIAL PRIMARY KEY, ref_history BIGINT REFERENCES histories(id) ON DELETE CASCADE, ref_version BIGINT REFERENCES versions(id) ON DELETE CASCADE, ref_super BIGINT REFERENCES tariffitems(id) ON DELETE CASCADE)\n",
      "└ @ SearchLightPostgreSQL /home/mf/dev/julia_depot/packages/SearchLightPostgreSQL/8KdWH/src/SearchLightPostgreSQL.jl:135\n",
      "┌ Info: CREATE TABLE TariffItemPartnerRefRevisions (id BIGSERIAL PRIMARY KEY, ref_component BIGINT REFERENCES TariffItemPartnerRefs(id) ON DELETE CASCADE, ref_role BIGINT REFERENCES tariffitempartnerroles(id) ON DELETE CASCADE, ref_validfrom BIGINT REFERENCES versions(id) ON DELETE CASCADE, ref_invalidfrom BIGINT DEFAULT 2^53 - 1 REFERENCES versions(id) ON DELETE SET DEFAULT, ref_valid INT8RANGE , description VARCHAR , ref_partner BIGINT REFERENCES partners(id) ON DELETE CASCADE)\n",
      "└ @ SearchLightPostgreSQL /home/mf/dev/julia_depot/packages/SearchLightPostgreSQL/8KdWH/src/SearchLightPostgreSQL.jl:135\n",
      "┌ Info: CREATE TRIGGER piprr_versions_trig\n",
      "│ BEFORE INSERT OR UPDATE ON TariffItemPartnerRefRevisions\n",
      "│ FOR EACH ROW EXECUTE PROCEDURE f_versionrange();\n",
      "└ @ SearchLightPostgreSQL /home/mf/dev/julia_depot/packages/SearchLightPostgreSQL/8KdWH/src/SearchLightPostgreSQL.jl:135\n",
      "┌ Info: ALTER TABLE TariffItemPartnerRefRevisions\n",
      "│ ADD CONSTRAINT piprr_versionrange EXCLUDE USING GIST (ref_component WITH =, ref_valid WITH &&)\n",
      "└ @ SearchLightPostgreSQL /home/mf/dev/julia_depot/packages/SearchLightPostgreSQL/8KdWH/src/SearchLightPostgreSQL.jl:135\n",
      "┌ Info: INSERT INTO contractpartnerroles ( \"domain\", \"value\" ) VALUES ( E'ContractPartner', E'Policy Holder' ) RETURNING id\n",
      "└ @ SearchLightPostgreSQL /home/mf/dev/julia_depot/packages/SearchLightPostgreSQL/8KdWH/src/SearchLightPostgreSQL.jl:135\n"
     ]
    },
    {
     "name": "stderr",
     "output_type": "stream",
     "text": [
      "┌ Info: SELECT \"contractpartnerroles\".\"id\" AS \"contractpartnerroles_id\", \"contractpartnerroles\".\"domain\" AS \"contractpartnerroles_domain\", \"contractpartnerroles\".\"value\" AS \"contractpartnerroles_value\" FROM \"contractpartnerroles\" WHERE \"id\" = 1 ORDER BY contractpartnerroles.id ASC\n",
      "└ @ SearchLightPostgreSQL /home/mf/dev/julia_depot/packages/SearchLightPostgreSQL/8KdWH/src/SearchLightPostgreSQL.jl:135\n"
     ]
    },
    {
     "name": "stderr",
     "output_type": "stream",
     "text": [
      "┌ Info: INSERT INTO contractpartnerroles ( \"domain\", \"value\" ) VALUES ( E'ContractPartner', E'Premium Payer' ) RETURNING id\n",
      "└ @ SearchLightPostgreSQL /home/mf/dev/julia_depot/packages/SearchLightPostgreSQL/8KdWH/src/SearchLightPostgreSQL.jl:135\n",
      "┌ Info: SELECT \"contractpartnerroles\".\"id\" AS \"contractpartnerroles_id\", \"contractpartnerroles\".\"domain\" AS \"contractpartnerroles_domain\", \"contractpartnerroles\".\"value\" AS \"contractpartnerroles_value\" FROM \"contractpartnerroles\" WHERE \"id\" = 2 ORDER BY contractpartnerroles.id ASC\n",
      "└ @ SearchLightPostgreSQL /home/mf/dev/julia_depot/packages/SearchLightPostgreSQL/8KdWH/src/SearchLightPostgreSQL.jl:135\n"
     ]
    },
    {
     "name": "stderr",
     "output_type": "stream",
     "text": [
      "┌ Info: INSERT INTO tariffitempartnerroles ( \"domain\", \"value\" ) VALUES ( E'TariffItemPartner', E'Insured Person' ) RETURNING id\n",
      "└ @ SearchLightPostgreSQL /home/mf/dev/julia_depot/packages/SearchLightPostgreSQL/8KdWH/src/SearchLightPostgreSQL.jl:135\n",
      "┌ Info: SELECT \"tariffitempartnerroles\".\"id\" AS \"tariffitempartnerroles_id\", \"tariffitempartnerroles\".\"domain\" AS \"tariffitempartnerroles_domain\", \"tariffitempartnerroles\".\"value\" AS \"tariffitempartnerroles_value\" FROM \"tariffitempartnerroles\" WHERE \"id\" = 1 ORDER BY tariffitempartnerroles.id ASC\n",
      "└ @ SearchLightPostgreSQL /home/mf/dev/julia_depot/packages/SearchLightPostgreSQL/8KdWH/src/SearchLightPostgreSQL.jl:135\n"
     ]
    },
    {
     "name": "stderr",
     "output_type": "stream",
     "text": [
      "┌ Info: INSERT INTO tariffitempartnerroles ( \"domain\", \"value\" ) VALUES ( E'TariffItemPartner', E'2nd Insured Person' ) RETURNING id\n",
      "└ @ SearchLightPostgreSQL /home/mf/dev/julia_depot/packages/SearchLightPostgreSQL/8KdWH/src/SearchLightPostgreSQL.jl:135\n",
      "┌ Info: SELECT \"tariffitempartnerroles\".\"id\" AS \"tariffitempartnerroles_id\", \"tariffitempartnerroles\".\"domain\" AS \"tariffitempartnerroles_domain\", \"tariffitempartnerroles\".\"value\" AS \"tariffitempartnerroles_value\" FROM \"tariffitempartnerroles\" WHERE \"id\" = 2 ORDER BY tariffitempartnerroles.id ASC\n",
      "└ @ SearchLightPostgreSQL /home/mf/dev/julia_depot/packages/SearchLightPostgreSQL/8KdWH/src/SearchLightPostgreSQL.jl:135\n"
     ]
    },
    {
     "name": "stderr",
     "output_type": "stream",
     "text": [
      "┌ Info: INSERT INTO tariffitemroles ( \"domain\", \"value\" ) VALUES ( E'TariffItem', E'Main Coverage - Life' ) RETURNING id\n",
      "└ @ SearchLightPostgreSQL /home/mf/dev/julia_depot/packages/SearchLightPostgreSQL/8KdWH/src/SearchLightPostgreSQL.jl:135\n",
      "┌ Info: SELECT \"tariffitemroles\".\"id\" AS \"tariffitemroles_id\", \"tariffitemroles\".\"domain\" AS \"tariffitemroles_domain\", \"tariffitemroles\".\"value\" AS \"tariffitemroles_value\" FROM \"tariffitemroles\" WHERE \"id\" = 1 ORDER BY tariffitemroles.id ASC\n",
      "└ @ SearchLightPostgreSQL /home/mf/dev/julia_depot/packages/SearchLightPostgreSQL/8KdWH/src/SearchLightPostgreSQL.jl:135\n"
     ]
    },
    {
     "name": "stderr",
     "output_type": "stream",
     "text": [
      "┌ Info: INSERT INTO tariffitemroles ( \"domain\", \"value\" ) VALUES ( E'TariffItem', E'Supplementary Coverage - Occupational Disablity' ) RETURNING id\n",
      "└ @ SearchLightPostgreSQL /home/mf/dev/julia_depot/packages/SearchLightPostgreSQL/8KdWH/src/SearchLightPostgreSQL.jl:135\n",
      "┌ Info: SELECT \"tariffitemroles\".\"id\" AS \"tariffitemroles_id\", \"tariffitemroles\".\"domain\" AS \"tariffitemroles_domain\", \"tariffitemroles\".\"value\" AS \"tariffitemroles_value\" FROM \"tariffitemroles\" WHERE \"id\" = 2 ORDER BY tariffitemroles.id ASC\n",
      "└ @ SearchLightPostgreSQL /home/mf/dev/julia_depot/packages/SearchLightPostgreSQL/8KdWH/src/SearchLightPostgreSQL.jl:135\n",
      "┌ Info: INSERT INTO tariffitemroles ( \"domain\", \"value\" ) VALUES ( E'TariffItem', E'Supplementary Coverage - Terminal Illness' ) RETURNING id\n",
      "└ @ SearchLightPostgreSQL /home/mf/dev/julia_depot/packages/SearchLightPostgreSQL/8KdWH/src/SearchLightPostgreSQL.jl:135\n",
      "┌ Info: SELECT \"tariffitemroles\".\"id\" AS \"tariffitemroles_id\", \"tariffitemroles\".\"domain\" AS \"tariffitemroles_domain\", \"tariffitemroles\".\"value\" AS \"tariffitemroles_value\" FROM \"tariffitemroles\" WHERE \"id\" = 3 ORDER BY tariffitemroles.id ASC\n",
      "└ @ SearchLightPostgreSQL /home/mf/dev/julia_depot/packages/SearchLightPostgreSQL/8KdWH/src/SearchLightPostgreSQL.jl:135\n",
      "┌ Info: INSERT INTO tariffitemroles ( \"domain\", \"value\" ) VALUES ( E'TariffItem', E'Profit participation' ) RETURNING id\n",
      "└ @ SearchLightPostgreSQL /home/mf/dev/julia_depot/packages/SearchLightPostgreSQL/8KdWH/src/SearchLightPostgreSQL.jl:135\n",
      "┌ Info: SELECT \"tariffitemroles\".\"id\" AS \"tariffitemroles_id\", \"tariffitemroles\".\"domain\" AS \"tariffitemroles_domain\", \"tariffitemroles\".\"value\" AS \"tariffitemroles_value\" FROM \"tariffitemroles\" WHERE \"id\" = 4 ORDER BY tariffitemroles.id ASC\n",
      "└ @ SearchLightPostgreSQL /home/mf/dev/julia_depot/packages/SearchLightPostgreSQL/8KdWH/src/SearchLightPostgreSQL.jl:135\n"
     ]
    },
    {
     "name": "stderr",
     "output_type": "stream",
     "text": [
      "┌ Info: INSERT INTO productpartroles ( \"domain\", \"value\" ) VALUES ( E'ProductPart', E'Main Coverage - Life' ) RETURNING id\n",
      "└ @ SearchLightPostgreSQL /home/mf/dev/julia_depot/packages/SearchLightPostgreSQL/8KdWH/src/SearchLightPostgreSQL.jl:135\n",
      "┌ Info: SELECT \"productpartroles\".\"id\" AS \"productpartroles_id\", \"productpartroles\".\"domain\" AS \"productpartroles_domain\", \"productpartroles\".\"value\" AS \"productpartroles_value\" FROM \"productpartroles\" WHERE \"id\" = 1 ORDER BY productpartroles.id ASC\n",
      "└ @ SearchLightPostgreSQL /home/mf/dev/julia_depot/packages/SearchLightPostgreSQL/8KdWH/src/SearchLightPostgreSQL.jl:135\n"
     ]
    },
    {
     "name": "stderr",
     "output_type": "stream",
     "text": [
      "┌ Info: INSERT INTO productpartroles ( \"domain\", \"value\" ) VALUES ( E'ProductPart', E'Supplementary Coverage - Occupational Disablity' ) RETURNING id\n",
      "└ @ SearchLightPostgreSQL /home/mf/dev/julia_depot/packages/SearchLightPostgreSQL/8KdWH/src/SearchLightPostgreSQL.jl:135\n",
      "┌ Info: SELECT \"productpartroles\".\"id\" AS \"productpartroles_id\", \"productpartroles\".\"domain\" AS \"productpartroles_domain\", \"productpartroles\".\"value\" AS \"productpartroles_value\" FROM \"productpartroles\" WHERE \"id\" = 2 ORDER BY productpartroles.id ASC\n",
      "└ @ SearchLightPostgreSQL /home/mf/dev/julia_depot/packages/SearchLightPostgreSQL/8KdWH/src/SearchLightPostgreSQL.jl:135\n",
      "┌ Info: INSERT INTO productpartroles ( \"domain\", \"value\" ) VALUES ( E'ProductPart', E'Supplementary Coverage - Terminal Illness' ) RETURNING id\n",
      "└ @ SearchLightPostgreSQL /home/mf/dev/julia_depot/packages/SearchLightPostgreSQL/8KdWH/src/SearchLightPostgreSQL.jl:135\n",
      "┌ Info: SELECT \"productpartroles\".\"id\" AS \"productpartroles_id\", \"productpartroles\".\"domain\" AS \"productpartroles_domain\", \"productpartroles\".\"value\" AS \"productpartroles_value\" FROM \"productpartroles\" WHERE \"id\" = 3 ORDER BY productpartroles.id ASC\n",
      "└ @ SearchLightPostgreSQL /home/mf/dev/julia_depot/packages/SearchLightPostgreSQL/8KdWH/src/SearchLightPostgreSQL.jl:135\n",
      "┌ Info: INSERT INTO productpartroles ( \"domain\", \"value\" ) VALUES ( E'ProductPart', E'Profit participation' ) RETURNING id\n",
      "└ @ SearchLightPostgreSQL /home/mf/dev/julia_depot/packages/SearchLightPostgreSQL/8KdWH/src/SearchLightPostgreSQL.jl:135\n",
      "┌ Info: SELECT \"productpartroles\".\"id\" AS \"productpartroles_id\", \"productpartroles\".\"domain\" AS \"productpartroles_domain\", \"productpartroles\".\"value\" AS \"productpartroles_value\" FROM \"productpartroles\" WHERE \"id\" = 4 ORDER BY productpartroles.id ASC\n",
      "└ @ SearchLightPostgreSQL /home/mf/dev/julia_depot/packages/SearchLightPostgreSQL/8KdWH/src/SearchLightPostgreSQL.jl:135\n"
     ]
    },
    {
     "data": {
      "text/plain": [
       "1×4 Matrix{ProductPartRole}:\n",
       " ProductPartRole\n",
       "| KEY            | VALUE                |\n",
       "|----------------|----------------------|\n",
       "| domain::String | ProductPart          |\n",
       "| id::DbId       | 1                    |\n",
       "| value::String  | Main Coverage - Life |\n",
       "  …  ProductPartRole\n",
       "| KEY            | VALUE                |\n",
       "|----------------|----------------------|\n",
       "| domain::String | ProductPart          |\n",
       "| id::DbId       | 4                    |\n",
       "| value::String  | Profit participation |\n"
      ]
     },
     "metadata": {},
     "output_type": "display_data"
    }
   ],
   "source": [
    "using BitemporalPostgres\n",
    "using LifeInsuranceDataModel, LifeInsuranceProduct\n",
    "using SearchLight\n",
    "using SearchLightPostgreSQL\n",
    "using TimeZones\n",
    "ENV[\"SEARCHLIGHT_USERNAME\"] = \"mf\"\n",
    "ENV[\"SEARCHLIGHT_PASSWORD\"] = \"mf\"\n",
    "SearchLight.Configuration.load() |> SearchLight.connect\n",
    "\n",
    "SearchLight.query(\"DROP SCHEMA public CASCADE\")\n",
    "SearchLight.query(\"CREATE SCHEMA public\")\n",
    "LifeInsuranceDataModel.load_model()"
   ]
  },
  {
   "cell_type": "code",
   "execution_count": 3,
   "metadata": {},
   "outputs": [
    {
     "name": "stderr",
     "output_type": "stream",
     "text": [
      "┌ Info: BEGIN\n",
      "└ @ SearchLightPostgreSQL /home/mf/dev/julia_depot/packages/SearchLightPostgreSQL/8KdWH/src/SearchLightPostgreSQL.jl:135\n",
      "┌ Info: INSERT INTO histories ( \"dummy\" ) VALUES ( 0 ) RETURNING id\n",
      "└ @ SearchLightPostgreSQL /home/mf/dev/julia_depot/packages/SearchLightPostgreSQL/8KdWH/src/SearchLightPostgreSQL.jl:135\n"
     ]
    },
    {
     "name": "stderr",
     "output_type": "stream",
     "text": [
      "┌ Info: SELECT \"histories\".\"id\" AS \"histories_id\", \"histories\".\"dummy\" AS \"histories_dummy\" FROM \"histories\" WHERE \"id\" = 1 ORDER BY histories.id ASC\n",
      "└ @ SearchLightPostgreSQL /home/mf/dev/julia_depot/packages/SearchLightPostgreSQL/8KdWH/src/SearchLightPostgreSQL.jl:135\n"
     ]
    },
    {
     "name": "stderr",
     "output_type": "stream",
     "text": [
      "┌ Info: INSERT INTO versions ( \"ref_history\" ) VALUES ( E'1' ) RETURNING id\n",
      "└ @ SearchLightPostgreSQL /home/mf/dev/julia_depot/packages/SearchLightPostgreSQL/8KdWH/src/SearchLightPostgreSQL.jl:135\n",
      "┌ Info: SELECT \"versions\".\"id\" AS \"versions_id\", \"versions\".\"ref_history\" AS \"versions_ref_history\" FROM \"versions\" WHERE \"id\" = 1 ORDER BY versions.id ASC\n",
      "└ @ SearchLightPostgreSQL /home/mf/dev/julia_depot/packages/SearchLightPostgreSQL/8KdWH/src/SearchLightPostgreSQL.jl:135\n"
     ]
    },
    {
     "name": "stderr",
     "output_type": "stream",
     "text": [
      "┌ Info: INSERT INTO workflows ( \"ref_history\", \"ref_version\", \"tsdb_validfrom\", \"tsw_validfrom\", \"is_committed\", \"type_of_entity\" ) VALUES ( E'1', E'1', E'2038-01-19T03:14:06.999+00:00', E'2014-05-30T21:00:01.001+00:00', 0, E'Tariff' ) RETURNING id\n",
      "└ @ SearchLightPostgreSQL /home/mf/dev/julia_depot/packages/SearchLightPostgreSQL/8KdWH/src/SearchLightPostgreSQL.jl:135\n",
      "┌ Info: SELECT \"workflows\".\"id\" AS \"workflows_id\", \"workflows\".\"ref_history\" AS \"workflows_ref_history\", \"workflows\".\"ref_version\" AS \"workflows_ref_version\", \"workflows\".\"tsdb_validfrom\" AS \"workflows_tsdb_validfrom\", \"workflows\".\"tsw_validfrom\" AS \"workflows_tsw_validfrom\", \"workflows\".\"is_committed\" AS \"workflows_is_committed\", \"workflows\".\"type_of_entity\" AS \"workflows_type_of_entity\" FROM \"workflows\" WHERE \"id\" = 1 ORDER BY workflows.id ASC\n",
      "└ @ SearchLightPostgreSQL /home/mf/dev/julia_depot/packages/SearchLightPostgreSQL/8KdWH/src/SearchLightPostgreSQL.jl:135\n"
     ]
    },
    {
     "name": "stderr",
     "output_type": "stream",
     "text": [
      "┌ Info: INSERT INTO validityintervals ( \"ref_history\", \"ref_version\", \"tsdb_validfrom\", \"tsworld_validfrom\", \"tsdb_invalidfrom\", \"tsworld_invalidfrom\", \"is_committed\" ) VALUES ( E'1', E'1', E'2023-03-26T16:00:36.629+00:00', E'2014-05-30T21:00:01.001+00:00', E'2038-01-19T03:14:06.999+00:00', E'2038-01-19T03:14:06.999+00:00', 0 ) RETURNING id\n",
      "└ @ SearchLightPostgreSQL /home/mf/dev/julia_depot/packages/SearchLightPostgreSQL/8KdWH/src/SearchLightPostgreSQL.jl:135\n",
      "NOTICE:  NEW: (1,1,1,\"2014-05-30 21:00:01.001+00\",\"2038-01-19 03:14:06.999+00\",\"2023-03-26 16:00:36.629+00\",\"2038-01-19 03:14:06.999+00\",,,0)\n",
      "┌ Info: SELECT \"validityintervals\".\"id\" AS \"validityintervals_id\", \"validityintervals\".\"ref_history\" AS \"validityintervals_ref_history\", \"validityintervals\".\"ref_version\" AS \"validityintervals_ref_version\", \"validityintervals\".\"tsdb_validfrom\" AS \"validityintervals_tsdb_validfrom\", \"validityintervals\".\"tsworld_validfrom\" AS \"validityintervals_tsworld_validfrom\", \"validityintervals\".\"tsdb_invalidfrom\" AS \"validityintervals_tsdb_invalidfrom\", \"validityintervals\".\"tsworld_invalidfrom\" AS \"validityintervals_tsworld_invalidfrom\", \"validityintervals\".\"is_committed\" AS \"validityintervals_is_committed\" FROM \"validityintervals\" WHERE \"id\" = 1 ORDER BY validityintervals.id ASC\n",
      "└ @ SearchLightPostgreSQL /home/mf/dev/julia_depot/packages/SearchLightPostgreSQL/8KdWH/src/SearchLightPostgreSQL.jl:135\n"
     ]
    },
    {
     "name": "stderr",
     "output_type": "stream",
     "text": [
      "┌ Info: COMMIT\n",
      "└ @ SearchLightPostgreSQL /home/mf/dev/julia_depot/packages/SearchLightPostgreSQL/8KdWH/src/SearchLightPostgreSQL.jl:135\n",
      "┌ Info: BEGIN\n",
      "└ @ SearchLightPostgreSQL /home/mf/dev/julia_depot/packages/SearchLightPostgreSQL/8KdWH/src/SearchLightPostgreSQL.jl:135\n",
      "┌ Info: INSERT INTO tariffs ( \"ref_history\", \"ref_version\" ) VALUES ( E'1', E'1' ) RETURNING id\n",
      "└ @ SearchLightPostgreSQL /home/mf/dev/julia_depot/packages/SearchLightPostgreSQL/8KdWH/src/SearchLightPostgreSQL.jl:135\n",
      "┌ Info: SELECT \"tariffs\".\"id\" AS \"tariffs_id\", \"tariffs\".\"ref_history\" AS \"tariffs_ref_history\", \"tariffs\".\"ref_version\" AS \"tariffs_ref_version\" FROM \"tariffs\" WHERE \"id\" = 1 ORDER BY tariffs.id ASC\n",
      "└ @ SearchLightPostgreSQL /home/mf/dev/julia_depot/packages/SearchLightPostgreSQL/8KdWH/src/SearchLightPostgreSQL.jl:135\n"
     ]
    },
    {
     "name": "stderr",
     "output_type": "stream",
     "text": [
      "┌ Info: INSERT INTO tariffrevisions ( \"ref_component\", \"ref_validfrom\", \"ref_invalidfrom\", \"description\", \"interface_id\", \"parameters\", \"mortality_table\" ) VALUES ( E'1', E'1', E'9007199254740991', E'Life Risk Insurance', 1, E'{\"mortality_tables\":{\"f\":{\"nonsmoker\":\"1986-92 CIA – Female Nonsmoker, ANB\",\"smoker\":\"1986-92 CIA – Female Smoker, ANB\"},\"m\":{\"nonsmoker\":\"1986-92 CIA – Male Nonsmoker, ANB\",\"smoker\":\"1986-92 CIA – Male Smoker, ANB\"}}}', E'' ) RETURNING id\n",
      "└ @ SearchLightPostgreSQL /home/mf/dev/julia_depot/packages/SearchLightPostgreSQL/8KdWH/src/SearchLightPostgreSQL.jl:135\n",
      "NOTICE:  NEW: (1,1,1,9007199254740991,,\"Life Risk Insurance\",1,\"\",\"{\"\"mortality_tables\"\":{\"\"f\"\":{\"\"nonsmoker\"\":\"\"1986-92 CIA – Female Nonsmoker, ANB\"\",\"\"smoker\"\":\"\"1986-92 CIA – Female Smoker, ANB\"\"},\"\"m\"\":{\"\"nonsmoker\"\":\"\"1986-92 CIA – Male Nonsmoker, ANB\"\",\"\"smoker\"\":\"\"1986-92 CIA – Male Smoker, ANB\"\"}}}\")\n",
      "┌ Info: SELECT \"tariffrevisions\".\"id\" AS \"tariffrevisions_id\", \"tariffrevisions\".\"ref_component\" AS \"tariffrevisions_ref_component\", \"tariffrevisions\".\"ref_validfrom\" AS \"tariffrevisions_ref_validfrom\", \"tariffrevisions\".\"ref_invalidfrom\" AS \"tariffrevisions_ref_invalidfrom\", \"tariffrevisions\".\"description\" AS \"tariffrevisions_description\", \"tariffrevisions\".\"interface_id\" AS \"tariffrevisions_interface_id\", \"tariffrevisions\".\"parameters\" AS \"tariffrevisions_parameters\", \"tariffrevisions\".\"mortality_table\" AS \"tariffrevisions_mortality_table\" FROM \"tariffrevisions\" WHERE \"id\" = 1 ORDER BY tariffrevisions.id ASC\n",
      "└ @ SearchLightPostgreSQL /home/mf/dev/julia_depot/packages/SearchLightPostgreSQL/8KdWH/src/SearchLightPostgreSQL.jl:135\n"
     ]
    },
    {
     "name": "stderr",
     "output_type": "stream",
     "text": [
      "┌ Info: COMMIT\n",
      "└ @ SearchLightPostgreSQL /home/mf/dev/julia_depot/packages/SearchLightPostgreSQL/8KdWH/src/SearchLightPostgreSQL.jl:135\n",
      "┌ Info: BEGIN\n",
      "└ @ SearchLightPostgreSQL /home/mf/dev/julia_depot/packages/SearchLightPostgreSQL/8KdWH/src/SearchLightPostgreSQL.jl:135\n",
      "┌ Info: INSERT INTO tariffpartnerroles ( \"ref_history\", \"ref_version\", \"ref_super\" ) VALUES ( E'1', NULL, E'1' ) RETURNING id\n",
      "└ @ SearchLightPostgreSQL /home/mf/dev/julia_depot/packages/SearchLightPostgreSQL/8KdWH/src/SearchLightPostgreSQL.jl:135\n",
      "┌ Info: SELECT \"tariffpartnerroles\".\"id\" AS \"tariffpartnerroles_id\", \"tariffpartnerroles\".\"ref_history\" AS \"tariffpartnerroles_ref_history\", \"tariffpartnerroles\".\"ref_version\" AS \"tariffpartnerroles_ref_version\", \"tariffpartnerroles\".\"ref_super\" AS \"tariffpartnerroles_ref_super\" FROM \"tariffpartnerroles\" WHERE \"id\" = 1 ORDER BY tariffpartnerroles.id ASC\n",
      "└ @ SearchLightPostgreSQL /home/mf/dev/julia_depot/packages/SearchLightPostgreSQL/8KdWH/src/SearchLightPostgreSQL.jl:135\n"
     ]
    },
    {
     "name": "stderr",
     "output_type": "stream",
     "text": [
      "┌ Info: INSERT INTO tariffpartnerrolerevisions ( \"ref_component\", \"ref_validfrom\", \"ref_invalidfrom\", \"ref_role\" ) VALUES ( E'1', E'1', E'9007199254740991', E'1' ) RETURNING id\n",
      "└ @ SearchLightPostgreSQL /home/mf/dev/julia_depot/packages/SearchLightPostgreSQL/8KdWH/src/SearchLightPostgreSQL.jl:135\n",
      "NOTICE:  NEW: (1,1,1,9007199254740991,,1)\n",
      "┌ Info: SELECT \"tariffpartnerrolerevisions\".\"id\" AS \"tariffpartnerrolerevisions_id\", \"tariffpartnerrolerevisions\".\"ref_component\" AS \"tariffpartnerrolerevisions_ref_component\", \"tariffpartnerrolerevisions\".\"ref_validfrom\" AS \"tariffpartnerrolerevisions_ref_validfrom\", \"tariffpartnerrolerevisions\".\"ref_invalidfrom\" AS \"tariffpartnerrolerevisions_ref_invalidfrom\", \"tariffpartnerrolerevisions\".\"ref_role\" AS \"tariffpartnerrolerevisions_ref_role\" FROM \"tariffpartnerrolerevisions\" WHERE \"id\" = 1 ORDER BY tariffpartnerrolerevisions.id ASC\n",
      "└ @ SearchLightPostgreSQL /home/mf/dev/julia_depot/packages/SearchLightPostgreSQL/8KdWH/src/SearchLightPostgreSQL.jl:135\n"
     ]
    },
    {
     "name": "stderr",
     "output_type": "stream",
     "text": [
      "┌ Info: COMMIT\n",
      "└ @ SearchLightPostgreSQL /home/mf/dev/julia_depot/packages/SearchLightPostgreSQL/8KdWH/src/SearchLightPostgreSQL.jl:135\n",
      "┌ Info: BEGIN\n",
      "└ @ SearchLightPostgreSQL /home/mf/dev/julia_depot/packages/SearchLightPostgreSQL/8KdWH/src/SearchLightPostgreSQL.jl:135\n",
      "┌ Info: SELECT \"validityintervals\".\"id\" AS \"validityintervals_id\", \"validityintervals\".\"ref_history\" AS \"validityintervals_ref_history\", \"validityintervals\".\"ref_version\" AS \"validityintervals_ref_version\", \"validityintervals\".\"tsdb_validfrom\" AS \"validityintervals_tsdb_validfrom\", \"validityintervals\".\"tsworld_validfrom\" AS \"validityintervals_tsworld_validfrom\", \"validityintervals\".\"tsdb_invalidfrom\" AS \"validityintervals_tsdb_invalidfrom\", \"validityintervals\".\"tsworld_invalidfrom\" AS \"validityintervals_tsworld_invalidfrom\", \"validityintervals\".\"is_committed\" AS \"validityintervals_is_committed\" FROM \"validityintervals\" WHERE ref_version = E'1' AND is_committed = 0 ORDER BY validityintervals.id ASC\n",
      "└ @ SearchLightPostgreSQL /home/mf/dev/julia_depot/packages/SearchLightPostgreSQL/8KdWH/src/SearchLightPostgreSQL.jl:135\n",
      "┌ Info: SELECT \"validityintervals\".\"id\" AS \"validityintervals_id\", \"validityintervals\".\"ref_history\" AS \"validityintervals_ref_history\", \"validityintervals\".\"ref_version\" AS \"validityintervals_ref_version\", \"validityintervals\".\"tsdb_validfrom\" AS \"validityintervals_tsdb_validfrom\", \"validityintervals\".\"tsworld_validfrom\" AS \"validityintervals_tsworld_validfrom\", \"validityintervals\".\"tsdb_invalidfrom\" AS \"validityintervals_tsdb_invalidfrom\", \"validityintervals\".\"tsworld_invalidfrom\" AS \"validityintervals_tsworld_invalidfrom\", \"validityintervals\".\"is_committed\" AS \"validityintervals_is_committed\" FROM \"validityintervals\" WHERE ref_history = E'1' AND tsrdb @> TIMESTAMPTZ E'2038-01-18T03:14:06.999+00:00' AND tsrworld <@ tstzrange(E'2014-05-31T21:00:01.001+00:00',E'2038-01-19T03:14:06.999+00:00') AND is_committed=1 ORDER BY validityintervals.id ASC\n",
      "└ @ SearchLightPostgreSQL /home/mf/dev/julia_depot/packages/SearchLightPostgreSQL/8KdWH/src/SearchLightPostgreSQL.jl:135\n"
     ]
    },
    {
     "name": "stderr",
     "output_type": "stream",
     "text": [
      "┌ Info: SELECT \"validityintervals\".\"id\" AS \"validityintervals_id\", \"validityintervals\".\"ref_history\" AS \"validityintervals_ref_history\", \"validityintervals\".\"ref_version\" AS \"validityintervals_ref_version\", \"validityintervals\".\"tsdb_validfrom\" AS \"validityintervals_tsdb_validfrom\", \"validityintervals\".\"tsworld_validfrom\" AS \"validityintervals_tsworld_validfrom\", \"validityintervals\".\"tsdb_invalidfrom\" AS \"validityintervals_tsdb_invalidfrom\", \"validityintervals\".\"tsworld_invalidfrom\" AS \"validityintervals_tsworld_invalidfrom\", \"validityintervals\".\"is_committed\" AS \"validityintervals_is_committed\" FROM \"validityintervals\" WHERE ref_history = E'1' AND tsrdb @> TIMESTAMPTZ E'2038-01-18T03:14:06.999+00:00' AND tsrworld && tstzrange(E'2014-05-31T21:00:01.001+00:00',E'2038-01-19T03:14:06.999+00:00') AND is_committed=1 ORDER BY validityintervals.id ASC\n",
      "└ @ SearchLightPostgreSQL /home/mf/dev/julia_depot/packages/SearchLightPostgreSQL/8KdWH/src/SearchLightPostgreSQL.jl:135\n",
      "┌ Info: UPDATE validityintervals SET  \"id\" = E'1', \"ref_history\" = E'1', \"ref_version\" = E'1', \"tsdb_validfrom\" = E'2023-03-26T16:00:38.954+00:00', \"tsworld_validfrom\" = E'2014-05-30T21:00:01.001+00:00', \"tsdb_invalidfrom\" = E'2038-01-19T03:14:06.999+00:00', \"tsworld_invalidfrom\" = E'2038-01-19T03:14:06.999+00:00', \"is_committed\" = 1 WHERE validityintervals.id = '1' RETURNING id\n",
      "└ @ SearchLightPostgreSQL /home/mf/dev/julia_depot/packages/SearchLightPostgreSQL/8KdWH/src/SearchLightPostgreSQL.jl:135\n",
      "NOTICE:  NEW: (1,1,1,\"2014-05-30 21:00:01.001+00\",\"2038-01-19 03:14:06.999+00\",\"2023-03-26 16:00:38.954+00\",\"2038-01-19 03:14:06.999+00\",\"[\"\"2014-05-30 21:00:01.001+00\"\",\"\"2038-01-19 03:14:06.999+00\"\")\",\"[\"\"2023-03-26 16:00:36.629+00\"\",\"\"2038-01-19 03:14:06.999+00\"\")\",1)\n",
      "┌ Info: SELECT \"validityintervals\".\"id\" AS \"validityintervals_id\", \"validityintervals\".\"ref_history\" AS \"validityintervals_ref_history\", \"validityintervals\".\"ref_version\" AS \"validityintervals_ref_version\", \"validityintervals\".\"tsdb_validfrom\" AS \"validityintervals_tsdb_validfrom\", \"validityintervals\".\"tsworld_validfrom\" AS \"validityintervals_tsworld_validfrom\", \"validityintervals\".\"tsdb_invalidfrom\" AS \"validityintervals_tsdb_invalidfrom\", \"validityintervals\".\"tsworld_invalidfrom\" AS \"validityintervals_tsworld_invalidfrom\", \"validityintervals\".\"is_committed\" AS \"validityintervals_is_committed\" FROM \"validityintervals\" WHERE \"id\" = 1 ORDER BY validityintervals.id ASC\n",
      "└ @ SearchLightPostgreSQL /home/mf/dev/julia_depot/packages/SearchLightPostgreSQL/8KdWH/src/SearchLightPostgreSQL.jl:135\n",
      "┌ Info: UPDATE workflows SET  \"id\" = E'1', \"ref_history\" = E'1', \"ref_version\" = E'1', \"tsdb_validfrom\" = E'2023-03-26T16:00:38.954+00:00', \"tsw_validfrom\" = E'2014-05-30T21:00:01.001+00:00', \"is_committed\" = 1, \"type_of_entity\" = E'Tariff' WHERE workflows.id = '1' RETURNING id\n",
      "└ @ SearchLightPostgreSQL /home/mf/dev/julia_depot/packages/SearchLightPostgreSQL/8KdWH/src/SearchLightPostgreSQL.jl:135\n",
      "┌ Info: SELECT \"workflows\".\"id\" AS \"workflows_id\", \"workflows\".\"ref_history\" AS \"workflows_ref_history\", \"workflows\".\"ref_version\" AS \"workflows_ref_version\", \"workflows\".\"tsdb_validfrom\" AS \"workflows_tsdb_validfrom\", \"workflows\".\"tsw_validfrom\" AS \"workflows_tsw_validfrom\", \"workflows\".\"is_committed\" AS \"workflows_is_committed\", \"workflows\".\"type_of_entity\" AS \"workflows_type_of_entity\" FROM \"workflows\" WHERE \"id\" = 1 ORDER BY workflows.id ASC\n",
      "└ @ SearchLightPostgreSQL /home/mf/dev/julia_depot/packages/SearchLightPostgreSQL/8KdWH/src/SearchLightPostgreSQL.jl:135\n",
      "┌ Info: COMMIT\n",
      "└ @ SearchLightPostgreSQL /home/mf/dev/julia_depot/packages/SearchLightPostgreSQL/8KdWH/src/SearchLightPostgreSQL.jl:135\n",
      "┌ Info: BEGIN\n",
      "└ @ SearchLightPostgreSQL /home/mf/dev/julia_depot/packages/SearchLightPostgreSQL/8KdWH/src/SearchLightPostgreSQL.jl:135\n",
      "┌ Info: INSERT INTO histories ( \"dummy\" ) VALUES ( 0 ) RETURNING id\n",
      "└ @ SearchLightPostgreSQL /home/mf/dev/julia_depot/packages/SearchLightPostgreSQL/8KdWH/src/SearchLightPostgreSQL.jl:135\n",
      "┌ Info: SELECT \"histories\".\"id\" AS \"histories_id\", \"histories\".\"dummy\" AS \"histories_dummy\" FROM \"histories\" WHERE \"id\" = 2 ORDER BY histories.id ASC\n",
      "└ @ SearchLightPostgreSQL /home/mf/dev/julia_depot/packages/SearchLightPostgreSQL/8KdWH/src/SearchLightPostgreSQL.jl:135\n",
      "┌ Info: INSERT INTO versions ( \"ref_history\" ) VALUES ( E'2' ) RETURNING id\n",
      "└ @ SearchLightPostgreSQL /home/mf/dev/julia_depot/packages/SearchLightPostgreSQL/8KdWH/src/SearchLightPostgreSQL.jl:135\n",
      "┌ Info: SELECT \"versions\".\"id\" AS \"versions_id\", \"versions\".\"ref_history\" AS \"versions_ref_history\" FROM \"versions\" WHERE \"id\" = 2 ORDER BY versions.id ASC\n",
      "└ @ SearchLightPostgreSQL /home/mf/dev/julia_depot/packages/SearchLightPostgreSQL/8KdWH/src/SearchLightPostgreSQL.jl:135\n",
      "┌ Info: INSERT INTO workflows ( \"ref_history\", \"ref_version\", \"tsdb_validfrom\", \"tsw_validfrom\", \"is_committed\", \"type_of_entity\" ) VALUES ( E'2', E'2', E'2038-01-19T03:14:06.999+00:00', E'2014-05-30T21:00:01.001+00:00', 0, E'Tariff' ) RETURNING id\n",
      "└ @ SearchLightPostgreSQL /home/mf/dev/julia_depot/packages/SearchLightPostgreSQL/8KdWH/src/SearchLightPostgreSQL.jl:135\n",
      "┌ Info: SELECT \"workflows\".\"id\" AS \"workflows_id\", \"workflows\".\"ref_history\" AS \"workflows_ref_history\", \"workflows\".\"ref_version\" AS \"workflows_ref_version\", \"workflows\".\"tsdb_validfrom\" AS \"workflows_tsdb_validfrom\", \"workflows\".\"tsw_validfrom\" AS \"workflows_tsw_validfrom\", \"workflows\".\"is_committed\" AS \"workflows_is_committed\", \"workflows\".\"type_of_entity\" AS \"workflows_type_of_entity\" FROM \"workflows\" WHERE \"id\" = 2 ORDER BY workflows.id ASC\n",
      "└ @ SearchLightPostgreSQL /home/mf/dev/julia_depot/packages/SearchLightPostgreSQL/8KdWH/src/SearchLightPostgreSQL.jl:135\n",
      "┌ Info: INSERT INTO validityintervals ( \"ref_history\", \"ref_version\", \"tsdb_validfrom\", \"tsworld_validfrom\", \"tsdb_invalidfrom\", \"tsworld_invalidfrom\", \"is_committed\" ) VALUES ( E'2', E'2', E'2023-03-26T16:00:39.441+00:00', E'2014-05-30T21:00:01.001+00:00', E'2038-01-19T03:14:06.999+00:00', E'2038-01-19T03:14:06.999+00:00', 0 ) RETURNING id\n",
      "└ @ SearchLightPostgreSQL /home/mf/dev/julia_depot/packages/SearchLightPostgreSQL/8KdWH/src/SearchLightPostgreSQL.jl:135\n",
      "NOTICE:  NEW: (2,2,2,\"2014-05-30 21:00:01.001+00\",\"2038-01-19 03:14:06.999+00\",\"2023-03-26 16:00:39.441+00\",\"2038-01-19 03:14:06.999+00\",,,0)\n",
      "┌ Info: SELECT \"validityintervals\".\"id\" AS \"validityintervals_id\", \"validityintervals\".\"ref_history\" AS \"validityintervals_ref_history\", \"validityintervals\".\"ref_version\" AS \"validityintervals_ref_version\", \"validityintervals\".\"tsdb_validfrom\" AS \"validityintervals_tsdb_validfrom\", \"validityintervals\".\"tsworld_validfrom\" AS \"validityintervals_tsworld_validfrom\", \"validityintervals\".\"tsdb_invalidfrom\" AS \"validityintervals_tsdb_invalidfrom\", \"validityintervals\".\"tsworld_invalidfrom\" AS \"validityintervals_tsworld_invalidfrom\", \"validityintervals\".\"is_committed\" AS \"validityintervals_is_committed\" FROM \"validityintervals\" WHERE \"id\" = 2 ORDER BY validityintervals.id ASC\n",
      "└ @ SearchLightPostgreSQL /home/mf/dev/julia_depot/packages/SearchLightPostgreSQL/8KdWH/src/SearchLightPostgreSQL.jl:135\n",
      "┌ Info: COMMIT\n",
      "└ @ SearchLightPostgreSQL /home/mf/dev/julia_depot/packages/SearchLightPostgreSQL/8KdWH/src/SearchLightPostgreSQL.jl:135\n",
      "┌ Info: BEGIN\n",
      "└ @ SearchLightPostgreSQL /home/mf/dev/julia_depot/packages/SearchLightPostgreSQL/8KdWH/src/SearchLightPostgreSQL.jl:135\n",
      "┌ Info: INSERT INTO tariffs ( \"ref_history\", \"ref_version\" ) VALUES ( E'2', E'2' ) RETURNING id\n",
      "└ @ SearchLightPostgreSQL /home/mf/dev/julia_depot/packages/SearchLightPostgreSQL/8KdWH/src/SearchLightPostgreSQL.jl:135\n",
      "┌ Info: SELECT \"tariffs\".\"id\" AS \"tariffs_id\", \"tariffs\".\"ref_history\" AS \"tariffs_ref_history\", \"tariffs\".\"ref_version\" AS \"tariffs_ref_version\" FROM \"tariffs\" WHERE \"id\" = 2 ORDER BY tariffs.id ASC\n",
      "└ @ SearchLightPostgreSQL /home/mf/dev/julia_depot/packages/SearchLightPostgreSQL/8KdWH/src/SearchLightPostgreSQL.jl:135\n",
      "┌ Info: INSERT INTO tariffrevisions ( \"ref_component\", \"ref_validfrom\", \"ref_invalidfrom\", \"description\", \"interface_id\", \"parameters\", \"mortality_table\" ) VALUES ( E'2', E'2', E'9007199254740991', E'Profit participation', 2, E'{}', E'' ) RETURNING id\n",
      "└ @ SearchLightPostgreSQL /home/mf/dev/julia_depot/packages/SearchLightPostgreSQL/8KdWH/src/SearchLightPostgreSQL.jl:135\n",
      "NOTICE:  NEW: (2,2,2,9007199254740991,,\"Profit participation\",2,\"\",{})\n",
      "┌ Info: SELECT \"tariffrevisions\".\"id\" AS \"tariffrevisions_id\", \"tariffrevisions\".\"ref_component\" AS \"tariffrevisions_ref_component\", \"tariffrevisions\".\"ref_validfrom\" AS \"tariffrevisions_ref_validfrom\", \"tariffrevisions\".\"ref_invalidfrom\" AS \"tariffrevisions_ref_invalidfrom\", \"tariffrevisions\".\"description\" AS \"tariffrevisions_description\", \"tariffrevisions\".\"interface_id\" AS \"tariffrevisions_interface_id\", \"tariffrevisions\".\"parameters\" AS \"tariffrevisions_parameters\", \"tariffrevisions\".\"mortality_table\" AS \"tariffrevisions_mortality_table\" FROM \"tariffrevisions\" WHERE \"id\" = 2 ORDER BY tariffrevisions.id ASC\n",
      "└ @ SearchLightPostgreSQL /home/mf/dev/julia_depot/packages/SearchLightPostgreSQL/8KdWH/src/SearchLightPostgreSQL.jl:135\n",
      "┌ Info: COMMIT\n",
      "└ @ SearchLightPostgreSQL /home/mf/dev/julia_depot/packages/SearchLightPostgreSQL/8KdWH/src/SearchLightPostgreSQL.jl:135\n",
      "┌ Info: BEGIN\n",
      "└ @ SearchLightPostgreSQL /home/mf/dev/julia_depot/packages/SearchLightPostgreSQL/8KdWH/src/SearchLightPostgreSQL.jl:135\n",
      "┌ Info: INSERT INTO tariffpartnerroles ( \"ref_history\", \"ref_version\", \"ref_super\" ) VALUES ( E'2', NULL, E'2' ) RETURNING id\n",
      "└ @ SearchLightPostgreSQL /home/mf/dev/julia_depot/packages/SearchLightPostgreSQL/8KdWH/src/SearchLightPostgreSQL.jl:135\n",
      "┌ Info: SELECT \"tariffpartnerroles\".\"id\" AS \"tariffpartnerroles_id\", \"tariffpartnerroles\".\"ref_history\" AS \"tariffpartnerroles_ref_history\", \"tariffpartnerroles\".\"ref_version\" AS \"tariffpartnerroles_ref_version\", \"tariffpartnerroles\".\"ref_super\" AS \"tariffpartnerroles_ref_super\" FROM \"tariffpartnerroles\" WHERE \"id\" = 2 ORDER BY tariffpartnerroles.id ASC\n",
      "└ @ SearchLightPostgreSQL /home/mf/dev/julia_depot/packages/SearchLightPostgreSQL/8KdWH/src/SearchLightPostgreSQL.jl:135\n",
      "┌ Info: INSERT INTO tariffpartnerrolerevisions ( \"ref_component\", \"ref_validfrom\", \"ref_invalidfrom\", \"ref_role\" ) VALUES ( E'2', E'2', E'9007199254740991', E'1' ) RETURNING id\n",
      "└ @ SearchLightPostgreSQL /home/mf/dev/julia_depot/packages/SearchLightPostgreSQL/8KdWH/src/SearchLightPostgreSQL.jl:135\n",
      "NOTICE:  NEW: (2,2,2,9007199254740991,,1)\n",
      "┌ Info: SELECT \"tariffpartnerrolerevisions\".\"id\" AS \"tariffpartnerrolerevisions_id\", \"tariffpartnerrolerevisions\".\"ref_component\" AS \"tariffpartnerrolerevisions_ref_component\", \"tariffpartnerrolerevisions\".\"ref_validfrom\" AS \"tariffpartnerrolerevisions_ref_validfrom\", \"tariffpartnerrolerevisions\".\"ref_invalidfrom\" AS \"tariffpartnerrolerevisions_ref_invalidfrom\", \"tariffpartnerrolerevisions\".\"ref_role\" AS \"tariffpartnerrolerevisions_ref_role\" FROM \"tariffpartnerrolerevisions\" WHERE \"id\" = 2 ORDER BY tariffpartnerrolerevisions.id ASC\n",
      "└ @ SearchLightPostgreSQL /home/mf/dev/julia_depot/packages/SearchLightPostgreSQL/8KdWH/src/SearchLightPostgreSQL.jl:135\n"
     ]
    },
    {
     "name": "stderr",
     "output_type": "stream",
     "text": [
      "┌ Info: COMMIT\n",
      "└ @ SearchLightPostgreSQL /home/mf/dev/julia_depot/packages/SearchLightPostgreSQL/8KdWH/src/SearchLightPostgreSQL.jl:135\n",
      "┌ Info: BEGIN\n",
      "└ @ SearchLightPostgreSQL /home/mf/dev/julia_depot/packages/SearchLightPostgreSQL/8KdWH/src/SearchLightPostgreSQL.jl:135\n",
      "┌ Info: SELECT \"validityintervals\".\"id\" AS \"validityintervals_id\", \"validityintervals\".\"ref_history\" AS \"validityintervals_ref_history\", \"validityintervals\".\"ref_version\" AS \"validityintervals_ref_version\", \"validityintervals\".\"tsdb_validfrom\" AS \"validityintervals_tsdb_validfrom\", \"validityintervals\".\"tsworld_validfrom\" AS \"validityintervals_tsworld_validfrom\", \"validityintervals\".\"tsdb_invalidfrom\" AS \"validityintervals_tsdb_invalidfrom\", \"validityintervals\".\"tsworld_invalidfrom\" AS \"validityintervals_tsworld_invalidfrom\", \"validityintervals\".\"is_committed\" AS \"validityintervals_is_committed\" FROM \"validityintervals\" WHERE ref_version = E'2' AND is_committed = 0 ORDER BY validityintervals.id ASC\n",
      "└ @ SearchLightPostgreSQL /home/mf/dev/julia_depot/packages/SearchLightPostgreSQL/8KdWH/src/SearchLightPostgreSQL.jl:135\n",
      "┌ Info: SELECT \"validityintervals\".\"id\" AS \"validityintervals_id\", \"validityintervals\".\"ref_history\" AS \"validityintervals_ref_history\", \"validityintervals\".\"ref_version\" AS \"validityintervals_ref_version\", \"validityintervals\".\"tsdb_validfrom\" AS \"validityintervals_tsdb_validfrom\", \"validityintervals\".\"tsworld_validfrom\" AS \"validityintervals_tsworld_validfrom\", \"validityintervals\".\"tsdb_invalidfrom\" AS \"validityintervals_tsdb_invalidfrom\", \"validityintervals\".\"tsworld_invalidfrom\" AS \"validityintervals_tsworld_invalidfrom\", \"validityintervals\".\"is_committed\" AS \"validityintervals_is_committed\" FROM \"validityintervals\" WHERE ref_history = E'2' AND tsrdb @> TIMESTAMPTZ E'2038-01-18T03:14:06.999+00:00' AND tsrworld <@ tstzrange(E'2014-05-31T21:00:01.001+00:00',E'2038-01-19T03:14:06.999+00:00') AND is_committed=1 ORDER BY validityintervals.id ASC\n",
      "└ @ SearchLightPostgreSQL /home/mf/dev/julia_depot/packages/SearchLightPostgreSQL/8KdWH/src/SearchLightPostgreSQL.jl:135\n",
      "┌ Info: SELECT \"validityintervals\".\"id\" AS \"validityintervals_id\", \"validityintervals\".\"ref_history\" AS \"validityintervals_ref_history\", \"validityintervals\".\"ref_version\" AS \"validityintervals_ref_version\", \"validityintervals\".\"tsdb_validfrom\" AS \"validityintervals_tsdb_validfrom\", \"validityintervals\".\"tsworld_validfrom\" AS \"validityintervals_tsworld_validfrom\", \"validityintervals\".\"tsdb_invalidfrom\" AS \"validityintervals_tsdb_invalidfrom\", \"validityintervals\".\"tsworld_invalidfrom\" AS \"validityintervals_tsworld_invalidfrom\", \"validityintervals\".\"is_committed\" AS \"validityintervals_is_committed\" FROM \"validityintervals\" WHERE ref_history = E'2' AND tsrdb @> TIMESTAMPTZ E'2038-01-18T03:14:06.999+00:00' AND tsrworld && tstzrange(E'2014-05-31T21:00:01.001+00:00',E'2038-01-19T03:14:06.999+00:00') AND is_committed=1 ORDER BY validityintervals.id ASC\n",
      "└ @ SearchLightPostgreSQL /home/mf/dev/julia_depot/packages/SearchLightPostgreSQL/8KdWH/src/SearchLightPostgreSQL.jl:135\n",
      "┌ Info: UPDATE validityintervals SET  \"id\" = E'2', \"ref_history\" = E'2', \"ref_version\" = E'2', \"tsdb_validfrom\" = E'2023-03-26T16:00:39.456+00:00', \"tsworld_validfrom\" = E'2014-05-30T21:00:01.001+00:00', \"tsdb_invalidfrom\" = E'2038-01-19T03:14:06.999+00:00', \"tsworld_invalidfrom\" = E'2038-01-19T03:14:06.999+00:00', \"is_committed\" = 1 WHERE validityintervals.id = '2' RETURNING id\n",
      "└ @ SearchLightPostgreSQL /home/mf/dev/julia_depot/packages/SearchLightPostgreSQL/8KdWH/src/SearchLightPostgreSQL.jl:135\n",
      "NOTICE:  NEW: (2,2,2,\"2014-05-30 21:00:01.001+00\",\"2038-01-19 03:14:06.999+00\",\"2023-03-26 16:00:39.456+00\",\"2038-01-19 03:14:06.999+00\",\"[\"\"2014-05-30 21:00:01.001+00\"\",\"\"2038-01-19 03:14:06.999+00\"\")\",\"[\"\"2023-03-26 16:00:39.441+00\"\",\"\"2038-01-19 03:14:06.999+00\"\")\",1)\n",
      "┌ Info: SELECT \"validityintervals\".\"id\" AS \"validityintervals_id\", \"validityintervals\".\"ref_history\" AS \"validityintervals_ref_history\", \"validityintervals\".\"ref_version\" AS \"validityintervals_ref_version\", \"validityintervals\".\"tsdb_validfrom\" AS \"validityintervals_tsdb_validfrom\", \"validityintervals\".\"tsworld_validfrom\" AS \"validityintervals_tsworld_validfrom\", \"validityintervals\".\"tsdb_invalidfrom\" AS \"validityintervals_tsdb_invalidfrom\", \"validityintervals\".\"tsworld_invalidfrom\" AS \"validityintervals_tsworld_invalidfrom\", \"validityintervals\".\"is_committed\" AS \"validityintervals_is_committed\" FROM \"validityintervals\" WHERE \"id\" = 2 ORDER BY validityintervals.id ASC\n",
      "└ @ SearchLightPostgreSQL /home/mf/dev/julia_depot/packages/SearchLightPostgreSQL/8KdWH/src/SearchLightPostgreSQL.jl:135\n",
      "┌ Info: UPDATE workflows SET  \"id\" = E'2', \"ref_history\" = E'2', \"ref_version\" = E'2', \"tsdb_validfrom\" = E'2023-03-26T16:00:39.456+00:00', \"tsw_validfrom\" = E'2014-05-30T21:00:01.001+00:00', \"is_committed\" = 1, \"type_of_entity\" = E'Tariff' WHERE workflows.id = '2' RETURNING id\n",
      "└ @ SearchLightPostgreSQL /home/mf/dev/julia_depot/packages/SearchLightPostgreSQL/8KdWH/src/SearchLightPostgreSQL.jl:135\n",
      "┌ Info: SELECT \"workflows\".\"id\" AS \"workflows_id\", \"workflows\".\"ref_history\" AS \"workflows_ref_history\", \"workflows\".\"ref_version\" AS \"workflows_ref_version\", \"workflows\".\"tsdb_validfrom\" AS \"workflows_tsdb_validfrom\", \"workflows\".\"tsw_validfrom\" AS \"workflows_tsw_validfrom\", \"workflows\".\"is_committed\" AS \"workflows_is_committed\", \"workflows\".\"type_of_entity\" AS \"workflows_type_of_entity\" FROM \"workflows\" WHERE \"id\" = 2 ORDER BY workflows.id ASC\n",
      "└ @ SearchLightPostgreSQL /home/mf/dev/julia_depot/packages/SearchLightPostgreSQL/8KdWH/src/SearchLightPostgreSQL.jl:135\n",
      "┌ Info: COMMIT\n",
      "└ @ SearchLightPostgreSQL /home/mf/dev/julia_depot/packages/SearchLightPostgreSQL/8KdWH/src/SearchLightPostgreSQL.jl:135\n"
     ]
    },
    {
     "data": {
      "text/plain": [
       "2"
      ]
     },
     "metadata": {},
     "output_type": "display_data"
    }
   ],
   "source": [
    "using LifeInsuranceDataModel, LifeInsuranceProduct, SearchLight\n",
    "import SearchLight: Serializer.serialize\n",
    "\n",
    "tif = get_tariff_interface(Val(1))\n",
    "tif.parameters\n",
    "\n",
    "\n",
    "LifeRiskTariff = create_tariff(\"Life Risk Insurance\", 1, \"\", serialize(tif.parameters))\n",
    "ProfitParticipationTariff = create_tariff(\n",
    "    \"Profit participation\", 2,\n",
    "    \"\", \"{}\"\n",
    ")"
   ]
  },
  {
   "cell_type": "code",
   "execution_count": 4,
   "metadata": {},
   "outputs": [
    {
     "name": "stderr",
     "output_type": "stream",
     "text": [
      "┌ Info: SELECT \"contractpartnerroles\".\"id\" AS \"contractpartnerroles_id\", \"contractpartnerroles\".\"domain\" AS \"contractpartnerroles_domain\", \"contractpartnerroles\".\"value\" AS \"contractpartnerroles_value\" FROM \"contractpartnerroles\" ORDER BY contractpartnerroles.id ASC\n",
      "└ @ SearchLightPostgreSQL /home/mf/dev/julia_depot/packages/SearchLightPostgreSQL/8KdWH/src/SearchLightPostgreSQL.jl:135\n",
      "┌ Info: SELECT \"tariffitempartnerroles\".\"id\" AS \"tariffitempartnerroles_id\", \"tariffitempartnerroles\".\"domain\" AS \"tariffitempartnerroles_domain\", \"tariffitempartnerroles\".\"value\" AS \"tariffitempartnerroles_value\" FROM \"tariffitempartnerroles\" ORDER BY tariffitempartnerroles.id ASC\n",
      "└ @ SearchLightPostgreSQL /home/mf/dev/julia_depot/packages/SearchLightPostgreSQL/8KdWH/src/SearchLightPostgreSQL.jl:135\n"
     ]
    },
    {
     "name": "stderr",
     "output_type": "stream",
     "text": [
      "┌ Info: SELECT \"tariffitemroles\".\"id\" AS \"tariffitemroles_id\", \"tariffitemroles\".\"domain\" AS \"tariffitemroles_domain\", \"tariffitemroles\".\"value\" AS \"tariffitemroles_value\" FROM \"tariffitemroles\" ORDER BY tariffitemroles.id ASC\n",
      "└ @ SearchLightPostgreSQL /home/mf/dev/julia_depot/packages/SearchLightPostgreSQL/8KdWH/src/SearchLightPostgreSQL.jl:135\n",
      "┌ Info: SELECT \"productpartroles\".\"id\" AS \"productpartroles_id\", \"productpartroles\".\"domain\" AS \"productpartroles_domain\", \"productpartroles\".\"value\" AS \"productpartroles_value\" FROM \"productpartroles\" ORDER BY productpartroles.id ASC\n",
      "└ @ SearchLightPostgreSQL /home/mf/dev/julia_depot/packages/SearchLightPostgreSQL/8KdWH/src/SearchLightPostgreSQL.jl:135\n"
     ]
    },
    {
     "name": "stderr",
     "output_type": "stream",
     "text": [
      "┌ Info: BEGIN\n",
      "└ @ SearchLightPostgreSQL /home/mf/dev/julia_depot/packages/SearchLightPostgreSQL/8KdWH/src/SearchLightPostgreSQL.jl:135\n",
      "┌ Info: INSERT INTO histories ( \"dummy\" ) VALUES ( 0 ) RETURNING id\n",
      "└ @ SearchLightPostgreSQL /home/mf/dev/julia_depot/packages/SearchLightPostgreSQL/8KdWH/src/SearchLightPostgreSQL.jl:135\n",
      "┌ Info: SELECT \"histories\".\"id\" AS \"histories_id\", \"histories\".\"dummy\" AS \"histories_dummy\" FROM \"histories\" WHERE \"id\" = 3 ORDER BY histories.id ASC\n",
      "└ @ SearchLightPostgreSQL /home/mf/dev/julia_depot/packages/SearchLightPostgreSQL/8KdWH/src/SearchLightPostgreSQL.jl:135\n",
      "┌ Info: INSERT INTO versions ( \"ref_history\" ) VALUES ( E'3' ) RETURNING id\n",
      "└ @ SearchLightPostgreSQL /home/mf/dev/julia_depot/packages/SearchLightPostgreSQL/8KdWH/src/SearchLightPostgreSQL.jl:135\n",
      "┌ Info: SELECT \"versions\".\"id\" AS \"versions_id\", \"versions\".\"ref_history\" AS \"versions_ref_history\" FROM \"versions\" WHERE \"id\" = 3 ORDER BY versions.id ASC\n",
      "└ @ SearchLightPostgreSQL /home/mf/dev/julia_depot/packages/SearchLightPostgreSQL/8KdWH/src/SearchLightPostgreSQL.jl:135\n",
      "┌ Info: INSERT INTO workflows ( \"ref_history\", \"ref_version\", \"tsdb_validfrom\", \"tsw_validfrom\", \"is_committed\", \"type_of_entity\" ) VALUES ( E'3', E'3', E'2038-01-19T03:14:06.999+00:00', E'2023-04-01T21:00:01.001+00:00', 0, E'Product' ) RETURNING id\n",
      "└ @ SearchLightPostgreSQL /home/mf/dev/julia_depot/packages/SearchLightPostgreSQL/8KdWH/src/SearchLightPostgreSQL.jl:135\n",
      "┌ Info: SELECT \"workflows\".\"id\" AS \"workflows_id\", \"workflows\".\"ref_history\" AS \"workflows_ref_history\", \"workflows\".\"ref_version\" AS \"workflows_ref_version\", \"workflows\".\"tsdb_validfrom\" AS \"workflows_tsdb_validfrom\", \"workflows\".\"tsw_validfrom\" AS \"workflows_tsw_validfrom\", \"workflows\".\"is_committed\" AS \"workflows_is_committed\", \"workflows\".\"type_of_entity\" AS \"workflows_type_of_entity\" FROM \"workflows\" WHERE \"id\" = 3 ORDER BY workflows.id ASC\n",
      "└ @ SearchLightPostgreSQL /home/mf/dev/julia_depot/packages/SearchLightPostgreSQL/8KdWH/src/SearchLightPostgreSQL.jl:135\n",
      "┌ Info: INSERT INTO validityintervals ( \"ref_history\", \"ref_version\", \"tsdb_validfrom\", \"tsworld_validfrom\", \"tsdb_invalidfrom\", \"tsworld_invalidfrom\", \"is_committed\" ) VALUES ( E'3', E'3', E'2023-03-26T16:00:42.820+00:00', E'2023-04-01T21:00:01.001+00:00', E'2038-01-19T03:14:06.999+00:00', E'2038-01-19T03:14:06.999+00:00', 0 ) RETURNING id\n",
      "└ @ SearchLightPostgreSQL /home/mf/dev/julia_depot/packages/SearchLightPostgreSQL/8KdWH/src/SearchLightPostgreSQL.jl:135\n",
      "NOTICE:  NEW: (3,3,3,\"2023-04-01 21:00:01.001+00\",\"2038-01-19 03:14:06.999+00\",\"2023-03-26 16:00:42.82+00\",\"2038-01-19 03:14:06.999+00\",,,0)\n",
      "┌ Info: SELECT \"validityintervals\".\"id\" AS \"validityintervals_id\", \"validityintervals\".\"ref_history\" AS \"validityintervals_ref_history\", \"validityintervals\".\"ref_version\" AS \"validityintervals_ref_version\", \"validityintervals\".\"tsdb_validfrom\" AS \"validityintervals_tsdb_validfrom\", \"validityintervals\".\"tsworld_validfrom\" AS \"validityintervals_tsworld_validfrom\", \"validityintervals\".\"tsdb_invalidfrom\" AS \"validityintervals_tsdb_invalidfrom\", \"validityintervals\".\"tsworld_invalidfrom\" AS \"validityintervals_tsworld_invalidfrom\", \"validityintervals\".\"is_committed\" AS \"validityintervals_is_committed\" FROM \"validityintervals\" WHERE \"id\" = 3 ORDER BY validityintervals.id ASC\n",
      "└ @ SearchLightPostgreSQL /home/mf/dev/julia_depot/packages/SearchLightPostgreSQL/8KdWH/src/SearchLightPostgreSQL.jl:135\n",
      "┌ Info: COMMIT\n",
      "└ @ SearchLightPostgreSQL /home/mf/dev/julia_depot/packages/SearchLightPostgreSQL/8KdWH/src/SearchLightPostgreSQL.jl:135\n",
      "┌ Info: BEGIN\n",
      "└ @ SearchLightPostgreSQL /home/mf/dev/julia_depot/packages/SearchLightPostgreSQL/8KdWH/src/SearchLightPostgreSQL.jl:135\n"
     ]
    },
    {
     "name": "stderr",
     "output_type": "stream",
     "text": [
      "┌ Info: INSERT INTO products ( \"ref_history\", \"ref_version\" ) VALUES ( E'3', E'3' ) RETURNING id\n",
      "└ @ SearchLightPostgreSQL /home/mf/dev/julia_depot/packages/SearchLightPostgreSQL/8KdWH/src/SearchLightPostgreSQL.jl:135\n",
      "┌ Info: SELECT \"products\".\"id\" AS \"products_id\", \"products\".\"ref_history\" AS \"products_ref_history\", \"products\".\"ref_version\" AS \"products_ref_version\" FROM \"products\" WHERE \"id\" = 1 ORDER BY products.id ASC\n",
      "└ @ SearchLightPostgreSQL /home/mf/dev/julia_depot/packages/SearchLightPostgreSQL/8KdWH/src/SearchLightPostgreSQL.jl:135\n"
     ]
    },
    {
     "name": "stderr",
     "output_type": "stream",
     "text": [
      "┌ Info: INSERT INTO productrevisions ( \"ref_component\", \"ref_validfrom\", \"ref_invalidfrom\", \"description\" ) VALUES ( E'1', E'3', E'9007199254740991', E'Life Risk' ) RETURNING id\n",
      "└ @ SearchLightPostgreSQL /home/mf/dev/julia_depot/packages/SearchLightPostgreSQL/8KdWH/src/SearchLightPostgreSQL.jl:135\n",
      "NOTICE:  NEW: (1,1,3,9007199254740991,,\"Life Risk\")\n",
      "┌ Info: SELECT \"productrevisions\".\"id\" AS \"productrevisions_id\", \"productrevisions\".\"ref_component\" AS \"productrevisions_ref_component\", \"productrevisions\".\"ref_validfrom\" AS \"productrevisions_ref_validfrom\", \"productrevisions\".\"ref_invalidfrom\" AS \"productrevisions_ref_invalidfrom\", \"productrevisions\".\"description\" AS \"productrevisions_description\" FROM \"productrevisions\" WHERE \"id\" = 1 ORDER BY productrevisions.id ASC\n",
      "└ @ SearchLightPostgreSQL /home/mf/dev/julia_depot/packages/SearchLightPostgreSQL/8KdWH/src/SearchLightPostgreSQL.jl:135\n"
     ]
    },
    {
     "name": "stderr",
     "output_type": "stream",
     "text": [
      "┌ Info: COMMIT\n",
      "└ @ SearchLightPostgreSQL /home/mf/dev/julia_depot/packages/SearchLightPostgreSQL/8KdWH/src/SearchLightPostgreSQL.jl:135\n",
      "┌ Info: BEGIN\n",
      "└ @ SearchLightPostgreSQL /home/mf/dev/julia_depot/packages/SearchLightPostgreSQL/8KdWH/src/SearchLightPostgreSQL.jl:135\n"
     ]
    },
    {
     "name": "stderr",
     "output_type": "stream",
     "text": [
      "┌ Info: INSERT INTO productparts ( \"ref_history\", \"ref_version\", \"ref_super\" ) VALUES ( E'3', E'9007199254740991', E'1' ) RETURNING id\n",
      "└ @ SearchLightPostgreSQL /home/mf/dev/julia_depot/packages/SearchLightPostgreSQL/8KdWH/src/SearchLightPostgreSQL.jl:135\n",
      "┌ Info: SELECT \"productparts\".\"id\" AS \"productparts_id\", \"productparts\".\"ref_history\" AS \"productparts_ref_history\", \"productparts\".\"ref_version\" AS \"productparts_ref_version\", \"productparts\".\"ref_super\" AS \"productparts_ref_super\" FROM \"productparts\" WHERE \"id\" = 1 ORDER BY productparts.id ASC\n",
      "└ @ SearchLightPostgreSQL /home/mf/dev/julia_depot/packages/SearchLightPostgreSQL/8KdWH/src/SearchLightPostgreSQL.jl:135\n"
     ]
    },
    {
     "name": "stderr",
     "output_type": "stream",
     "text": [
      "┌ Info: INSERT INTO productpartrevisions ( \"ref_component\", \"ref_validfrom\", \"ref_invalidfrom\", \"ref_tariff\", \"ref_role\", \"description\" ) VALUES ( E'1', E'3', E'9007199254740991', E'1', E'1', E'Main Coverage - Life' ) RETURNING id\n",
      "└ @ SearchLightPostgreSQL /home/mf/dev/julia_depot/packages/SearchLightPostgreSQL/8KdWH/src/SearchLightPostgreSQL.jl:135\n",
      "NOTICE:  NEW: (1,1,,1,1,3,9007199254740991,,\"Main Coverage - Life\")\n",
      "┌ Info: SELECT \"productpartrevisions\".\"id\" AS \"productpartrevisions_id\", \"productpartrevisions\".\"ref_component\" AS \"productpartrevisions_ref_component\", \"productpartrevisions\".\"ref_validfrom\" AS \"productpartrevisions_ref_validfrom\", \"productpartrevisions\".\"ref_invalidfrom\" AS \"productpartrevisions_ref_invalidfrom\", \"productpartrevisions\".\"ref_tariff\" AS \"productpartrevisions_ref_tariff\", \"productpartrevisions\".\"ref_role\" AS \"productpartrevisions_ref_role\", \"productpartrevisions\".\"description\" AS \"productpartrevisions_description\" FROM \"productpartrevisions\" WHERE \"id\" = 1 ORDER BY productpartrevisions.id ASC\n",
      "└ @ SearchLightPostgreSQL /home/mf/dev/julia_depot/packages/SearchLightPostgreSQL/8KdWH/src/SearchLightPostgreSQL.jl:135\n"
     ]
    },
    {
     "name": "stderr",
     "output_type": "stream",
     "text": [
      "┌ Info: COMMIT\n",
      "└ @ SearchLightPostgreSQL /home/mf/dev/julia_depot/packages/SearchLightPostgreSQL/8KdWH/src/SearchLightPostgreSQL.jl:135\n",
      "┌ Info: BEGIN\n",
      "└ @ SearchLightPostgreSQL /home/mf/dev/julia_depot/packages/SearchLightPostgreSQL/8KdWH/src/SearchLightPostgreSQL.jl:135\n",
      "┌ Info: INSERT INTO productparts ( \"ref_history\", \"ref_version\", \"ref_super\" ) VALUES ( E'3', E'9007199254740991', E'1' ) RETURNING id\n",
      "└ @ SearchLightPostgreSQL /home/mf/dev/julia_depot/packages/SearchLightPostgreSQL/8KdWH/src/SearchLightPostgreSQL.jl:135\n",
      "┌ Info: SELECT \"productparts\".\"id\" AS \"productparts_id\", \"productparts\".\"ref_history\" AS \"productparts_ref_history\", \"productparts\".\"ref_version\" AS \"productparts_ref_version\", \"productparts\".\"ref_super\" AS \"productparts_ref_super\" FROM \"productparts\" WHERE \"id\" = 2 ORDER BY productparts.id ASC\n",
      "└ @ SearchLightPostgreSQL /home/mf/dev/julia_depot/packages/SearchLightPostgreSQL/8KdWH/src/SearchLightPostgreSQL.jl:135\n",
      "┌ Info: INSERT INTO productpartrevisions ( \"ref_component\", \"ref_validfrom\", \"ref_invalidfrom\", \"ref_tariff\", \"ref_role\", \"description\" ) VALUES ( E'2', E'3', E'9007199254740991', E'2', E'4', E'Profit participation Life Risk' ) RETURNING id\n",
      "└ @ SearchLightPostgreSQL /home/mf/dev/julia_depot/packages/SearchLightPostgreSQL/8KdWH/src/SearchLightPostgreSQL.jl:135\n",
      "NOTICE:  NEW: (2,2,,4,2,3,9007199254740991,,\"Profit participation Life Risk\")\n",
      "┌ Info: SELECT \"productpartrevisions\".\"id\" AS \"productpartrevisions_id\", \"productpartrevisions\".\"ref_component\" AS \"productpartrevisions_ref_component\", \"productpartrevisions\".\"ref_validfrom\" AS \"productpartrevisions_ref_validfrom\", \"productpartrevisions\".\"ref_invalidfrom\" AS \"productpartrevisions_ref_invalidfrom\", \"productpartrevisions\".\"ref_tariff\" AS \"productpartrevisions_ref_tariff\", \"productpartrevisions\".\"ref_role\" AS \"productpartrevisions_ref_role\", \"productpartrevisions\".\"description\" AS \"productpartrevisions_description\" FROM \"productpartrevisions\" WHERE \"id\" = 2 ORDER BY productpartrevisions.id ASC\n",
      "└ @ SearchLightPostgreSQL /home/mf/dev/julia_depot/packages/SearchLightPostgreSQL/8KdWH/src/SearchLightPostgreSQL.jl:135\n",
      "┌ Info: COMMIT\n",
      "└ @ SearchLightPostgreSQL /home/mf/dev/julia_depot/packages/SearchLightPostgreSQL/8KdWH/src/SearchLightPostgreSQL.jl:135\n",
      "┌ Info: BEGIN\n",
      "└ @ SearchLightPostgreSQL /home/mf/dev/julia_depot/packages/SearchLightPostgreSQL/8KdWH/src/SearchLightPostgreSQL.jl:135\n",
      "┌ Info: SELECT \"validityintervals\".\"id\" AS \"validityintervals_id\", \"validityintervals\".\"ref_history\" AS \"validityintervals_ref_history\", \"validityintervals\".\"ref_version\" AS \"validityintervals_ref_version\", \"validityintervals\".\"tsdb_validfrom\" AS \"validityintervals_tsdb_validfrom\", \"validityintervals\".\"tsworld_validfrom\" AS \"validityintervals_tsworld_validfrom\", \"validityintervals\".\"tsdb_invalidfrom\" AS \"validityintervals_tsdb_invalidfrom\", \"validityintervals\".\"tsworld_invalidfrom\" AS \"validityintervals_tsworld_invalidfrom\", \"validityintervals\".\"is_committed\" AS \"validityintervals_is_committed\" FROM \"validityintervals\" WHERE ref_version = E'3' AND is_committed = 0 ORDER BY validityintervals.id ASC\n",
      "└ @ SearchLightPostgreSQL /home/mf/dev/julia_depot/packages/SearchLightPostgreSQL/8KdWH/src/SearchLightPostgreSQL.jl:135\n",
      "┌ Info: SELECT \"validityintervals\".\"id\" AS \"validityintervals_id\", \"validityintervals\".\"ref_history\" AS \"validityintervals_ref_history\", \"validityintervals\".\"ref_version\" AS \"validityintervals_ref_version\", \"validityintervals\".\"tsdb_validfrom\" AS \"validityintervals_tsdb_validfrom\", \"validityintervals\".\"tsworld_validfrom\" AS \"validityintervals_tsworld_validfrom\", \"validityintervals\".\"tsdb_invalidfrom\" AS \"validityintervals_tsdb_invalidfrom\", \"validityintervals\".\"tsworld_invalidfrom\" AS \"validityintervals_tsworld_invalidfrom\", \"validityintervals\".\"is_committed\" AS \"validityintervals_is_committed\" FROM \"validityintervals\" WHERE ref_history = E'3' AND tsrdb @> TIMESTAMPTZ E'2038-01-18T03:14:06.999+00:00' AND tsrworld <@ tstzrange(E'2023-04-02T21:00:01.001+00:00',E'2038-01-19T03:14:06.999+00:00') AND is_committed=1 ORDER BY validityintervals.id ASC\n",
      "└ @ SearchLightPostgreSQL /home/mf/dev/julia_depot/packages/SearchLightPostgreSQL/8KdWH/src/SearchLightPostgreSQL.jl:135\n",
      "┌ Info: SELECT \"validityintervals\".\"id\" AS \"validityintervals_id\", \"validityintervals\".\"ref_history\" AS \"validityintervals_ref_history\", \"validityintervals\".\"ref_version\" AS \"validityintervals_ref_version\", \"validityintervals\".\"tsdb_validfrom\" AS \"validityintervals_tsdb_validfrom\", \"validityintervals\".\"tsworld_validfrom\" AS \"validityintervals_tsworld_validfrom\", \"validityintervals\".\"tsdb_invalidfrom\" AS \"validityintervals_tsdb_invalidfrom\", \"validityintervals\".\"tsworld_invalidfrom\" AS \"validityintervals_tsworld_invalidfrom\", \"validityintervals\".\"is_committed\" AS \"validityintervals_is_committed\" FROM \"validityintervals\" WHERE ref_history = E'3' AND tsrdb @> TIMESTAMPTZ E'2038-01-18T03:14:06.999+00:00' AND tsrworld && tstzrange(E'2023-04-02T21:00:01.001+00:00',E'2038-01-19T03:14:06.999+00:00') AND is_committed=1 ORDER BY validityintervals.id ASC\n",
      "└ @ SearchLightPostgreSQL /home/mf/dev/julia_depot/packages/SearchLightPostgreSQL/8KdWH/src/SearchLightPostgreSQL.jl:135\n",
      "┌ Info: UPDATE validityintervals SET  \"id\" = E'3', \"ref_history\" = E'3', \"ref_version\" = E'3', \"tsdb_validfrom\" = E'2023-03-26T16:00:49.100+00:00', \"tsworld_validfrom\" = E'2023-04-01T21:00:01.001+00:00', \"tsdb_invalidfrom\" = E'2038-01-19T03:14:06.999+00:00', \"tsworld_invalidfrom\" = E'2038-01-19T03:14:06.999+00:00', \"is_committed\" = 1 WHERE validityintervals.id = '3' RETURNING id\n",
      "└ @ SearchLightPostgreSQL /home/mf/dev/julia_depot/packages/SearchLightPostgreSQL/8KdWH/src/SearchLightPostgreSQL.jl:135\n",
      "NOTICE:  NEW: (3,3,3,\"2023-04-01 21:00:01.001+00\",\"2038-01-19 03:14:06.999+00\",\"2023-03-26 16:00:49.1+00\",\"2038-01-19 03:14:06.999+00\",\"[\"\"2023-04-01 21:00:01.001+00\"\",\"\"2038-01-19 03:14:06.999+00\"\")\",\"[\"\"2023-03-26 16:00:42.82+00\"\",\"\"2038-01-19 03:14:06.999+00\"\")\",1)\n",
      "┌ Info: SELECT \"validityintervals\".\"id\" AS \"validityintervals_id\", \"validityintervals\".\"ref_history\" AS \"validityintervals_ref_history\", \"validityintervals\".\"ref_version\" AS \"validityintervals_ref_version\", \"validityintervals\".\"tsdb_validfrom\" AS \"validityintervals_tsdb_validfrom\", \"validityintervals\".\"tsworld_validfrom\" AS \"validityintervals_tsworld_validfrom\", \"validityintervals\".\"tsdb_invalidfrom\" AS \"validityintervals_tsdb_invalidfrom\", \"validityintervals\".\"tsworld_invalidfrom\" AS \"validityintervals_tsworld_invalidfrom\", \"validityintervals\".\"is_committed\" AS \"validityintervals_is_committed\" FROM \"validityintervals\" WHERE \"id\" = 3 ORDER BY validityintervals.id ASC\n",
      "└ @ SearchLightPostgreSQL /home/mf/dev/julia_depot/packages/SearchLightPostgreSQL/8KdWH/src/SearchLightPostgreSQL.jl:135\n",
      "┌ Info: UPDATE workflows SET  \"id\" = E'3', \"ref_history\" = E'3', \"ref_version\" = E'3', \"tsdb_validfrom\" = E'2023-03-26T16:00:49.100+00:00', \"tsw_validfrom\" = E'2023-04-01T21:00:01.001+00:00', \"is_committed\" = 1, \"type_of_entity\" = E'Product' WHERE workflows.id = '3' RETURNING id\n",
      "└ @ SearchLightPostgreSQL /home/mf/dev/julia_depot/packages/SearchLightPostgreSQL/8KdWH/src/SearchLightPostgreSQL.jl:135\n",
      "┌ Info: SELECT \"workflows\".\"id\" AS \"workflows_id\", \"workflows\".\"ref_history\" AS \"workflows_ref_history\", \"workflows\".\"ref_version\" AS \"workflows_ref_version\", \"workflows\".\"tsdb_validfrom\" AS \"workflows_tsdb_validfrom\", \"workflows\".\"tsw_validfrom\" AS \"workflows_tsw_validfrom\", \"workflows\".\"is_committed\" AS \"workflows_is_committed\", \"workflows\".\"type_of_entity\" AS \"workflows_type_of_entity\" FROM \"workflows\" WHERE \"id\" = 3 ORDER BY workflows.id ASC\n",
      "└ @ SearchLightPostgreSQL /home/mf/dev/julia_depot/packages/SearchLightPostgreSQL/8KdWH/src/SearchLightPostgreSQL.jl:135\n",
      "┌ Info: COMMIT\n",
      "└ @ SearchLightPostgreSQL /home/mf/dev/julia_depot/packages/SearchLightPostgreSQL/8KdWH/src/SearchLightPostgreSQL.jl:135\n"
     ]
    }
   ],
   "source": [
    "cpRole = Dict{String,Int64}()\n",
    "map(find(LifeInsuranceDataModel.ContractPartnerRole)) do entry\n",
    "    cpRole[entry.value] = entry.id.value\n",
    "end\n",
    "tiprRole = Dict{String,Int64}()\n",
    "map(find(LifeInsuranceDataModel.TariffItemPartnerRole)) do entry\n",
    "    tiprRole[entry.value] = entry.id.value\n",
    "end\n",
    "titrRole = Dict{String,Int64}()\n",
    "map(find(LifeInsuranceDataModel.TariffItemRole)) do entry\n",
    "    titrRole[entry.value] = entry.id.value\n",
    "end\n",
    "\n",
    "ppRole = Dict{String,Int64}()\n",
    "map(find(LifeInsuranceDataModel.ProductPartRole)) do entry\n",
    "    ppRole[entry.value] = entry.id.value\n",
    "end\n",
    "\n",
    "p = Product()\n",
    "pr = ProductRevision(description=\"Life Risk\")\n",
    "\n",
    "pp = ProductPart()\n",
    "ppr = ProductPartRevision(\n",
    "    ref_tariff=LifeRiskTariff,\n",
    "    ref_role=ppRole[\"Main Coverage - Life\"],\n",
    "    description=\"Main Coverage - Life\",\n",
    ")\n",
    "\n",
    "pp2 = ProductPart()\n",
    "ppr2 = ProductPartRevision(\n",
    "    ref_tariff=ProfitParticipationTariff,\n",
    "    ref_role=ppRole[\"Profit participation\"],\n",
    "    description=\"Profit participation Life Risk\",\n",
    ")\n",
    "\n",
    "w0 = Workflow(\n",
    "    type_of_entity=\"Product\",\n",
    "    tsw_validfrom=ZonedDateTime(2023, 4, 1, 21, 0, 1, 1, tz\"UTC\"),\n",
    ")\n",
    "create_entity!(w0)\n",
    "create_component!(p, pr, w0)\n",
    "create_subcomponent!(p, pp, ppr, w0)\n",
    "create_subcomponent!(p, pp2, ppr2, w0)\n",
    "commit_workflow!(w0)"
   ]
  },
  {
   "cell_type": "code",
   "execution_count": 5,
   "metadata": {},
   "outputs": [
    {
     "name": "stderr",
     "output_type": "stream",
     "text": [
      "┌ Info: already connected\n",
      "└ @ LifeInsuranceDataModel /home/mf/dev/julia_depot/packages/LifeInsuranceDataModel/5ovLP/src/LifeInsuranceDataModel.jl:573\n",
      "┌ Info: SELECT \"products\".\"id\" AS \"products_id\", \"products\".\"ref_history\" AS \"products_ref_history\", \"products\".\"ref_version\" AS \"products_ref_version\" FROM \"products\" WHERE id=E'1' ORDER BY products.id ASC\n",
      "└ @ SearchLightPostgreSQL /home/mf/dev/julia_depot/packages/SearchLightPostgreSQL/8KdWH/src/SearchLightPostgreSQL.jl:135\n"
     ]
    },
    {
     "name": "stderr",
     "output_type": "stream",
     "text": [
      "┌ Info: SELECT \"validityintervals\".\"id\" AS \"validityintervals_id\", \"validityintervals\".\"ref_history\" AS \"validityintervals_ref_history\", \"validityintervals\".\"ref_version\" AS \"validityintervals_ref_version\", \"validityintervals\".\"tsdb_validfrom\" AS \"validityintervals_tsdb_validfrom\", \"validityintervals\".\"tsworld_validfrom\" AS \"validityintervals_tsworld_validfrom\", \"validityintervals\".\"tsdb_invalidfrom\" AS \"validityintervals_tsdb_invalidfrom\", \"validityintervals\".\"tsworld_invalidfrom\" AS \"validityintervals_tsworld_invalidfrom\", \"validityintervals\".\"is_committed\" AS \"validityintervals_is_committed\" FROM \"validityintervals\" WHERE ref_history=E'3' and tsrworld @> TIMESTAMPTZ E'2023-04-01T21:00:01.001+00:00' AND tsrdb @> TIMESTAMPTZ E'2023-03-26T16:00:50.652+00:00' AND is_committed = 1 ORDER BY validityintervals.id ASC\n",
      "└ @ SearchLightPostgreSQL /home/mf/dev/julia_depot/packages/SearchLightPostgreSQL/8KdWH/src/SearchLightPostgreSQL.jl:135\n",
      "┌ Info: SELECT \"products\".\"id\" AS \"products_id\", \"products\".\"ref_history\" AS \"products_ref_history\", \"products\".\"ref_version\" AS \"products_ref_version\" FROM \"products\" WHERE ref_history=E'3' ORDER BY products.id ASC\n",
      "└ @ SearchLightPostgreSQL /home/mf/dev/julia_depot/packages/SearchLightPostgreSQL/8KdWH/src/SearchLightPostgreSQL.jl:135\n"
     ]
    },
    {
     "name": "stderr",
     "output_type": "stream",
     "text": [
      "┌ Info: SELECT \"productrevisions\".\"id\" AS \"productrevisions_id\", \"productrevisions\".\"ref_component\" AS \"productrevisions_ref_component\", \"productrevisions\".\"ref_validfrom\" AS \"productrevisions_ref_validfrom\", \"productrevisions\".\"ref_invalidfrom\" AS \"productrevisions_ref_invalidfrom\", \"productrevisions\".\"description\" AS \"productrevisions_description\" FROM \"productrevisions\" WHERE ref_component=E'1' and ref_valid @> BIGINT E'3' ORDER BY productrevisions.id ASC\n",
      "└ @ SearchLightPostgreSQL /home/mf/dev/julia_depot/packages/SearchLightPostgreSQL/8KdWH/src/SearchLightPostgreSQL.jl:135\n",
      "┌ Info: SELECT \"productparts\".\"id\" AS \"productparts_id\", \"productparts\".\"ref_history\" AS \"productparts_ref_history\", \"productparts\".\"ref_version\" AS \"productparts_ref_version\", \"productparts\".\"ref_super\" AS \"productparts_ref_super\" FROM \"productparts\" WHERE ref_history = BIGINT E'3' ORDER BY productparts.id ASC\n",
      "└ @ SearchLightPostgreSQL /home/mf/dev/julia_depot/packages/SearchLightPostgreSQL/8KdWH/src/SearchLightPostgreSQL.jl:135\n"
     ]
    },
    {
     "name": "stderr",
     "output_type": "stream",
     "text": [
      "┌ Info: SELECT \"productpartrevisions\".\"id\" AS \"productpartrevisions_id\", \"productpartrevisions\".\"ref_component\" AS \"productpartrevisions_ref_component\", \"productpartrevisions\".\"ref_validfrom\" AS \"productpartrevisions_ref_validfrom\", \"productpartrevisions\".\"ref_invalidfrom\" AS \"productpartrevisions_ref_invalidfrom\", \"productpartrevisions\".\"ref_tariff\" AS \"productpartrevisions_ref_tariff\", \"productpartrevisions\".\"ref_role\" AS \"productpartrevisions_ref_role\", \"productpartrevisions\".\"description\" AS \"productpartrevisions_description\" FROM \"productpartrevisions\" WHERE ref_component=E'1' and ref_valid @> BIGINT E'3' ORDER BY productpartrevisions.id ASC\n",
      "└ @ SearchLightPostgreSQL /home/mf/dev/julia_depot/packages/SearchLightPostgreSQL/8KdWH/src/SearchLightPostgreSQL.jl:135\n",
      "┌ Info: already connected\n",
      "└ @ LifeInsuranceDataModel /home/mf/dev/julia_depot/packages/LifeInsuranceDataModel/5ovLP/src/LifeInsuranceDataModel.jl:573\n",
      "┌ Info: SELECT \"tariffs\".\"id\" AS \"tariffs_id\", \"tariffs\".\"ref_history\" AS \"tariffs_ref_history\", \"tariffs\".\"ref_version\" AS \"tariffs_ref_version\" FROM \"tariffs\" WHERE id=E'1' ORDER BY tariffs.id ASC\n",
      "└ @ SearchLightPostgreSQL /home/mf/dev/julia_depot/packages/SearchLightPostgreSQL/8KdWH/src/SearchLightPostgreSQL.jl:135\n",
      "┌ Info: SELECT \"validityintervals\".\"id\" AS \"validityintervals_id\", \"validityintervals\".\"ref_history\" AS \"validityintervals_ref_history\", \"validityintervals\".\"ref_version\" AS \"validityintervals_ref_version\", \"validityintervals\".\"tsdb_validfrom\" AS \"validityintervals_tsdb_validfrom\", \"validityintervals\".\"tsworld_validfrom\" AS \"validityintervals_tsworld_validfrom\", \"validityintervals\".\"tsdb_invalidfrom\" AS \"validityintervals_tsdb_invalidfrom\", \"validityintervals\".\"tsworld_invalidfrom\" AS \"validityintervals_tsworld_invalidfrom\", \"validityintervals\".\"is_committed\" AS \"validityintervals_is_committed\" FROM \"validityintervals\" WHERE ref_history=E'1' and tsrworld @> TIMESTAMPTZ E'2023-04-01T21:00:01.001+00:00' AND tsrdb @> TIMESTAMPTZ E'2023-03-26T16:00:50.652+00:00' AND is_committed = 1 ORDER BY validityintervals.id ASC\n",
      "└ @ SearchLightPostgreSQL /home/mf/dev/julia_depot/packages/SearchLightPostgreSQL/8KdWH/src/SearchLightPostgreSQL.jl:135\n",
      "┌ Info: SELECT \"tariffs\".\"id\" AS \"tariffs_id\", \"tariffs\".\"ref_history\" AS \"tariffs_ref_history\", \"tariffs\".\"ref_version\" AS \"tariffs_ref_version\" FROM \"tariffs\" WHERE ref_history=E'1' ORDER BY tariffs.id ASC\n",
      "└ @ SearchLightPostgreSQL /home/mf/dev/julia_depot/packages/SearchLightPostgreSQL/8KdWH/src/SearchLightPostgreSQL.jl:135\n",
      "┌ Info: SELECT \"tariffrevisions\".\"id\" AS \"tariffrevisions_id\", \"tariffrevisions\".\"ref_component\" AS \"tariffrevisions_ref_component\", \"tariffrevisions\".\"ref_validfrom\" AS \"tariffrevisions_ref_validfrom\", \"tariffrevisions\".\"ref_invalidfrom\" AS \"tariffrevisions_ref_invalidfrom\", \"tariffrevisions\".\"description\" AS \"tariffrevisions_description\", \"tariffrevisions\".\"interface_id\" AS \"tariffrevisions_interface_id\", \"tariffrevisions\".\"parameters\" AS \"tariffrevisions_parameters\", \"tariffrevisions\".\"mortality_table\" AS \"tariffrevisions_mortality_table\" FROM \"tariffrevisions\" WHERE ref_component=E'1' and ref_valid @> BIGINT E'1' ORDER BY tariffrevisions.id ASC\n",
      "└ @ SearchLightPostgreSQL /home/mf/dev/julia_depot/packages/SearchLightPostgreSQL/8KdWH/src/SearchLightPostgreSQL.jl:135\n"
     ]
    },
    {
     "name": "stderr",
     "output_type": "stream",
     "text": [
      "┌ Info: SELECT \"tariffpartnerroles\".\"id\" AS \"tariffpartnerroles_id\", \"tariffpartnerroles\".\"ref_history\" AS \"tariffpartnerroles_ref_history\", \"tariffpartnerroles\".\"ref_version\" AS \"tariffpartnerroles_ref_version\", \"tariffpartnerroles\".\"ref_super\" AS \"tariffpartnerroles_ref_super\" FROM \"tariffpartnerroles\" WHERE ref_super=E'1' ORDER BY tariffpartnerroles.id ASC\n",
      "└ @ SearchLightPostgreSQL /home/mf/dev/julia_depot/packages/SearchLightPostgreSQL/8KdWH/src/SearchLightPostgreSQL.jl:135\n",
      "┌ Info: SELECT \"tariffpartnerrolerevisions\".\"id\" AS \"tariffpartnerrolerevisions_id\", \"tariffpartnerrolerevisions\".\"ref_component\" AS \"tariffpartnerrolerevisions_ref_component\", \"tariffpartnerrolerevisions\".\"ref_validfrom\" AS \"tariffpartnerrolerevisions_ref_validfrom\", \"tariffpartnerrolerevisions\".\"ref_invalidfrom\" AS \"tariffpartnerrolerevisions_ref_invalidfrom\", \"tariffpartnerrolerevisions\".\"ref_role\" AS \"tariffpartnerrolerevisions_ref_role\" FROM \"tariffpartnerrolerevisions\" WHERE ref_component=E'1' and ref_valid @> BIGINT E'1' ORDER BY tariffpartnerrolerevisions.id ASC\n",
      "└ @ SearchLightPostgreSQL /home/mf/dev/julia_depot/packages/SearchLightPostgreSQL/8KdWH/src/SearchLightPostgreSQL.jl:135\n"
     ]
    },
    {
     "name": "stderr",
     "output_type": "stream",
     "text": [
      "┌ Info: SELECT \"productpartrevisions\".\"id\" AS \"productpartrevisions_id\", \"productpartrevisions\".\"ref_component\" AS \"productpartrevisions_ref_component\", \"productpartrevisions\".\"ref_validfrom\" AS \"productpartrevisions_ref_validfrom\", \"productpartrevisions\".\"ref_invalidfrom\" AS \"productpartrevisions_ref_invalidfrom\", \"productpartrevisions\".\"ref_tariff\" AS \"productpartrevisions_ref_tariff\", \"productpartrevisions\".\"ref_role\" AS \"productpartrevisions_ref_role\", \"productpartrevisions\".\"description\" AS \"productpartrevisions_description\" FROM \"productpartrevisions\" WHERE ref_component=E'2' and ref_valid @> BIGINT E'3' ORDER BY productpartrevisions.id ASC\n",
      "└ @ SearchLightPostgreSQL /home/mf/dev/julia_depot/packages/SearchLightPostgreSQL/8KdWH/src/SearchLightPostgreSQL.jl:135\n",
      "┌ Info: already connected\n",
      "└ @ LifeInsuranceDataModel /home/mf/dev/julia_depot/packages/LifeInsuranceDataModel/5ovLP/src/LifeInsuranceDataModel.jl:573\n",
      "┌ Info: SELECT \"tariffs\".\"id\" AS \"tariffs_id\", \"tariffs\".\"ref_history\" AS \"tariffs_ref_history\", \"tariffs\".\"ref_version\" AS \"tariffs_ref_version\" FROM \"tariffs\" WHERE id=E'2' ORDER BY tariffs.id ASC\n",
      "└ @ SearchLightPostgreSQL /home/mf/dev/julia_depot/packages/SearchLightPostgreSQL/8KdWH/src/SearchLightPostgreSQL.jl:135\n",
      "┌ Info: SELECT \"validityintervals\".\"id\" AS \"validityintervals_id\", \"validityintervals\".\"ref_history\" AS \"validityintervals_ref_history\", \"validityintervals\".\"ref_version\" AS \"validityintervals_ref_version\", \"validityintervals\".\"tsdb_validfrom\" AS \"validityintervals_tsdb_validfrom\", \"validityintervals\".\"tsworld_validfrom\" AS \"validityintervals_tsworld_validfrom\", \"validityintervals\".\"tsdb_invalidfrom\" AS \"validityintervals_tsdb_invalidfrom\", \"validityintervals\".\"tsworld_invalidfrom\" AS \"validityintervals_tsworld_invalidfrom\", \"validityintervals\".\"is_committed\" AS \"validityintervals_is_committed\" FROM \"validityintervals\" WHERE ref_history=E'2' and tsrworld @> TIMESTAMPTZ E'2023-04-01T21:00:01.001+00:00' AND tsrdb @> TIMESTAMPTZ E'2023-03-26T16:00:50.652+00:00' AND is_committed = 1 ORDER BY validityintervals.id ASC\n",
      "└ @ SearchLightPostgreSQL /home/mf/dev/julia_depot/packages/SearchLightPostgreSQL/8KdWH/src/SearchLightPostgreSQL.jl:135\n",
      "┌ Info: SELECT \"tariffs\".\"id\" AS \"tariffs_id\", \"tariffs\".\"ref_history\" AS \"tariffs_ref_history\", \"tariffs\".\"ref_version\" AS \"tariffs_ref_version\" FROM \"tariffs\" WHERE ref_history=E'2' ORDER BY tariffs.id ASC\n",
      "└ @ SearchLightPostgreSQL /home/mf/dev/julia_depot/packages/SearchLightPostgreSQL/8KdWH/src/SearchLightPostgreSQL.jl:135\n",
      "┌ Info: SELECT \"tariffrevisions\".\"id\" AS \"tariffrevisions_id\", \"tariffrevisions\".\"ref_component\" AS \"tariffrevisions_ref_component\", \"tariffrevisions\".\"ref_validfrom\" AS \"tariffrevisions_ref_validfrom\", \"tariffrevisions\".\"ref_invalidfrom\" AS \"tariffrevisions_ref_invalidfrom\", \"tariffrevisions\".\"description\" AS \"tariffrevisions_description\", \"tariffrevisions\".\"interface_id\" AS \"tariffrevisions_interface_id\", \"tariffrevisions\".\"parameters\" AS \"tariffrevisions_parameters\", \"tariffrevisions\".\"mortality_table\" AS \"tariffrevisions_mortality_table\" FROM \"tariffrevisions\" WHERE ref_component=E'2' and ref_valid @> BIGINT E'2' ORDER BY tariffrevisions.id ASC\n",
      "└ @ SearchLightPostgreSQL /home/mf/dev/julia_depot/packages/SearchLightPostgreSQL/8KdWH/src/SearchLightPostgreSQL.jl:135\n",
      "┌ Info: SELECT \"tariffpartnerroles\".\"id\" AS \"tariffpartnerroles_id\", \"tariffpartnerroles\".\"ref_history\" AS \"tariffpartnerroles_ref_history\", \"tariffpartnerroles\".\"ref_version\" AS \"tariffpartnerroles_ref_version\", \"tariffpartnerroles\".\"ref_super\" AS \"tariffpartnerroles_ref_super\" FROM \"tariffpartnerroles\" WHERE ref_super=E'2' ORDER BY tariffpartnerroles.id ASC\n",
      "└ @ SearchLightPostgreSQL /home/mf/dev/julia_depot/packages/SearchLightPostgreSQL/8KdWH/src/SearchLightPostgreSQL.jl:135\n",
      "┌ Info: SELECT \"tariffpartnerrolerevisions\".\"id\" AS \"tariffpartnerrolerevisions_id\", \"tariffpartnerrolerevisions\".\"ref_component\" AS \"tariffpartnerrolerevisions_ref_component\", \"tariffpartnerrolerevisions\".\"ref_validfrom\" AS \"tariffpartnerrolerevisions_ref_validfrom\", \"tariffpartnerrolerevisions\".\"ref_invalidfrom\" AS \"tariffpartnerrolerevisions_ref_invalidfrom\", \"tariffpartnerrolerevisions\".\"ref_role\" AS \"tariffpartnerrolerevisions_ref_role\" FROM \"tariffpartnerrolerevisions\" WHERE ref_component=E'2' and ref_valid @> BIGINT E'2' ORDER BY tariffpartnerrolerevisions.id ASC\n",
      "└ @ SearchLightPostgreSQL /home/mf/dev/julia_depot/packages/SearchLightPostgreSQL/8KdWH/src/SearchLightPostgreSQL.jl:135\n"
     ]
    },
    {
     "data": {
      "text/plain": [
       "ProductSection(ZonedDateTime(2023, 3, 26, 16, 0, 52, 89, tz\"UTC\"), ZonedDateTime(2023, 3, 26, 16, 0, 52, 89, tz\"UTC\"), 9007199254740991, 9007199254740991, ProductRevision\n",
       "| KEY                   | VALUE            |\n",
       "|-----------------------|------------------|\n",
       "| description::String   | Life Risk        |\n",
       "| id::DbId              | 1                |\n",
       "| ref_component::DbId   | 1                |\n",
       "| ref_invalidfrom::DbId | 9007199254740991 |\n",
       "| ref_validfrom::DbId   | 3                |\n",
       ", ProductPartSection[ProductPartSection(ProductPartRevision\n",
       "| KEY                   | VALUE                |\n",
       "|-----------------------|----------------------|\n",
       "| description::String   | Main Coverage - Life |\n",
       "| id::DbId              | 1                    |\n",
       "| ref_component::DbId   | 1                    |\n",
       "| ref_invalidfrom::DbId | 9007199254740991     |\n",
       "| ref_role::DbId        | 1                    |\n",
       "| ref_tariff::DbId      | 1                    |\n",
       "| ref_validfrom::DbId   | 3                    |\n",
       ", TariffSection(ZonedDateTime(2023, 3, 26, 16, 0, 51, 930, tz\"UTC\"), ZonedDateTime(2023, 3, 26, 16, 0, 51, 930, tz\"UTC\"), 9007199254740991, 9007199254740991, TariffRevision\n",
       "| KEY                     | VALUE                                                                                                                                                                                                                      |\n",
       "|-------------------------|----------------------------------------------------------------------------------------------------------------------------------------------------------------------------------------------------------------------------|\n",
       "| description::String     | Life Risk Insurance                                                                                                                                                                                                        |\n",
       "| id::DbId                | 1                                                                                                                                                                                                                          |\n",
       "| interface_id::Int64     | 1                                                                                                                                                                                                                          |\n",
       "| mortality_table::String |                                                                                                                                                                                                                            |\n",
       "| parameters::String      | {\"mortality_tables\":{\"f\":{\"nonsmoker\":\"1986-92 CIA – Female Nonsmoker, ANB\",\"smoker\":\"1986-92 CIA – Female Smoker, ANB\"},\"m\":{\"nonsmoker\":\"1986-92 CIA – Male Nonsmoker, ANB\",\"smoker\":\"1986-92 CIA – Male Smoker, ANB\"}}} |\n",
       "| ref_component::DbId     | 1                                                                                                                                                                                                                          |\n",
       "| ref_invalidfrom::DbId   | 9007199254740991                                                                                                                                                                                                           |\n",
       "| ref_validfrom::DbId     | 1                                                                                                                                                                                                                          |\n",
       ", TariffPartnerRoleRevision[TariffPartnerRoleRevision\n",
       "| KEY                   | VALUE            |\n",
       "|-----------------------|------------------|\n",
       "| id::DbId              | 1                |\n",
       "| ref_component::DbId   | 1                |\n",
       "| ref_invalidfrom::DbId | 9007199254740991 |\n",
       "| ref_role::DbId        | 1                |\n",
       "| ref_validfrom::DbId   | 1                |\n",
       "])), ProductPartSection(ProductPartRevision\n",
       "| KEY                   | VALUE                          |\n",
       "|-----------------------|--------------------------------|\n",
       "| description::String   | Profit participation Life Risk |\n",
       "| id::DbId              | 2                              |\n",
       "| ref_component::DbId   | 2                              |\n",
       "| ref_invalidfrom::DbId | 9007199254740991               |\n",
       "| ref_role::DbId        | 4                              |\n",
       "| ref_tariff::DbId      | 2                              |\n",
       "| ref_validfrom::DbId   | 3                              |\n",
       ", TariffSection(ZonedDateTime(2023, 3, 26, 16, 0, 51, 941, tz\"UTC\"), ZonedDateTime(2023, 3, 26, 16, 0, 51, 941, tz\"UTC\"), 9007199254740991, 9007199254740991, TariffRevision\n",
       "| KEY                     | VALUE                |\n",
       "|-------------------------|----------------------|\n",
       "| description::String     | Profit participation |\n",
       "| id::DbId                | 2                    |\n",
       "| interface_id::Int64     | 2                    |\n",
       "| mortality_table::String |                      |\n",
       "| parameters::String      | {}                   |\n",
       "| ref_component::DbId     | 2                    |\n",
       "| ref_invalidfrom::DbId   | 9007199254740991     |\n",
       "| ref_validfrom::DbId     | 2                    |\n",
       ", TariffPartnerRoleRevision[TariffPartnerRoleRevision\n",
       "| KEY                   | VALUE            |\n",
       "|-----------------------|------------------|\n",
       "| id::DbId              | 2                |\n",
       "| ref_component::DbId   | 2                |\n",
       "| ref_invalidfrom::DbId | 9007199254740991 |\n",
       "| ref_role::DbId        | 1                |\n",
       "| ref_validfrom::DbId   | 2                |\n",
       "]))])"
      ]
     },
     "metadata": {},
     "output_type": "display_data"
    }
   ],
   "source": [
    "prs = prsection(1, now(tz\"UTC\"), ZonedDateTime(2023, 4, 1, 21, 0, 1, 1, tz\"UTC\"), 0)"
   ]
  },
  {
   "cell_type": "code",
   "execution_count": 6,
   "metadata": {},
   "outputs": [
    {
     "name": "stderr",
     "output_type": "stream",
     "text": [
      "┌ Info: BEGIN\n",
      "└ @ SearchLightPostgreSQL /home/mf/dev/julia_depot/packages/SearchLightPostgreSQL/8KdWH/src/SearchLightPostgreSQL.jl:135\n",
      "┌ Info: INSERT INTO histories ( \"dummy\" ) VALUES ( 0 ) RETURNING id\n",
      "└ @ SearchLightPostgreSQL /home/mf/dev/julia_depot/packages/SearchLightPostgreSQL/8KdWH/src/SearchLightPostgreSQL.jl:135\n",
      "┌ Info: SELECT \"histories\".\"id\" AS \"histories_id\", \"histories\".\"dummy\" AS \"histories_dummy\" FROM \"histories\" WHERE \"id\" = 4 ORDER BY histories.id ASC\n",
      "└ @ SearchLightPostgreSQL /home/mf/dev/julia_depot/packages/SearchLightPostgreSQL/8KdWH/src/SearchLightPostgreSQL.jl:135\n",
      "┌ Info: INSERT INTO versions ( \"ref_history\" ) VALUES ( E'4' ) RETURNING id\n",
      "└ @ SearchLightPostgreSQL /home/mf/dev/julia_depot/packages/SearchLightPostgreSQL/8KdWH/src/SearchLightPostgreSQL.jl:135\n",
      "┌ Info: SELECT \"versions\".\"id\" AS \"versions_id\", \"versions\".\"ref_history\" AS \"versions_ref_history\" FROM \"versions\" WHERE \"id\" = 4 ORDER BY versions.id ASC\n",
      "└ @ SearchLightPostgreSQL /home/mf/dev/julia_depot/packages/SearchLightPostgreSQL/8KdWH/src/SearchLightPostgreSQL.jl:135\n",
      "┌ Info: INSERT INTO workflows ( \"ref_history\", \"ref_version\", \"tsdb_validfrom\", \"tsw_validfrom\", \"is_committed\", \"type_of_entity\" ) VALUES ( E'4', E'4', E'2038-01-19T03:14:06.999+00:00', E'2014-05-30T21:00:01.001+00:00', 0, E'Partner' ) RETURNING id\n",
      "└ @ SearchLightPostgreSQL /home/mf/dev/julia_depot/packages/SearchLightPostgreSQL/8KdWH/src/SearchLightPostgreSQL.jl:135\n",
      "┌ Info: SELECT \"workflows\".\"id\" AS \"workflows_id\", \"workflows\".\"ref_history\" AS \"workflows_ref_history\", \"workflows\".\"ref_version\" AS \"workflows_ref_version\", \"workflows\".\"tsdb_validfrom\" AS \"workflows_tsdb_validfrom\", \"workflows\".\"tsw_validfrom\" AS \"workflows_tsw_validfrom\", \"workflows\".\"is_committed\" AS \"workflows_is_committed\", \"workflows\".\"type_of_entity\" AS \"workflows_type_of_entity\" FROM \"workflows\" WHERE \"id\" = 4 ORDER BY workflows.id ASC\n",
      "└ @ SearchLightPostgreSQL /home/mf/dev/julia_depot/packages/SearchLightPostgreSQL/8KdWH/src/SearchLightPostgreSQL.jl:135\n",
      "┌ Info: INSERT INTO validityintervals ( \"ref_history\", \"ref_version\", \"tsdb_validfrom\", \"tsworld_validfrom\", \"tsdb_invalidfrom\", \"tsworld_invalidfrom\", \"is_committed\" ) VALUES ( E'4', E'4', E'2023-03-26T16:00:56.196+00:00', E'2014-05-30T21:00:01.001+00:00', E'2038-01-19T03:14:06.999+00:00', E'2038-01-19T03:14:06.999+00:00', 0 ) RETURNING id\n",
      "└ @ SearchLightPostgreSQL /home/mf/dev/julia_depot/packages/SearchLightPostgreSQL/8KdWH/src/SearchLightPostgreSQL.jl:135\n",
      "NOTICE:  NEW: (4,4,4,\"2014-05-30 21:00:01.001+00\",\"2038-01-19 03:14:06.999+00\",\"2023-03-26 16:00:56.196+00\",\"2038-01-19 03:14:06.999+00\",,,0)\n",
      "┌ Info: SELECT \"validityintervals\".\"id\" AS \"validityintervals_id\", \"validityintervals\".\"ref_history\" AS \"validityintervals_ref_history\", \"validityintervals\".\"ref_version\" AS \"validityintervals_ref_version\", \"validityintervals\".\"tsdb_validfrom\" AS \"validityintervals_tsdb_validfrom\", \"validityintervals\".\"tsworld_validfrom\" AS \"validityintervals_tsworld_validfrom\", \"validityintervals\".\"tsdb_invalidfrom\" AS \"validityintervals_tsdb_invalidfrom\", \"validityintervals\".\"tsworld_invalidfrom\" AS \"validityintervals_tsworld_invalidfrom\", \"validityintervals\".\"is_committed\" AS \"validityintervals_is_committed\" FROM \"validityintervals\" WHERE \"id\" = 4 ORDER BY validityintervals.id ASC\n",
      "└ @ SearchLightPostgreSQL /home/mf/dev/julia_depot/packages/SearchLightPostgreSQL/8KdWH/src/SearchLightPostgreSQL.jl:135\n",
      "┌ Info: COMMIT\n",
      "└ @ SearchLightPostgreSQL /home/mf/dev/julia_depot/packages/SearchLightPostgreSQL/8KdWH/src/SearchLightPostgreSQL.jl:135\n",
      "┌ Info: BEGIN\n",
      "└ @ SearchLightPostgreSQL /home/mf/dev/julia_depot/packages/SearchLightPostgreSQL/8KdWH/src/SearchLightPostgreSQL.jl:135\n"
     ]
    },
    {
     "name": "stderr",
     "output_type": "stream",
     "text": [
      "┌ Info: INSERT INTO partners ( \"ref_history\", \"ref_version\" ) VALUES ( E'4', E'4' ) RETURNING id\n",
      "└ @ SearchLightPostgreSQL /home/mf/dev/julia_depot/packages/SearchLightPostgreSQL/8KdWH/src/SearchLightPostgreSQL.jl:135\n",
      "┌ Info: SELECT \"partners\".\"id\" AS \"partners_id\", \"partners\".\"ref_history\" AS \"partners_ref_history\", \"partners\".\"ref_version\" AS \"partners_ref_version\" FROM \"partners\" WHERE \"id\" = 1 ORDER BY partners.id ASC\n",
      "└ @ SearchLightPostgreSQL /home/mf/dev/julia_depot/packages/SearchLightPostgreSQL/8KdWH/src/SearchLightPostgreSQL.jl:135\n"
     ]
    },
    {
     "name": "stderr",
     "output_type": "stream",
     "text": [
      "┌ Info: INSERT INTO partnerrevisions ( \"ref_component\", \"ref_validfrom\", \"ref_invalidfrom\", \"description\", \"date_of_birth\" ) VALUES ( E'1', E'4', E'9007199254740991', E'Partner 1', E'2000-01-01' ) RETURNING id\n",
      "└ @ SearchLightPostgreSQL /home/mf/dev/julia_depot/packages/SearchLightPostgreSQL/8KdWH/src/SearchLightPostgreSQL.jl:135\n",
      "NOTICE:  NEW: (1,1,4,9007199254740991,,\"Partner 1\",2000-01-01)\n",
      "┌ Info: SELECT \"partnerrevisions\".\"id\" AS \"partnerrevisions_id\", \"partnerrevisions\".\"ref_component\" AS \"partnerrevisions_ref_component\", \"partnerrevisions\".\"ref_validfrom\" AS \"partnerrevisions_ref_validfrom\", \"partnerrevisions\".\"ref_invalidfrom\" AS \"partnerrevisions_ref_invalidfrom\", \"partnerrevisions\".\"description\" AS \"partnerrevisions_description\", \"partnerrevisions\".\"date_of_birth\" AS \"partnerrevisions_date_of_birth\" FROM \"partnerrevisions\" WHERE \"id\" = 1 ORDER BY partnerrevisions.id ASC\n",
      "└ @ SearchLightPostgreSQL /home/mf/dev/julia_depot/packages/SearchLightPostgreSQL/8KdWH/src/SearchLightPostgreSQL.jl:135\n"
     ]
    },
    {
     "name": "stderr",
     "output_type": "stream",
     "text": [
      "┌ Info: COMMIT\n",
      "└ @ SearchLightPostgreSQL /home/mf/dev/julia_depot/packages/SearchLightPostgreSQL/8KdWH/src/SearchLightPostgreSQL.jl:135\n",
      "┌ Info: BEGIN\n",
      "└ @ SearchLightPostgreSQL /home/mf/dev/julia_depot/packages/SearchLightPostgreSQL/8KdWH/src/SearchLightPostgreSQL.jl:135\n",
      "┌ Info: SELECT \"validityintervals\".\"id\" AS \"validityintervals_id\", \"validityintervals\".\"ref_history\" AS \"validityintervals_ref_history\", \"validityintervals\".\"ref_version\" AS \"validityintervals_ref_version\", \"validityintervals\".\"tsdb_validfrom\" AS \"validityintervals_tsdb_validfrom\", \"validityintervals\".\"tsworld_validfrom\" AS \"validityintervals_tsworld_validfrom\", \"validityintervals\".\"tsdb_invalidfrom\" AS \"validityintervals_tsdb_invalidfrom\", \"validityintervals\".\"tsworld_invalidfrom\" AS \"validityintervals_tsworld_invalidfrom\", \"validityintervals\".\"is_committed\" AS \"validityintervals_is_committed\" FROM \"validityintervals\" WHERE ref_version = E'4' AND is_committed = 0 ORDER BY validityintervals.id ASC\n",
      "└ @ SearchLightPostgreSQL /home/mf/dev/julia_depot/packages/SearchLightPostgreSQL/8KdWH/src/SearchLightPostgreSQL.jl:135\n",
      "┌ Info: SELECT \"validityintervals\".\"id\" AS \"validityintervals_id\", \"validityintervals\".\"ref_history\" AS \"validityintervals_ref_history\", \"validityintervals\".\"ref_version\" AS \"validityintervals_ref_version\", \"validityintervals\".\"tsdb_validfrom\" AS \"validityintervals_tsdb_validfrom\", \"validityintervals\".\"tsworld_validfrom\" AS \"validityintervals_tsworld_validfrom\", \"validityintervals\".\"tsdb_invalidfrom\" AS \"validityintervals_tsdb_invalidfrom\", \"validityintervals\".\"tsworld_invalidfrom\" AS \"validityintervals_tsworld_invalidfrom\", \"validityintervals\".\"is_committed\" AS \"validityintervals_is_committed\" FROM \"validityintervals\" WHERE ref_history = E'4' AND tsrdb @> TIMESTAMPTZ E'2038-01-18T03:14:06.999+00:00' AND tsrworld <@ tstzrange(E'2014-05-31T21:00:01.001+00:00',E'2038-01-19T03:14:06.999+00:00') AND is_committed=1 ORDER BY validityintervals.id ASC\n",
      "└ @ SearchLightPostgreSQL /home/mf/dev/julia_depot/packages/SearchLightPostgreSQL/8KdWH/src/SearchLightPostgreSQL.jl:135\n",
      "┌ Info: SELECT \"validityintervals\".\"id\" AS \"validityintervals_id\", \"validityintervals\".\"ref_history\" AS \"validityintervals_ref_history\", \"validityintervals\".\"ref_version\" AS \"validityintervals_ref_version\", \"validityintervals\".\"tsdb_validfrom\" AS \"validityintervals_tsdb_validfrom\", \"validityintervals\".\"tsworld_validfrom\" AS \"validityintervals_tsworld_validfrom\", \"validityintervals\".\"tsdb_invalidfrom\" AS \"validityintervals_tsdb_invalidfrom\", \"validityintervals\".\"tsworld_invalidfrom\" AS \"validityintervals_tsworld_invalidfrom\", \"validityintervals\".\"is_committed\" AS \"validityintervals_is_committed\" FROM \"validityintervals\" WHERE ref_history = E'4' AND tsrdb @> TIMESTAMPTZ E'2038-01-18T03:14:06.999+00:00' AND tsrworld && tstzrange(E'2014-05-31T21:00:01.001+00:00',E'2038-01-19T03:14:06.999+00:00') AND is_committed=1 ORDER BY validityintervals.id ASC\n",
      "└ @ SearchLightPostgreSQL /home/mf/dev/julia_depot/packages/SearchLightPostgreSQL/8KdWH/src/SearchLightPostgreSQL.jl:135\n",
      "┌ Info: UPDATE validityintervals SET  \"id\" = E'4', \"ref_history\" = E'4', \"ref_version\" = E'4', \"tsdb_validfrom\" = E'2023-03-26T16:01:00.749+00:00', \"tsworld_validfrom\" = E'2014-05-30T21:00:01.001+00:00', \"tsdb_invalidfrom\" = E'2038-01-19T03:14:06.999+00:00', \"tsworld_invalidfrom\" = E'2038-01-19T03:14:06.999+00:00', \"is_committed\" = 1 WHERE validityintervals.id = '4' RETURNING id\n",
      "└ @ SearchLightPostgreSQL /home/mf/dev/julia_depot/packages/SearchLightPostgreSQL/8KdWH/src/SearchLightPostgreSQL.jl:135\n",
      "NOTICE:  NEW: (4,4,4,\"2014-05-30 21:00:01.001+00\",\"2038-01-19 03:14:06.999+00\",\"2023-03-26 16:01:00.749+00\",\"2038-01-19 03:14:06.999+00\",\"[\"\"2014-05-30 21:00:01.001+00\"\",\"\"2038-01-19 03:14:06.999+00\"\")\",\"[\"\"2023-03-26 16:00:56.196+00\"\",\"\"2038-01-19 03:14:06.999+00\"\")\",1)\n",
      "┌ Info: SELECT \"validityintervals\".\"id\" AS \"validityintervals_id\", \"validityintervals\".\"ref_history\" AS \"validityintervals_ref_history\", \"validityintervals\".\"ref_version\" AS \"validityintervals_ref_version\", \"validityintervals\".\"tsdb_validfrom\" AS \"validityintervals_tsdb_validfrom\", \"validityintervals\".\"tsworld_validfrom\" AS \"validityintervals_tsworld_validfrom\", \"validityintervals\".\"tsdb_invalidfrom\" AS \"validityintervals_tsdb_invalidfrom\", \"validityintervals\".\"tsworld_invalidfrom\" AS \"validityintervals_tsworld_invalidfrom\", \"validityintervals\".\"is_committed\" AS \"validityintervals_is_committed\" FROM \"validityintervals\" WHERE \"id\" = 4 ORDER BY validityintervals.id ASC\n",
      "└ @ SearchLightPostgreSQL /home/mf/dev/julia_depot/packages/SearchLightPostgreSQL/8KdWH/src/SearchLightPostgreSQL.jl:135\n",
      "┌ Info: UPDATE workflows SET  \"id\" = E'4', \"ref_history\" = E'4', \"ref_version\" = E'4', \"tsdb_validfrom\" = E'2023-03-26T16:01:00.749+00:00', \"tsw_validfrom\" = E'2014-05-30T21:00:01.001+00:00', \"is_committed\" = 1, \"type_of_entity\" = E'Partner' WHERE workflows.id = '4' RETURNING id\n",
      "└ @ SearchLightPostgreSQL /home/mf/dev/julia_depot/packages/SearchLightPostgreSQL/8KdWH/src/SearchLightPostgreSQL.jl:135\n",
      "┌ Info: SELECT \"workflows\".\"id\" AS \"workflows_id\", \"workflows\".\"ref_history\" AS \"workflows_ref_history\", \"workflows\".\"ref_version\" AS \"workflows_ref_version\", \"workflows\".\"tsdb_validfrom\" AS \"workflows_tsdb_validfrom\", \"workflows\".\"tsw_validfrom\" AS \"workflows_tsw_validfrom\", \"workflows\".\"is_committed\" AS \"workflows_is_committed\", \"workflows\".\"type_of_entity\" AS \"workflows_type_of_entity\" FROM \"workflows\" WHERE \"id\" = 4 ORDER BY workflows.id ASC\n",
      "└ @ SearchLightPostgreSQL /home/mf/dev/julia_depot/packages/SearchLightPostgreSQL/8KdWH/src/SearchLightPostgreSQL.jl:135\n",
      "┌ Info: COMMIT\n",
      "└ @ SearchLightPostgreSQL /home/mf/dev/julia_depot/packages/SearchLightPostgreSQL/8KdWH/src/SearchLightPostgreSQL.jl:135\n"
     ]
    },
    {
     "data": {
      "text/plain": [
       "1"
      ]
     },
     "metadata": {},
     "output_type": "display_data"
    }
   ],
   "source": [
    "\n",
    "# create partner 1\n",
    "p = LifeInsuranceDataModel.Partner()\n",
    "pr = LifeInsuranceDataModel.PartnerRevision(description=\"Partner 1\")\n",
    "w = Workflow(type_of_entity=\"Partner\",\n",
    "    tsw_validfrom=ZonedDateTime(2014, 5, 30, 21, 0, 1, 1, tz\"UTC\"),\n",
    ")\n",
    "create_entity!(w)\n",
    "create_component!(p, pr, w)\n",
    "commit_workflow!(w)\n",
    "Partner1 = p.id"
   ]
  },
  {
   "cell_type": "code",
   "execution_count": null,
   "metadata": {},
   "outputs": [],
   "source": [
    "w1 = Workflow(\n",
    "    type_of_entity=\"Contract\",\n",
    "    tsw_validfrom=ZonedDateTime(2014, 5, 30, 21, 0, 1, 1, tz\"UTC\"),\n",
    ")\n",
    "\n",
    "create_entity!(w1)\n",
    "c = Contract()\n",
    "cr = ContractRevision(description=\"contract creation properties\")\n",
    "create_component!(c, cr, w1)\n",
    "\n",
    "cpr = ContractPartnerRef(ref_super=c.id)\n",
    "cprr = ContractPartnerRefRevision(\n",
    "    ref_partner=Partner1,\n",
    "    ref_role=cpRole[\"Policy Holder\"],\n",
    "    description=\"policiyholder ref properties\",\n",
    ")\n",
    "create_subcomponent!(c, cpr, cprr, w1)\n",
    "# pi 1\n",
    "LifeRiskProduct = find(Product, SQLWhereExpression(\"id=?\", 1))[1].id.value\n",
    "PartnerRole = tiprRole[\"Insured Person\"]\n",
    "\n",
    "cpi = ProductItem(ref_super=c¨.id)\n",
    "cpir = ProductItemRevision(\n",
    "    ref_product=1,\n",
    "    description=\"from contract creation\",\n",
    ")\n",
    "create_subcomponent!(c, cpi, cpir, w1)\n",
    "\n",
    "LifeInsuranceDataModel.create_product_instance(\n",
    "    w1,\n",
    "    cpi,\n",
    "    LifeRiskProduct,\n",
    "    Partner1.value,\n",
    "    PartnerRole,\n",
    ")\n",
    "commit_workflow!(w1)"
   ]
  },
  {
   "cell_type": "code",
   "execution_count": null,
   "metadata": {},
   "outputs": [],
   "source": [
    "cid = 1\n",
    "h = find(Contract, SQLWhereExpression(\"id =?\", cid))[1].ref_history\n",
    "vi = find(ValidityInterval, SQLWhereExpression(\"ref_history=?\", h), order=[\"ValidityInterval.id\"])[1];\n",
    "txntime = vi.tsdb_validfrom\n",
    "reftime = vi.tsworld_validfrom\n",
    "\n",
    "cs = csection(cid, txntime, reftime)\n",
    "\n",
    "ti = cs.product_items[1].tariff_items[1]\n"
   ]
  },
  {
   "cell_type": "code",
   "execution_count": 69,
   "metadata": {},
   "outputs": [
    {
     "ename": "MethodError",
     "evalue": "MethodError: no method matching LifeContingency(::LifeContingency{SingleLife{OffsetArrays.OffsetVector{Float64, Vector{Float64}}, Uniform}, Yields.Constant{Rate{Float64, Periodic}}})\nClosest candidates are:\n  LifeContingency(::L, !Matched::Y) where {L, Y} at ~/dev/julia_depot/packages/LifeContingencies/Bdhsr/src/LifeContingencies.jl:175\n  LifeContingency(!Matched::I) where I<:Insurance at ~/dev/julia_depot/packages/LifeContingencies/Bdhsr/src/LifeContingencies.jl:280",
     "output_type": "error",
     "traceback": [
      "MethodError: no method matching LifeContingency(::LifeContingency{SingleLife{OffsetArrays.OffsetVector{Float64, Vector{Float64}}, Uniform}, Yields.Constant{Rate{Float64, Periodic}}})\n",
      "Closest candidates are:\n",
      "  LifeContingency(::L, !Matched::Y) where {L, Y} at ~/dev/julia_depot/packages/LifeContingencies/Bdhsr/src/LifeContingencies.jl:175\n",
      "  LifeContingency(!Matched::I) where I<:Insurance at ~/dev/julia_depot/packages/LifeContingencies/Bdhsr/src/LifeContingencies.jl:280\n",
      "\n",
      "Stacktrace:\n",
      " [1] top-level scope\n",
      "   @ ~/dev/LifeInsuranceProduct.jl/testAPI.ipynb:25"
     ]
    }
   ],
   "source": [
    "using JSON, LifeInsuranceProduct\n",
    "tariffparms = JSON.parse(ti.tariff_ref.rev.parameters)\n",
    "mts = tariffparms[\"mortality_tables\"]\n",
    "interface_id = ti.tariff_ref.ref.revision.interface_id\n",
    "tgt = get_tariff_interface(Val(interface_id)).calls[\"calculation_target\"]\n",
    "tgt[\"sex\"] = \"f\"\n",
    "tgt[\"smoker\"] = \"nonsmoker\"\n",
    "tgt[\"selected\"] = \"ä\"\n",
    "parms = tgt[tgt[\"selected\"]]\n",
    "parms[\"m\"] = 10\n",
    "parms[\"n\"] = 20\n",
    "parms[\"frequency\"] = 2\n",
    "parms[\"begin\"] = string(Date(\"2023-04-01\"))\n",
    "\n",
    "parms\n",
    "dob = ti.partner_refs[1].ref.revision.date_of_birth\n",
    "issue_age = LifeInsuranceProduct.insurance_age(dob, Date(parms[\"begin\"]))\n",
    "\n",
    "\n",
    "life = SingleLife(\n",
    "    mortality=MortalityTables.table(mts[tgt[\"sex\"]][tgt[\"smoker\"]]).select[issue_age])\n",
    "\n",
    "yield = Yields.Constant(0.0125)      # Using a flat\n",
    "\n",
    "lc = LifeContingency(life,yield)  # LifeContingenc\n",
    "\n",
    "\n",
    "r1 = ä(lc)\n",
    "r2 = ä(lc, 1)\n",
    "r3 = ä(lc, 2)\n",
    "r4 = ä(lc, 30)\n",
    "\n",
    "println(\"r1\")\n",
    "println(r1)\n",
    "println(\"r2\")\n",
    "println(r2)\n",
    "println(\"r3\")\n",
    "println(r3)\n",
    "println(\"r4\")\n",
    "println(r4)\n"
   ]
  },
  {
   "cell_type": "code",
   "execution_count": null,
   "metadata": {},
   "outputs": [],
   "source": [
    "\n",
    "println(\"r1\")\n",
    "println(r1)\n",
    "println(\"r2\")\n",
    "println(r2)\n",
    "println(\"r3\")\n",
    "println(r3)\n",
    "println(\"r4\")\n",
    "println(r4)\n",
    "calculate!(ti)\n",
    "\n",
    "println(ti.tariff_ref.rev)"
   ]
  },
  {
   "cell_type": "code",
   "execution_count": 62,
   "metadata": {},
   "outputs": [
    {
     "data": {
      "text/plain": [
       "36.61266492009452"
      ]
     },
     "metadata": {},
     "output_type": "display_data"
    }
   ],
   "source": [
    "using Dates, LifeContingencies\n",
    "using MortalityTables\n",
    "using Yields\n",
    "import LifeContingencies: V, ä     # pull the shortform notation into scope\n",
    "\n",
    "# load mortality rates from MortalityTables.jl\n",
    "vbt2001 = MortalityTables.table(\"2001 VBT Residual Standard Select and Ultimate - Male Nonsmoker, ANB\")\n",
    "\n",
    "issue_age = 30\n",
    "\n",
    "life = SingleLife(                 # The life underlying the risk\n",
    "    mortality=vbt2001.select[issue_age],    # -- Mortality rates\n",
    ")\n",
    "\n",
    "yield = Yields.Constant(0.0125)      # Using a flat 1,25% interest rate\n",
    "\n",
    "lc = LifeContingency(life, yield)  # LifeContingency joins the risk with interest\n",
    "\n",
    "\n",
    "r1 = ä(lc)\n"
   ]
  }
 ],
 "metadata": {
  "kernelspec": {
   "display_name": "Julia 1.8.2",
   "language": "julia",
   "name": "julia-1.8"
  },
  "language_info": {
   "file_extension": ".jl",
   "mimetype": "application/julia",
   "name": "julia",
   "version": "1.8.2"
  },
  "orig_nbformat": 4
 },
 "nbformat": 4,
 "nbformat_minor": 2
}
