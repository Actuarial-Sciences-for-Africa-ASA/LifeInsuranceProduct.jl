{
 "cells": [
  {
   "cell_type": "code",
   "execution_count": null,
   "metadata": {},
   "outputs": [],
   "source": [
    "using BitemporalPostgres\n",
    "using LifeInsuranceDataModel, LifeInsuranceProduct\n",
    "using SearchLight\n",
    "using SearchLightPostgreSQL\n",
    "using TimeZones\n",
    "SearchLight.Configuration.load() |> SearchLight.connect\n",
    "cid = 1\n",
    "h = find(Contract, SQLWhereExpression(\"id =?\", cid))[1].ref_history\n",
    "vi = find(ValidityInterval, SQLWhereExpression(\"ref_history=?\", h), order=[\"ValidityInterval.id\"])[1];\n",
    "txntime = vi.tsdb_validfrom\n",
    "reftime = vi.tsworld_validfrom\n",
    "\n",
    "cs = csection(cid, txntime, reftime)\n",
    "\n",
    "ti = cs.product_items[1].tariff_items[1]\n",
    "\n",
    "calculate!(ti)\n",
    "\n",
    "println(ti.tariff_ref.rev)"
   ]
  },
  {
   "cell_type": "code",
   "execution_count": 13,
   "metadata": {},
   "outputs": [
    {
     "name": "stdout",
     "output_type": "stream",
     "text": [
      "r1\n",
      "36.61266492009452\n",
      "r2\n",
      "1.0\n",
      "r3\n",
      "1.9873283950617284\n",
      "r4\n",
      "24.718427041373936\n"
     ]
    }
   ],
   "source": [
    "using Dates, LifeContingencies\n",
    "using MortalityTables\n",
    "using Yields\n",
    "import LifeContingencies: V, ä     # pull the shortform notation into scope\n",
    "\n",
    "# load mortality rates from MortalityTables.jl\n",
    "vbt2001 = MortalityTables.table(\"2001 VBT Residual Standard Select and Ultimate - Male Nonsmoker, ANB\")\n",
    "\n",
    "issue_age = 30\n",
    "\n",
    "life = SingleLife(                 # The life underlying the risk\n",
    "    mortality=vbt2001.select[issue_age],    # -- Mortality rates\n",
    ")\n",
    "\n",
    "yield = Yields.Constant(0.0125)      # Using a flat 1,25% interest rate\n",
    "\n",
    "lc = LifeContingency(life, yield)  # LifeContingency joins the risk with interest\n",
    "\n",
    "\n",
    "r1 = ä(life, yield)\n",
    "r2 = ä(life, yield, 1)\n",
    "r3 = ä(life, yield, 2)\n",
    "r4 = ä(life, yield, 30)\n",
    "\n",
    "println(\"r1\")\n",
    "println(r1)\n",
    "println(\"r2\")\n",
    "println(r2)\n",
    "println(\"r3\")\n",
    "println(r3)\n",
    "println(\"r4\")\n",
    "println(r4)"
   ]
  }
 ],
 "metadata": {
  "kernelspec": {
   "display_name": "Julia 1.6.7",
   "language": "julia",
   "name": "julia-1.6"
  },
  "language_info": {
   "file_extension": ".jl",
   "mimetype": "application/julia",
   "name": "julia",
   "version": "1.6.7"
  },
  "orig_nbformat": 4
 },
 "nbformat": 4,
 "nbformat_minor": 2
}
