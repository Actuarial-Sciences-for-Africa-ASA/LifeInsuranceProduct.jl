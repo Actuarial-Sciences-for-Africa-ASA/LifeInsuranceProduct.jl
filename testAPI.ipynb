{
    "cells": [
        {
            "cell_type": "code",
            "execution_count": null,
            "metadata": {},
            "outputs": [],
            "source": [
                "using BitemporalPostgres\n",
                "using LifeInsuranceDataModel, LifeInsuranceProduct\n",
                "using SearchLight\n",
                "using SearchLightPostgreSQL\n",
                "using TimeZones\n",
                "ENV[\"SEARCHLIGHT_USERNAME\"] = \"mf\"\n",
                "ENV[\"SEARCHLIGHT_PASSWORD\"] = \"mf\"\n",
                "SearchLight.Configuration.load() |> SearchLight.connect\n",
                "\n",
                "SearchLight.query(\"DROP SCHEMA public CASCADE\")\n",
                "SearchLight.query(\"CREATE SCHEMA public\")\n",
                "LifeInsuranceDataModel.load_model()"
            ]
        },
        {
            "attachments": {},
            "cell_type": "markdown",
            "metadata": {},
            "source": [
                "Creating Tariffs"
            ]
        },
        {
            "cell_type": "code",
            "execution_count": null,
            "metadata": {},
            "outputs": [],
            "source": [
                "using LifeInsuranceDataModel, LifeInsuranceProduct, SearchLight\n",
                "import SearchLight: Serializer.serialize\n",
                "\n",
                "tif = get_tariff_interface(Val(1))\n",
                "ProfitParticipationTariff = create_tariff(\"Profit participation\", 1, serialize(tif.parameters),serialize(tif.contract_attributes))\n",
                "tif = get_tariff_interface(Val(2))\n",
                "PensionTariff = create_tariff(\"Pension Insurance\", 2, serialize(tif.parameters), serialize(tif.contract_attributes))\n",
                "tif = get_tariff_interface(Val(3))\n",
                "SingleLifeRiskTariff = create_tariff(\"Single Life Risk Insurance\", 3, serialize(tif.parameters), serialize(tif.contract_attributes))\n",
                "tif = get_tariff_interface(Val(4))\n",
                "JointLifeRiskTariff = create_tariff(\"Joint Life Risk Insurance\", 4, serialize(tif.parameters), serialize(tif.contract_attributes),[1,2])\n",
                "\n"
            ]
        },
        {
            "cell_type": "code",
            "execution_count": null,
            "metadata": {},
            "outputs": [],
            "source": [
                "cpRole = Dict{String,Int64}()\n",
                "map(find(LifeInsuranceDataModel.ContractPartnerRole)) do entry\n",
                "    cpRole[entry.value] = entry.id.value\n",
                "end\n",
                "tiprRole = Dict{String,Int64}()\n",
                "map(find(LifeInsuranceDataModel.TariffItemPartnerRole)) do entry\n",
                "    tiprRole[entry.value] = entry.id.value\n",
                "end\n",
                "titrRole = Dict{String,Int64}()\n",
                "map(find(LifeInsuranceDataModel.TariffItemRole)) do entry\n",
                "    titrRole[entry.value] = entry.id.value\n",
                "end\n",
                "\n",
                "ppRole = Dict{String,Int64}()\n",
                "map(find(LifeInsuranceDataModel.ProductPartRole)) do entry\n",
                "    ppRole[entry.value] = entry.id.value\n",
                "end\n"
            ]
        },
        {
            "attachments": {},
            "cell_type": "markdown",
            "metadata": {},
            "source": [
                "Pension Insurance Product"
            ]
        },
        {
            "cell_type": "code",
            "execution_count": null,
            "metadata": {},
            "outputs": [],
            "source": [
                "\n",
                "pensionInsurance = Product()\n",
                "pr = ProductRevision(description=\"Pension\")\n",
                "\n",
                "pp = ProductPart()\n",
                "ppr = ProductPartRevision(\n",
                "    ref_tariff=PensionTariff,\n",
                "    ref_role=ppRole[\"Main Coverage - Life\"],\n",
                "    description=\"Main Coverage - Life\",\n",
                ")\n",
                "\n",
                "pp2 = ProductPart()\n",
                "ppr2 = ProductPartRevision(\n",
                "    ref_tariff=ProfitParticipationTariff,\n",
                "    ref_role=ppRole[\"Profit participation\"],\n",
                "    description=\"Profit participation Life Risk\",\n",
                ")\n",
                "\n",
                "w0 = Workflow(\n",
                "    type_of_entity=\"Product\",\n",
                "    tsw_validfrom=ZonedDateTime(2023, 4, 1, 21, 0, 1, 1, tz\"UTC\"),\n",
                ")\n",
                "create_entity!(w0)\n",
                "create_component!(pensionInsurance, pr, w0)\n",
                "create_subcomponent!(pensionInsurance, pp, ppr, w0)\n",
                "create_subcomponent!(pensionInsurance, pp2, ppr2, w0)\n",
                "commit_workflow!(w0)"
            ]
        },
        {
            "attachments": {},
            "cell_type": "markdown",
            "metadata": {},
            "source": [
                "Single Life Risk Insurance Product"
            ]
        },
        {
            "cell_type": "code",
            "execution_count": null,
            "metadata": {},
            "outputs": [],
            "source": [
                "\n",
                "singlelifeRiskInsurance = Product()\n",
                "pr = ProductRevision(description=\"Single Life Risk\")\n",
                "\n",
                "pp = ProductPart()\n",
                "ppr = ProductPartRevision(\n",
                "    ref_tariff=SingleLifeRiskTariff,\n",
                "    ref_role=ppRole[\"Main Coverage - Life\"],\n",
                "    description=\"Main Coverage - Life\",\n",
                ")\n",
                "\n",
                "pp2 = ProductPart()\n",
                "ppr2 = ProductPartRevision(\n",
                "    ref_tariff=ProfitParticipationTariff,\n",
                "    ref_role=ppRole[\"Profit participation\"],\n",
                "    description=\"Profit participation Life Risk\",\n",
                ")\n",
                "\n",
                "w0 = Workflow(\n",
                "    type_of_entity=\"Product\",\n",
                "    tsw_validfrom=ZonedDateTime(2023, 4, 1, 21, 0, 1, 1, tz\"UTC\"),\n",
                ")\n",
                "create_entity!(w0)\n",
                "create_component!(singlelifeRiskInsurance, pr, w0)\n",
                "create_subcomponent!(singlelifeRiskInsurance, pp, ppr, w0)\n",
                "create_subcomponent!(singlelifeRiskInsurance, pp2, ppr2, w0)\n",
                "commit_workflow!(w0)"
            ]
        },
        {
            "attachments": {},
            "cell_type": "markdown",
            "metadata": {},
            "source": [
                "A Joint Life Risk Insurance Product"
            ]
        },
        {
            "cell_type": "code",
            "execution_count": null,
            "metadata": {},
            "outputs": [],
            "source": [
                "\n",
                "jointlifeRiskInsurance = Product()\n",
                "pr = ProductRevision(description=\"Joint Life Risk\")\n",
                "\n",
                "pp = ProductPart()\n",
                "ppr = ProductPartRevision(\n",
                "    ref_tariff=JointLifeRiskTariff,\n",
                "    ref_role=ppRole[\"Main Coverage - Life\"],\n",
                "    description=\"Main Coverage - Life\",\n",
                ")\n",
                "\n",
                "pp2 = ProductPart()\n",
                "ppr2 = ProductPartRevision(\n",
                "    ref_tariff=ProfitParticipationTariff,\n",
                "    ref_role=ppRole[\"Profit participation\"],\n",
                "    description=\"Profit participation Life Risk\",\n",
                ")\n",
                "\n",
                "w0 = Workflow(\n",
                "    type_of_entity=\"Product\",\n",
                "    tsw_validfrom=ZonedDateTime(2023, 4, 1, 21, 0, 1, 1, tz\"UTC\"),\n",
                ")\n",
                "create_entity!(w0)\n",
                "create_component!(jointlifeRiskInsurance, pr, w0)\n",
                "create_subcomponent!(jointlifeRiskInsurance, pp, ppr, w0)\n",
                "create_subcomponent!(jointlifeRiskInsurance, pp2, ppr2, w0)\n",
                "commit_workflow!(w0)"
            ]
        },
        {
            "cell_type": "code",
            "execution_count": null,
            "metadata": {},
            "outputs": [],
            "source": [
                "prs = prsection(1, now(tz\"UTC\"), ZonedDateTime(2023, 4, 1, 21, 0, 1, 1, tz\"UTC\"), 0)\n",
                "rolesTariffItemPartner = load_role(TariffItemPartnerRole)"
            ]
        },
        {
            "attachments": {},
            "cell_type": "markdown",
            "metadata": {},
            "source": [
                "create partner woman1 nonsmoker"
            ]
        },
        {
            "cell_type": "code",
            "execution_count": null,
            "metadata": {},
            "outputs": [],
            "source": [
                "woman1 = LifeInsuranceDataModel.Partner()\n",
                "pr = LifeInsuranceDataModel.PartnerRevision(description=\"woman 1\",sex=\"f\",smoker=false)\n",
                "w = Workflow(type_of_entity=\"Partner\",\n",
                "    tsw_validfrom=ZonedDateTime(2014, 5, 30, 21, 0, 1, 1, tz\"UTC\"),\n",
                ")\n",
                "create_entity!(w)\n",
                "create_component!(woman1, pr, w)\n",
                "commit_workflow!(w)"
            ]
        },
        {
            "attachments": {},
            "cell_type": "markdown",
            "metadata": {},
            "source": [
                "create partner woman2 smoker"
            ]
        },
        {
            "cell_type": "code",
            "execution_count": null,
            "metadata": {},
            "outputs": [],
            "source": [
                "woman2 = LifeInsuranceDataModel.Partner()\n",
                "pr = LifeInsuranceDataModel.PartnerRevision(description=\"woman 2\",sex=\"f\",smoker=true)\n",
                "w = Workflow(type_of_entity=\"Partner\",\n",
                "    tsw_validfrom=ZonedDateTime(2014, 5, 30, 21, 0, 1, 1, tz\"UTC\"),\n",
                ")\n",
                "create_entity!(w)\n",
                "create_component!(woman2, pr, w)\n",
                "commit_workflow!(w)"
            ]
        },
        {
            "attachments": {},
            "cell_type": "markdown",
            "metadata": {},
            "source": [
                "create partner man1 nonsmoker"
            ]
        },
        {
            "cell_type": "code",
            "execution_count": null,
            "metadata": {},
            "outputs": [],
            "source": [
                "man1 = LifeInsuranceDataModel.Partner()\n",
                "pr = LifeInsuranceDataModel.PartnerRevision(description=\"man 1\",sex=\"m\",smoker=false)\n",
                "w = Workflow(type_of_entity=\"Partner\",\n",
                "    tsw_validfrom=ZonedDateTime(2014, 5, 30, 21, 0, 1, 1, tz\"UTC\"),\n",
                ")\n",
                "create_entity!(w)\n",
                "create_component!(man1, pr, w)\n",
                "commit_workflow!(w)\n",
                "man1"
            ]
        },
        {
            "attachments": {},
            "cell_type": "markdown",
            "metadata": {},
            "source": [
                "create partner man2 smoker"
            ]
        },
        {
            "cell_type": "code",
            "execution_count": null,
            "metadata": {},
            "outputs": [],
            "source": [
                "man2 = LifeInsuranceDataModel.Partner()\n",
                "pr = LifeInsuranceDataModel.PartnerRevision(description=\"man 2\",sex=\"m\",smoker=true)\n",
                "w = Workflow(type_of_entity=\"Partner\",\n",
                "    tsw_validfrom=ZonedDateTime(2014, 5, 30, 21, 0, 1, 1, tz\"UTC\"),\n",
                ")\n",
                "create_entity!(w)\n",
                "create_component!(man2, pr, w)\n",
                "commit_workflow!(w)"
            ]
        },
        {
            "attachments": {},
            "cell_type": "markdown",
            "metadata": {},
            "source": [
                "Contract woman nonsmoker pension"
            ]
        },
        {
            "cell_type": "code",
            "execution_count": null,
            "metadata": {},
            "outputs": [],
            "source": [
                "w1 = Workflow(\n",
                "    type_of_entity=\"Contract\",\n",
                "    tsw_validfrom=ZonedDateTime(2014, 5, 30, 21, 0, 1, 1, tz\"UTC\"),\n",
                ")\n",
                "\n",
                "create_entity!(w1)\n",
                "c = Contract()\n",
                "cr = ContractRevision(description=\"contract creation properties\")\n",
                "create_component!(c, cr, w1)\n",
                "\n",
                "cpr = ContractPartnerRef(ref_super=c.id)\n",
                "cprr = ContractPartnerRefRevision(\n",
                "    ref_partner=woman1.id,\n",
                "    ref_role=cpRole[\"Policy Holder\"],\n",
                "    description=\"policiyholder ref properties\",\n",
                ")\n",
                "create_subcomponent!(c, cpr, cprr, w1)\n",
                "# pi 1\n",
                "\n",
                "PartnerRole = tiprRole[\"Insured Person\"]\n",
                "PartnerroleMap = Dict{Integer,PartnerSection}()\n",
                "PartnerroleMap[PartnerRole] = psection(woman1.id.value, now(tz\"UTC\"), w1.tsw_validfrom, 0)\n",
                "\n",
                "cpi = ProductItem(ref_super=c.id)\n",
                "cpir = ProductItemRevision(\n",
                "    ref_product=pensionInsurance.id,\n",
                "    description=\"from contract creation\",\n",
                ")\n",
                "create_subcomponent!(c, cpi, cpir, w1)\n",
                "\n",
                "LifeInsuranceDataModel.create_product_instance(\n",
                "    w1,\n",
                "    cpi,\n",
                "    pensionInsurance.id.value,\n",
                "    PartnerroleMap\n",
                ")\n",
                "commit_workflow!(w1)"
            ]
        },
        {
            "attachments": {},
            "cell_type": "markdown",
            "metadata": {},
            "source": [
                "Contract man smoker woman nonsmoker joint life"
            ]
        },
        {
            "cell_type": "code",
            "execution_count": null,
            "metadata": {},
            "outputs": [],
            "source": [
                "w1 = Workflow(\n",
                "    type_of_entity=\"Contract\",\n",
                "    tsw_validfrom=ZonedDateTime(2014, 5, 30, 21, 0, 1, 1, tz\"UTC\"),\n",
                ")\n",
                "\n",
                "create_entity!(w1)\n",
                "c = Contract()\n",
                "cr = ContractRevision(description=\"contract creation properties\")\n",
                "create_component!(c, cr, w1)\n",
                "\n",
                "cpr = ContractPartnerRef(ref_super=c.id)\n",
                "cprr = ContractPartnerRefRevision(\n",
                "    ref_partner=woman2.id,\n",
                "    ref_role=cpRole[\"Policy Holder\"],\n",
                "    description=\"policyholder ref properties\",\n",
                ")\n",
                "\n",
                "create_subcomponent!(c, cpr, cprr, w1)\n",
                "# pi 1\n",
                "PartnerroleMap = Dict{Integer,PartnerSection}()\n",
                "PartnerRole = tiprRole[\"Insured Person\"]\n",
                "PartnerroleMap[PartnerRole] = psection(woman1.id.value, now(tz\"UTC\"), w1.tsw_validfrom, 0)\n",
                "PartnerRole = tiprRole[\"2nd Insured Person\"]\n",
                "PartnerroleMap[PartnerRole] = psection(man1.id.value, now(tz\"UTC\"), w1.tsw_validfrom, 0)\n",
                "\n",
                "\n",
                "cpi = ProductItem(ref_super=c.id)\n",
                "cpir = ProductItemRevision(\n",
                "    ref_product=jointlifeRiskInsurance.id.value,\n",
                "    description=\"from contract creation\",\n",
                ")\n",
                "create_subcomponent!(c, cpi, cpir, w1)\n",
                "\n",
                "LifeInsuranceDataModel.create_product_instance(\n",
                "    w1,\n",
                "    cpi,\n",
                "    jointlifeRiskInsurance.id.value,\n",
                "    PartnerroleMap,\n",
                ")\n",
                "commit_workflow!(w1)"
            ]
        },
        {
            "attachments": {},
            "cell_type": "markdown",
            "metadata": {},
            "source": [
                "contract man smoker single life risk"
            ]
        },
        {
            "cell_type": "code",
            "execution_count": null,
            "metadata": {},
            "outputs": [],
            "source": [
                "w1 = Workflow(\n",
                "    type_of_entity=\"Contract\",\n",
                "    tsw_validfrom=ZonedDateTime(2014, 5, 30, 21, 0, 1, 1, tz\"UTC\"),\n",
                ")\n",
                "\n",
                "create_entity!(w1)\n",
                "c = Contract()\n",
                "cr = ContractRevision(description=\"contract creation properties\")\n",
                "create_component!(c, cr, w1)\n",
                "\n",
                "cpr = ContractPartnerRef(ref_super=c.id)\n",
                "cprr = ContractPartnerRefRevision(\n",
                "    ref_partner=man2.id,\n",
                "    ref_role=cpRole[\"Policy Holder\"],\n",
                "    description=\"policiyholder ref properties\",\n",
                ")\n",
                "create_subcomponent!(c, cpr, cprr, w1)\n",
                "# pi 1\n",
                "\n",
                "PartnerRole = tiprRole[\"Insured Person\"]\n",
                "PartnerroleMap = Dict{Integer,PartnerSection}()\n",
                "PartnerroleMap[PartnerRole] = psection(man2.id.value, now(tz\"UTC\"), w1.tsw_validfrom, 0)\n",
                "\n",
                "cpi = ProductItem(ref_super=c.id)\n",
                "cpir = ProductItemRevision(\n",
                "    ref_product=singlelifeRiskInsurance.id,\n",
                "    description=\"from contract creation\",\n",
                ")\n",
                "create_subcomponent!(c, cpi, cpir, w1)\n",
                "\n",
                "LifeInsuranceDataModel.create_product_instance(\n",
                "    w1,\n",
                "    cpi,\n",
                "    singlelifeRiskInsurance.id.value,\n",
                "    PartnerroleMap\n",
                ")\n",
                "commit_workflow!(w1)"
            ]
        },
        {
            "attachments": {},
            "cell_type": "markdown",
            "metadata": {},
            "source": [
                "calculation pension insurance net preminum"
            ]
        },
        {
            "cell_type": "code",
            "execution_count": null,
            "metadata": {},
            "outputs": [],
            "source": [
                "cid = 1\n",
                "h = find(Contract, SQLWhereExpression(\"id =?\", cid))[1].ref_history\n",
                "vi = find(ValidityInterval, SQLWhereExpression(\"ref_history=?\", h), order=[\"ValidityInterval.id\"])[1];\n",
                "txntime = vi.tsdb_validfrom\n",
                "reftime = vi.tsworld_validfrom\n",
                "\n",
                "cs = csection(cid, txntime, reftime)\n",
                "\n",
                "ti = cs.product_items[1].tariff_items[1]\n"
            ]
        },
        {
            "cell_type": "code",
            "execution_count": null,
            "metadata": {},
            "outputs": [],
            "source": [
                "using JSON, LifeInsuranceProduct,MortalityTables,LifeContingencies,Yields\n",
                "import LifeContingencies: ä, A\n",
                "tariffparms = JSON.parse(ti.tariff_ref.ref.revision.parameters)\n",
                "mts = tariffparms[\"mortality_tables\"]\n",
                "interface_id = ti.tariff_ref.ref.revision.interface_id\n",
                "parms = get_tariff_interface(Val(interface_id)).calls\n",
                "args=parms[\"calculation_target\"]\n",
                "args[\"selected\"] = \"net premium\"\n",
                "args[\"net premium\"][\"pension rate\"][\"value\"] = \"500\"\n",
                "args[\"net premium\"][\"m\"][\"value\"] = \"10\"\n",
                "args[\"net premium\"][\"n\"][\"value\"] = \"20\"\n",
                "args[\"net premium\"][\"frequency\"][\"value\"] = \"2\"\n",
                "args[\"net premium\"][\"begin\"][\"value\"] = string(Date(\"2023-04-01\"))\n",
                "parms\n",
                "parms[\"calculation_target\"]\n",
                "calculate!(Val(interface_id),ti,parms)\n",
                "parms[\"result\"]"
            ]
        },
        {
            "cell_type": "code",
            "execution_count": null,
            "metadata": {},
            "outputs": [],
            "source": [
                "tariffparms = JSON.parse(ti.tariff_ref.ref.revision.parameters)\n",
                "println(tariffparms)\n",
                "interface_id = ti.tariff_ref.ref.revision.interface_id\n",
                "mts = tariffparms[\"mortality_tables\"]\n",
                "i = tariffparms[\"interest rate\"]\n",
                "tgt = get_tariff_interface(Val(interface_id)).calls[\"calculation_target\"]\n",
                "tgt[\"selected\"] = \"net premium\"\n",
                "parms = tgt[tgt[\"selected\"]]\n",
                "parms[\"m\"] = 10\n",
                "parms[\"n\"] = 20\n",
                "parms[\"frequency\"] = 2\n",
                "parms[\"begin\"] = string(Date(\"2023-04-01\"))\n",
                "\n",
                "\n",
                "# accessiong partner LifeInsuranceDataModel\n",
                "dob = ti.partner_refs[1].ref.revision.date_of_birth\n",
                "smoker = ti.partner_refs[1].ref.revision.smoker ? \"smoker\" : \"nonsmoker\"\n",
                "sex = ti.partner_refs[1].ref.revision.sex\n",
                "# accessing tariff data\n",
                "\n",
                "issue_age = TariffUtilities.insurance_age(dob, Date(parms[\"begin\"]))\n",
                "\n",
                "life = SingleLife(\n",
                "    mortality=MortalityTables.table(mts[sex][smoker]).select[issue_age])\n",
                "\n",
                "yield = Yields.Constant(i)      # Using a flat\n",
                "\n",
                "lc = LifeContingency(life,yield)  # LifeContingenc\n",
                "\n",
                "\n",
                "r1 = ä(lc)\n",
                "r2 = ä(lc,1)\n",
                "r3 = ä(lc, 2)\n",
                "r4 = ä(lc, 30)\n",
                "\n",
                "println(\"r1\")\n",
                "println(r1)\n",
                "println(\"r2\")\n",
                "println(r2)\n",
                "println(\"r3\")\n",
                "println(r3)\n",
                "println(\"r4\")\n",
                "println(r4)\n",
                "r4"
            ]
        },
        {
            "cell_type": "code",
            "execution_count": null,
            "metadata": {},
            "outputs": [],
            "source": [
                "cid = 2\n",
                "h = find(Contract, SQLWhereExpression(\"id =?\", cid))[1].ref_history\n",
                "vi = find(ValidityInterval, SQLWhereExpression(\"ref_history=?\", h), order=[\"ValidityInterval.id\"])[1];\n",
                "txntime = vi.tsdb_validfrom\n",
                "reftime = vi.tsworld_validfrom\n",
                "\n",
                "cs = csection(cid, txntime, reftime)\n",
                "\n",
                "ti = cs.product_items[1].tariff_items[1]\n",
                "\n",
                "tariffparms = JSON.parse(ti.tariff_ref.ref.revision.parameters)\n",
                "println(tariffparms)\n",
                "mts = tariffparms[\"mortality_tables\"]\n",
                "i = tariffparms[\"interest rate\"]\n",
                "interface_id = ti.tariff_ref.ref.revision.interface_id\n",
                "tgt = get_tariff_interface(Val(interface_id)).calls[\"calculation_target\"]\n",
                "tgt[\"selected\"] = \"net premium\"\n",
                "parms = tgt[tgt[\"selected\"]]\n",
                "parms[\"m\"] = 10\n",
                "parms[\"n\"] = 20\n",
                "parms[\"frequency\"] = 2\n",
                "parms[\"begin\"] = string(Date(\"2023-04-01\"))\n",
                "\n",
                "# accessiong partner LifeInsuranceDataModel\n",
                "dob1 = ti.partner_refs[1].ref.revision.date_of_birth\n",
                "smoker1 = ti.partner_refs[1].ref.revision.smoker ? \"smoker\" : \"nonsmoker\"\n",
                "sex1 = ti.partner_refs[1].ref.revision.sex\n",
                "issue_age1 = TariffUtilities.insurance_age(dob1, Date(parms[\"begin\"]))\n",
                "\n",
                "dob2 = ti.partner_refs[2].ref.revision.date_of_birth\n",
                "smoker2 = ti.partner_refs[2].ref.revision.smoker ? \"smoker\" : \"nonsmoker\"\n",
                "sex2 = ti.partner_refs[2].ref.revision.sex\n",
                "issue_age2 = TariffUtilities.insurance_age(dob2, Date(parms[\"begin\"]))\n",
                "\n",
                "# accessing tariff data\n",
                "\n",
                "\n",
                "life1 = SingleLife(\n",
                "    mortality=MortalityTables.table(mts[sex1][smoker1]).select[issue_age1])\n",
                "life2 = SingleLife(\n",
                "    mortality=MortalityTables.table(mts[sex2][smoker2]).select[issue_age2])\n",
                " jl= JointLife(lives=(life1,life2))\n",
                "\n",
                "yield = Yields.Constant(i)      # Using a flat\n",
                "\n",
                "lc = LifeContingency(jl, yield)  # LifeContingenc\n",
                "\n",
                "n=30\n",
                "c=5000\n",
                "r1 = A(lc,30)\n",
                "r2=ä(lc,n)\n",
                "5000 * A(lc, 30) / ä(lc, 30, frequency=1n)\n",
                "A(lc,30)#\n",
                " #/ ä(lc, 30,frequency=1n)\n",
                " i"
            ]
        }
    ],
    "metadata": {
        "kernelspec": {
            "display_name": "Julia 1.8.2",
            "language": "julia",
            "name": "julia-1.8"
        },
        "language_info": {
            "file_extension": ".jl",
            "mimetype": "application/julia",
            "name": "julia",
            "version": "1.8.2"
        },
        "orig_nbformat": 4
    },
    "nbformat": 4,
    "nbformat_minor": 2
}